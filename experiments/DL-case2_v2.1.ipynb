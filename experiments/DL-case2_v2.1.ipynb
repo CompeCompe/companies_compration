{
 "cells": [
  {
   "cell_type": "markdown",
   "metadata": {
    "id": "5KugeJq25e6p"
   },
   "source": [
    "Задача: необходимо разработать модель, которая будет \"сравнивать\" названия компаний из двух столбцов таблицы и выдавать являются ли они \"одинаковыми\". Реализовать поисковой движок по данному датасету. Тестовых данных не будет, нужно разделить полученный датасет на трейн, вал, и тест."
   ]
  },
  {
   "cell_type": "markdown",
   "metadata": {
    "id": "raw7qRai58yI"
   },
   "source": [
    "---"
   ]
  },
  {
   "cell_type": "markdown",
   "metadata": {
    "id": "ij_ICvnv6BBv"
   },
   "source": [
    "Содержание:\n",
    "\n",
    "0. Загрузка и обзор данных\n",
    "1. Очистка данных\n",
    "2. Бейзлайн - TF-IDF + LogReg\n",
    "3. Решение членов команды\n",
    "4. Поиск дубликата в БД"
   ]
  },
  {
   "cell_type": "markdown",
   "metadata": {
    "id": "y4EAcIEl6YUo"
   },
   "source": [
    "# 0. Загрузка и обзор данных"
   ]
  },
  {
   "cell_type": "code",
   "execution_count": 1,
   "metadata": {
    "executionInfo": {
     "elapsed": 1674,
     "status": "ok",
     "timestamp": 1666709220338,
     "user": {
      "displayName": "Kirill Pribludenko",
      "userId": "11323114555404963403"
     },
     "user_tz": -180
    },
    "id": "SpZPHFgj5Zne"
   },
   "outputs": [],
   "source": [
    "import pandas as pd\n",
    "import numpy as np\n",
    "import re\n",
    "\n",
    "from sklearn.feature_extraction.text import TfidfVectorizer\n",
    "from sklearn.model_selection import GridSearchCV, train_test_split\n",
    "from sklearn.metrics import f1_score, classification_report, roc_auc_score\n",
    "\n",
    "from sklearn.linear_model import LogisticRegression"
   ]
  },
  {
   "cell_type": "code",
   "execution_count": null,
   "metadata": {
    "colab": {
     "base_uri": "https://localhost:8080/"
    },
    "executionInfo": {
     "elapsed": 4735,
     "status": "ok",
     "timestamp": 1666709227536,
     "user": {
      "displayName": "Kirill Pribludenko",
      "userId": "11323114555404963403"
     },
     "user_tz": -180
    },
    "id": "1d7R8etl6kcR",
    "outputId": "4a80e614-f3f4-4088-e202-4cb0c66ae1dc"
   },
   "outputs": [],
   "source": [
    "#!gdown 1hr1XGnhXskK7GXTw5bw8_-kkWHBcBMf_ # for colab"
   ]
  },
  {
   "cell_type": "code",
   "execution_count": 2,
   "metadata": {
    "executionInfo": {
     "elapsed": 579,
     "status": "ok",
     "timestamp": 1666709230710,
     "user": {
      "displayName": "Kirill Pribludenko",
      "userId": "11323114555404963403"
     },
     "user_tz": -180
    },
    "id": "uteuaCSM6z4n"
   },
   "outputs": [],
   "source": [
    "#df = pd.read_csv('/content/train.csv') # for colab\n",
    "df = pd.read_csv('train.csv')"
   ]
  },
  {
   "cell_type": "code",
   "execution_count": 3,
   "metadata": {
    "colab": {
     "base_uri": "https://localhost:8080/"
    },
    "executionInfo": {
     "elapsed": 3,
     "status": "ok",
     "timestamp": 1666709232357,
     "user": {
      "displayName": "Kirill Pribludenko",
      "userId": "11323114555404963403"
     },
     "user_tz": -180
    },
    "id": "hYg0jReT7_k6",
    "outputId": "3aa6e04e-e729-4f67-9ad9-4135c89b8c2e"
   },
   "outputs": [
    {
     "data": {
      "text/plain": [
       "(497819, 4)"
      ]
     },
     "execution_count": 3,
     "metadata": {},
     "output_type": "execute_result"
    }
   ],
   "source": [
    "df.shape"
   ]
  },
  {
   "cell_type": "code",
   "execution_count": 4,
   "metadata": {
    "colab": {
     "base_uri": "https://localhost:8080/",
     "height": 206
    },
    "executionInfo": {
     "elapsed": 6,
     "status": "ok",
     "timestamp": 1666709232913,
     "user": {
      "displayName": "Kirill Pribludenko",
      "userId": "11323114555404963403"
     },
     "user_tz": -180
    },
    "id": "vnoXRuuZ6_v2",
    "outputId": "ab2e25f5-7344-4547-ab63-06cc60ededc3"
   },
   "outputs": [
    {
     "data": {
      "text/html": [
       "<div>\n",
       "<style scoped>\n",
       "    .dataframe tbody tr th:only-of-type {\n",
       "        vertical-align: middle;\n",
       "    }\n",
       "\n",
       "    .dataframe tbody tr th {\n",
       "        vertical-align: top;\n",
       "    }\n",
       "\n",
       "    .dataframe thead th {\n",
       "        text-align: right;\n",
       "    }\n",
       "</style>\n",
       "<table border=\"1\" class=\"dataframe\">\n",
       "  <thead>\n",
       "    <tr style=\"text-align: right;\">\n",
       "      <th></th>\n",
       "      <th>pair_id</th>\n",
       "      <th>name_1</th>\n",
       "      <th>name_2</th>\n",
       "      <th>is_duplicate</th>\n",
       "    </tr>\n",
       "  </thead>\n",
       "  <tbody>\n",
       "    <tr>\n",
       "      <th>0</th>\n",
       "      <td>1</td>\n",
       "      <td>Iko Industries Ltd.</td>\n",
       "      <td>Enormous Industrial Trade Pvt., Ltd.</td>\n",
       "      <td>0</td>\n",
       "    </tr>\n",
       "    <tr>\n",
       "      <th>1</th>\n",
       "      <td>2</td>\n",
       "      <td>Apcotex Industries Ltd.</td>\n",
       "      <td>Technocraft Industries (India) Ltd.</td>\n",
       "      <td>0</td>\n",
       "    </tr>\n",
       "    <tr>\n",
       "      <th>2</th>\n",
       "      <td>3</td>\n",
       "      <td>Rishichem Distributors Pvt., Ltd.</td>\n",
       "      <td>Dsa</td>\n",
       "      <td>0</td>\n",
       "    </tr>\n",
       "    <tr>\n",
       "      <th>3</th>\n",
       "      <td>4</td>\n",
       "      <td>Powermax Rubber Factory</td>\n",
       "      <td>Co. One</td>\n",
       "      <td>0</td>\n",
       "    </tr>\n",
       "    <tr>\n",
       "      <th>4</th>\n",
       "      <td>5</td>\n",
       "      <td>Tress A/S</td>\n",
       "      <td>Longyou Industries Park Zhejiang</td>\n",
       "      <td>0</td>\n",
       "    </tr>\n",
       "  </tbody>\n",
       "</table>\n",
       "</div>"
      ],
      "text/plain": [
       "   pair_id                             name_1  \\\n",
       "0        1                Iko Industries Ltd.   \n",
       "1        2            Apcotex Industries Ltd.   \n",
       "2        3  Rishichem Distributors Pvt., Ltd.   \n",
       "3        4            Powermax Rubber Factory   \n",
       "4        5                          Tress A/S   \n",
       "\n",
       "                                 name_2  is_duplicate  \n",
       "0  Enormous Industrial Trade Pvt., Ltd.             0  \n",
       "1   Technocraft Industries (India) Ltd.             0  \n",
       "2                                   Dsa             0  \n",
       "3                               Co. One             0  \n",
       "4      Longyou Industries Park Zhejiang             0  "
      ]
     },
     "execution_count": 4,
     "metadata": {},
     "output_type": "execute_result"
    }
   ],
   "source": [
    "df.head()"
   ]
  },
  {
   "cell_type": "code",
   "execution_count": 5,
   "metadata": {
    "colab": {
     "base_uri": "https://localhost:8080/"
    },
    "executionInfo": {
     "elapsed": 3,
     "status": "ok",
     "timestamp": 1666709234498,
     "user": {
      "displayName": "Kirill Pribludenko",
      "userId": "11323114555404963403"
     },
     "user_tz": -180
    },
    "id": "MlVsXzi88CCD",
    "outputId": "f80c0765-b68d-4aa6-e9d0-35fca6aa9940"
   },
   "outputs": [
    {
     "data": {
      "text/plain": [
       "0.7348052203712594"
      ]
     },
     "execution_count": 5,
     "metadata": {},
     "output_type": "execute_result"
    }
   ],
   "source": [
    "df['is_duplicate'].mean() * 100"
   ]
  },
  {
   "cell_type": "markdown",
   "metadata": {
    "id": "2JZ4XrcR8Lo3"
   },
   "source": [
    "Датасет совсем не сбалансированный, только 0,7% положительного класса"
   ]
  },
  {
   "cell_type": "code",
   "execution_count": 6,
   "metadata": {
    "colab": {
     "base_uri": "https://localhost:8080/"
    },
    "executionInfo": {
     "elapsed": 3,
     "status": "ok",
     "timestamp": 1666709234954,
     "user": {
      "displayName": "Kirill Pribludenko",
      "userId": "11323114555404963403"
     },
     "user_tz": -180
    },
    "id": "6cMNYwHr7Mbb",
    "outputId": "3c40ed2f-7bad-4199-a4d1-f08e150a3399"
   },
   "outputs": [
    {
     "data": {
      "text/plain": [
       "0"
      ]
     },
     "execution_count": 6,
     "metadata": {},
     "output_type": "execute_result"
    }
   ],
   "source": [
    "df['pair_id'].isna().sum()"
   ]
  },
  {
   "cell_type": "code",
   "execution_count": 7,
   "metadata": {
    "colab": {
     "base_uri": "https://localhost:8080/"
    },
    "executionInfo": {
     "elapsed": 4,
     "status": "ok",
     "timestamp": 1666709235513,
     "user": {
      "displayName": "Kirill Pribludenko",
      "userId": "11323114555404963403"
     },
     "user_tz": -180
    },
    "id": "QTkdjSY-7T2t",
    "outputId": "3abfc693-39cc-4761-8024-76014e126432"
   },
   "outputs": [
    {
     "data": {
      "text/plain": [
       "0"
      ]
     },
     "execution_count": 7,
     "metadata": {},
     "output_type": "execute_result"
    }
   ],
   "source": [
    "df['is_duplicate'].isna().sum()"
   ]
  },
  {
   "cell_type": "markdown",
   "metadata": {
    "id": "NRx9ltu97uxG"
   },
   "source": [
    "Пропусков нет, отлично. Посмотрим на примеры положительного класса"
   ]
  },
  {
   "cell_type": "code",
   "execution_count": 8,
   "metadata": {
    "colab": {
     "base_uri": "https://localhost:8080/",
     "height": 520
    },
    "executionInfo": {
     "elapsed": 6,
     "status": "ok",
     "timestamp": 1666709237758,
     "user": {
      "displayName": "Kirill Pribludenko",
      "userId": "11323114555404963403"
     },
     "user_tz": -180
    },
    "id": "WVm_XtjM7su3",
    "outputId": "927e83ff-1b8b-4946-d2ce-4d009b60afce"
   },
   "outputs": [
    {
     "data": {
      "text/html": [
       "<div>\n",
       "<style scoped>\n",
       "    .dataframe tbody tr th:only-of-type {\n",
       "        vertical-align: middle;\n",
       "    }\n",
       "\n",
       "    .dataframe tbody tr th {\n",
       "        vertical-align: top;\n",
       "    }\n",
       "\n",
       "    .dataframe thead th {\n",
       "        text-align: right;\n",
       "    }\n",
       "</style>\n",
       "<table border=\"1\" class=\"dataframe\">\n",
       "  <thead>\n",
       "    <tr style=\"text-align: right;\">\n",
       "      <th></th>\n",
       "      <th>pair_id</th>\n",
       "      <th>name_1</th>\n",
       "      <th>name_2</th>\n",
       "      <th>is_duplicate</th>\n",
       "    </tr>\n",
       "  </thead>\n",
       "  <tbody>\n",
       "    <tr>\n",
       "      <th>354383</th>\n",
       "      <td>354384</td>\n",
       "      <td>Sumitomo Rubber Do Brasil Ltda</td>\n",
       "      <td>Sumitomo Corporation Do Brasil Sa</td>\n",
       "      <td>1</td>\n",
       "    </tr>\n",
       "    <tr>\n",
       "      <th>162246</th>\n",
       "      <td>162247</td>\n",
       "      <td>Basf's Paper Chemicals (Huizhou) Co., Ltd.</td>\n",
       "      <td>Basf Corporation</td>\n",
       "      <td>1</td>\n",
       "    </tr>\n",
       "    <tr>\n",
       "      <th>326409</th>\n",
       "      <td>326410</td>\n",
       "      <td>Bridgestone Do Brasil Industria E Comenrcio Ltda</td>\n",
       "      <td>Bridgestone (Tianjin) Tire Co., Ltd.</td>\n",
       "      <td>1</td>\n",
       "    </tr>\n",
       "    <tr>\n",
       "      <th>430651</th>\n",
       "      <td>430652</td>\n",
       "      <td>Exxonmobil Chemical Americas Po Box 4549 Houston</td>\n",
       "      <td>Exxonmobil Chemical Americas On</td>\n",
       "      <td>1</td>\n",
       "    </tr>\n",
       "    <tr>\n",
       "      <th>253248</th>\n",
       "      <td>253249</td>\n",
       "      <td>GENERAL MEMBRANE</td>\n",
       "      <td>GENERAL MEMBRANE S.A.</td>\n",
       "      <td>1</td>\n",
       "    </tr>\n",
       "    <tr>\n",
       "      <th>41847</th>\n",
       "      <td>41848</td>\n",
       "      <td>Sika (China) Ltd.</td>\n",
       "      <td>Sika India Private Ltd.</td>\n",
       "      <td>1</td>\n",
       "    </tr>\n",
       "    <tr>\n",
       "      <th>340635</th>\n",
       "      <td>340636</td>\n",
       "      <td>Basf Peruana S.A.</td>\n",
       "      <td>Basf Japan Ltd. 6 10 1 Roppongi</td>\n",
       "      <td>1</td>\n",
       "    </tr>\n",
       "    <tr>\n",
       "      <th>38307</th>\n",
       "      <td>38308</td>\n",
       "      <td>W. Quandt Dachbahnen und Dachstoffe GmbH</td>\n",
       "      <td>W. Quandt Gmbh &amp; Co. Kg</td>\n",
       "      <td>1</td>\n",
       "    </tr>\n",
       "    <tr>\n",
       "      <th>271220</th>\n",
       "      <td>271221</td>\n",
       "      <td>SOPREMA S.R.L.</td>\n",
       "      <td>soprema Soprema sas</td>\n",
       "      <td>1</td>\n",
       "    </tr>\n",
       "    <tr>\n",
       "      <th>260445</th>\n",
       "      <td>260446</td>\n",
       "      <td>Basf (China) Co., Ltd. Shanghai</td>\n",
       "      <td>Basf Co., Ltd.</td>\n",
       "      <td>1</td>\n",
       "    </tr>\n",
       "    <tr>\n",
       "      <th>326397</th>\n",
       "      <td>326398</td>\n",
       "      <td>Contitech India Private Ltd.</td>\n",
       "      <td>Contitech Antriebssysteme Gmb H</td>\n",
       "      <td>1</td>\n",
       "    </tr>\n",
       "    <tr>\n",
       "      <th>351251</th>\n",
       "      <td>351252</td>\n",
       "      <td>Bridgestone Tire</td>\n",
       "      <td>Bridgestone Tire Co.</td>\n",
       "      <td>1</td>\n",
       "    </tr>\n",
       "    <tr>\n",
       "      <th>136008</th>\n",
       "      <td>136009</td>\n",
       "      <td>Basf Co., Ltd.</td>\n",
       "      <td>Basf Pakistan Ltd.</td>\n",
       "      <td>1</td>\n",
       "    </tr>\n",
       "    <tr>\n",
       "      <th>289929</th>\n",
       "      <td>289930</td>\n",
       "      <td>PARKER KAWAKAMI</td>\n",
       "      <td>Parker Kawakami Co., Ltd.</td>\n",
       "      <td>1</td>\n",
       "    </tr>\n",
       "    <tr>\n",
       "      <th>406043</th>\n",
       "      <td>406044</td>\n",
       "      <td>Exxonmobil Quimica Ltda</td>\n",
       "      <td>Exxonmobil Chemical Co.</td>\n",
       "      <td>1</td>\n",
       "    </tr>\n",
       "  </tbody>\n",
       "</table>\n",
       "</div>"
      ],
      "text/plain": [
       "        pair_id                                            name_1  \\\n",
       "354383   354384                    Sumitomo Rubber Do Brasil Ltda   \n",
       "162246   162247        Basf's Paper Chemicals (Huizhou) Co., Ltd.   \n",
       "326409   326410  Bridgestone Do Brasil Industria E Comenrcio Ltda   \n",
       "430651   430652  Exxonmobil Chemical Americas Po Box 4549 Houston   \n",
       "253248   253249                                  GENERAL MEMBRANE   \n",
       "41847     41848                                 Sika (China) Ltd.   \n",
       "340635   340636                                 Basf Peruana S.A.   \n",
       "38307     38308          W. Quandt Dachbahnen und Dachstoffe GmbH   \n",
       "271220   271221                                    SOPREMA S.R.L.   \n",
       "260445   260446                   Basf (China) Co., Ltd. Shanghai   \n",
       "326397   326398                      Contitech India Private Ltd.   \n",
       "351251   351252                                  Bridgestone Tire   \n",
       "136008   136009                                    Basf Co., Ltd.   \n",
       "289929   289930                                   PARKER KAWAKAMI   \n",
       "406043   406044                           Exxonmobil Quimica Ltda   \n",
       "\n",
       "                                      name_2  is_duplicate  \n",
       "354383     Sumitomo Corporation Do Brasil Sa             1  \n",
       "162246                      Basf Corporation             1  \n",
       "326409  Bridgestone (Tianjin) Tire Co., Ltd.             1  \n",
       "430651       Exxonmobil Chemical Americas On             1  \n",
       "253248                 GENERAL MEMBRANE S.A.             1  \n",
       "41847                Sika India Private Ltd.             1  \n",
       "340635       Basf Japan Ltd. 6 10 1 Roppongi             1  \n",
       "38307                W. Quandt Gmbh & Co. Kg             1  \n",
       "271220                   soprema Soprema sas             1  \n",
       "260445                        Basf Co., Ltd.             1  \n",
       "326397       Contitech Antriebssysteme Gmb H             1  \n",
       "351251                  Bridgestone Tire Co.             1  \n",
       "136008                    Basf Pakistan Ltd.             1  \n",
       "289929             Parker Kawakami Co., Ltd.             1  \n",
       "406043               Exxonmobil Chemical Co.             1  "
      ]
     },
     "execution_count": 8,
     "metadata": {},
     "output_type": "execute_result"
    }
   ],
   "source": [
    "df_one = df[df['is_duplicate'] == 1]\n",
    "df_one.sample(15)"
   ]
  },
  {
   "cell_type": "markdown",
   "metadata": {
    "id": "tLGdo4Le9LKJ"
   },
   "source": [
    "Как видно, названия компаний:\n",
    "1. Написаны на разных языках - по хорошему надо привести все к одному языку - англ.\n",
    "2. Присутствует указание страны - необходимо удалить названия стран\n",
    "3. Сокращенные названия компаний Ltd., Co., и т.д. - необходимо удалить их\n",
    "4. Привести все к одному регистру, убрать знаки препинания, спец символы () \\ и т.д.\n",
    "5. Удалить цифры и адреса - это вопрос надо подробней разобрать"
   ]
  },
  {
   "cell_type": "markdown",
   "metadata": {
    "id": "DKgNRU8wGRt8"
   },
   "source": [
    "---"
   ]
  },
  {
   "cell_type": "markdown",
   "metadata": {
    "id": "Mi4476pp8VoS"
   },
   "source": [
    "# 1 Очистка данных"
   ]
  },
  {
   "cell_type": "markdown",
   "metadata": {
    "id": "Iprxrqq8GTjP"
   },
   "source": [
    "## 1.1 Перевод\n",
    "\n",
    "Попробуем несколько методов посмотрим какой быстрее работает"
   ]
  },
  {
   "cell_type": "markdown",
   "metadata": {
    "id": "pkgQ9xQP8jA6"
   },
   "source": [
    "### 1.1.1 Translatepy - 321 stars on Github"
   ]
  },
  {
   "cell_type": "code",
   "execution_count": null,
   "metadata": {
    "id": "5hJDojut84uv"
   },
   "outputs": [],
   "source": [
    "!pip install translatepy"
   ]
  },
  {
   "cell_type": "code",
   "execution_count": null,
   "metadata": {
    "id": "TRtn9I6y8t2f"
   },
   "outputs": [],
   "source": [
    "from translatepy.translators.google import GoogleTranslate\n",
    "translator = GoogleTranslate()"
   ]
  },
  {
   "cell_type": "markdown",
   "metadata": {
    "id": "GxfLfJ9_qKcy"
   },
   "source": [
    "Проверка работы"
   ]
  },
  {
   "cell_type": "code",
   "execution_count": null,
   "metadata": {
    "id": "hXUtCslh-jgi"
   },
   "outputs": [],
   "source": [
    "df['name_1'][24518]"
   ]
  },
  {
   "cell_type": "code",
   "execution_count": null,
   "metadata": {
    "id": "ovOYQrVi820z"
   },
   "outputs": [],
   "source": [
    "a = translator.language(df['name_1'][24518])\n",
    "print(str(a.result))"
   ]
  },
  {
   "cell_type": "code",
   "execution_count": null,
   "metadata": {
    "id": "ztvTdN-SAUFZ"
   },
   "outputs": [],
   "source": [
    "gtranslate = GoogleTranslate()\n",
    "test = gtranslate.translate(df['name_1'][24518], 'eng')\n",
    "print(str(test.result))"
   ]
  },
  {
   "cell_type": "markdown",
   "metadata": {
    "id": "ROzJbSonqPaA"
   },
   "source": [
    "Отлично, теперь напишем функцию для применения к всему датасету"
   ]
  },
  {
   "cell_type": "code",
   "execution_count": null,
   "metadata": {
    "id": "k6IXUwhQBJJb"
   },
   "outputs": [],
   "source": [
    "def translate (word):\n",
    "  '''\n",
    "  Translate words into English if they are in another language.\n",
    "  '''\n",
    "  try:\n",
    "    temp = translator.language(word)\n",
    "    if str(temp.result) != 'eng':\n",
    "      tr = gtranslate.translate(word, 'eng').result\n",
    "    else:\n",
    "      tr = word\n",
    "  except Exception:\n",
    "    tr = word\n",
    "    \n",
    "  return str(tr)"
   ]
  },
  {
   "cell_type": "markdown",
   "metadata": {
    "id": "SDGmrDSwqYET"
   },
   "source": [
    "Засечем время выполнения"
   ]
  },
  {
   "cell_type": "code",
   "execution_count": null,
   "metadata": {
    "id": "mgwvfUPwqXn9"
   },
   "outputs": [],
   "source": [
    "%%time\n",
    "df['name_1_tr'] = df['name_1'].apply(lambda x: translate(x))\n",
    "# терпения хватило только на 3 часа, не успело закончить и выключил"
   ]
  },
  {
   "cell_type": "code",
   "execution_count": null,
   "metadata": {
    "id": "RcjeczdQqySK"
   },
   "outputs": [],
   "source": [
    "%%time\n",
    "df['name_2_tr'] = df['name_2'].apply(lambda x: translate(x))\n",
    "# эту ячейку даже не запускал"
   ]
  },
  {
   "cell_type": "code",
   "execution_count": null,
   "metadata": {
    "id": "_uSbcW1agHLA"
   },
   "outputs": [],
   "source": [
    "temp_df = df.loc[:999,:]"
   ]
  },
  {
   "cell_type": "code",
   "execution_count": null,
   "metadata": {
    "id": "Fm68mB0yggB8"
   },
   "outputs": [],
   "source": [
    "%%time\n",
    "temp_df['name_1_tr'] = temp_df['name_1'].apply(lambda x: translate(x))\n",
    "# посмотрим за сколько получится перевести 1000 строк"
   ]
  },
  {
   "cell_type": "markdown",
   "metadata": {
    "id": "Ek8lKc_bkFRu"
   },
   "source": [
    "Итого на 500к строк понадобится в хкудшем случае 25 часов 8("
   ]
  },
  {
   "cell_type": "markdown",
   "metadata": {
    "id": "_HvSsYgOrcxN"
   },
   "source": [
    "### 1.1.2 Deep-translator - 709 stars on Github"
   ]
  },
  {
   "cell_type": "markdown",
   "metadata": {
    "id": "Hs4Gc-SMrgms"
   },
   "source": [
    "В данной библиотеке также можно использовать различные переводчики от именнитых фирм (для некоторых типа Яндекса требуется api ключ). Для определения языка нужно иметь api-key от Detect Language, то есть используется сторонний сервис для определения языка. А без определения языка переводить 500к строк займет еще больше времени. Проверим это."
   ]
  },
  {
   "cell_type": "code",
   "execution_count": null,
   "metadata": {
    "id": "BRk2BZb4vwk-"
   },
   "outputs": [],
   "source": [
    "!pip install -U deep-translator"
   ]
  },
  {
   "cell_type": "code",
   "execution_count": null,
   "metadata": {
    "id": "EWJDj33swLcV"
   },
   "outputs": [],
   "source": [
    "from deep_translator import GoogleTranslator"
   ]
  },
  {
   "cell_type": "code",
   "execution_count": null,
   "metadata": {
    "id": "PhjdGefYv5bU"
   },
   "outputs": [],
   "source": [
    "translated = GoogleTranslator(source='auto', target='en').translate(df['name_1'][24518])"
   ]
  },
  {
   "cell_type": "code",
   "execution_count": null,
   "metadata": {
    "id": "klewodCYwE0I"
   },
   "outputs": [],
   "source": [
    "translated"
   ]
  },
  {
   "cell_type": "code",
   "execution_count": null,
   "metadata": {
    "id": "hG7p1Sqnwdg_"
   },
   "outputs": [],
   "source": [
    "%%time\n",
    "temp_df['name_1_tr'] = temp_df['name_1'].apply(lambda x: GoogleTranslator(source='auto', target='en').translate(x))\n",
    "# посмотрим за сколько получится перевести 1000 строк"
   ]
  },
  {
   "cell_type": "code",
   "execution_count": null,
   "metadata": {
    "id": "01uW7sn5wmeA"
   },
   "outputs": [],
   "source": [
    "temp_df"
   ]
  },
  {
   "cell_type": "markdown",
   "metadata": {
    "id": "WFIO-Kzh--h7"
   },
   "source": [
    "Данная библиотека работает быстрее, весь датасет она переведет за 16,6 часов. Быстрее, чем прошлая библиотека, но для наших целей все равно медленно =("
   ]
  },
  {
   "cell_type": "markdown",
   "metadata": {
    "id": "rN1ttcMisk8w"
   },
   "source": [
    "### 1.1.3 No Language Left Behind(NLLB) - 19,4k stars on Github"
   ]
  },
  {
   "cell_type": "markdown",
   "metadata": {
    "id": "iA5Ag0batTn2"
   },
   "source": [
    "Новая сеть выпущенная компанией Meta AI. No Language Left Behind (NLLB) — это первый в своем роде прорывной проект в области искусственного интеллекта, который открывает модели с открытым исходным кодом, способные обеспечить высококачественный перевод напрямую между любой парой из более чем 200 языков, включая малоресурсные языки, такие как астурийский и лугандский, урду и многие другие."
   ]
  },
  {
   "cell_type": "code",
   "execution_count": null,
   "metadata": {
    "id": "HjZUSIhFCBdC"
   },
   "outputs": [],
   "source": [
    "!pip install transformers"
   ]
  },
  {
   "cell_type": "code",
   "execution_count": null,
   "metadata": {
    "id": "5FCjfGzXCNYu"
   },
   "outputs": [],
   "source": [
    "from transformers import AutoTokenizer, AutoModelForSeq2SeqLM, pipeline"
   ]
  },
  {
   "cell_type": "code",
   "execution_count": null,
   "metadata": {
    "id": "RrAI576K4xgQ"
   },
   "outputs": [],
   "source": [
    "model = AutoModelForSeq2SeqLM.from_pretrained(\"facebook/nllb-200-distilled-600M\")\n",
    "tokenizer = AutoTokenizer.from_pretrained(\"facebook/nllb-200-distilled-600M\")"
   ]
  },
  {
   "cell_type": "code",
   "execution_count": null,
   "metadata": {
    "id": "uqM2ADOf46Mq"
   },
   "outputs": [],
   "source": [
    "translator = pipeline('translation', model=model, tokenizer=tokenizer, max_length=1000, src_lang=\"rus_Cyrl\", tgt_lang='eng_Latn')"
   ]
  },
  {
   "cell_type": "code",
   "execution_count": null,
   "metadata": {
    "id": "hJgTDEXCcRUz"
   },
   "outputs": [],
   "source": [
    "translator(df['name_1'][24518])"
   ]
  },
  {
   "cell_type": "markdown",
   "metadata": {
    "id": "94kpKtbSbrIV"
   },
   "source": [
    "В этой модели нужно обязательно указывать исходный язык, сама определять егго модель не умеет =( поэтому нужно городить костыль с определением языка и дальше подавать язык источника для перевода в данной модели. Что на наш взгляд будет занимать большое количество времени по сравнению с ранее рассмотреными библиотеками"
   ]
  },
  {
   "cell_type": "markdown",
   "metadata": {
    "id": "WQWi0bfxgkDT"
   },
   "source": [
    "---"
   ]
  },
  {
   "cell_type": "markdown",
   "metadata": {
    "id": "05QwtGjuglaB"
   },
   "source": [
    "Надо признать, что идея с переводом не совсем удачная, так как перевод занимает большое количество времени. Кусочек датасета брать не логично, так как необходимо будет реализовать поисковой движок по всему датасету."
   ]
  },
  {
   "cell_type": "markdown",
   "metadata": {
    "id": "r4pQsYThBRYW"
   },
   "source": [
    "## 1.2 Удаление названия стран (Максим)"
   ]
  },
  {
   "cell_type": "code",
   "execution_count": 9,
   "metadata": {
    "colab": {
     "base_uri": "https://localhost:8080/"
    },
    "executionInfo": {
     "elapsed": 24029,
     "status": "ok",
     "timestamp": 1666709268633,
     "user": {
      "displayName": "Kirill Pribludenko",
      "userId": "11323114555404963403"
     },
     "user_tz": -180
    },
    "id": "DNLgxLetBcUT",
    "outputId": "7bf5d549-7c64-495e-b251-ba7e01c159d0"
   },
   "outputs": [
    {
     "name": "stdout",
     "output_type": "stream",
     "text": [
      "Requirement already satisfied: pycountry in c:\\programdata\\anaconda3\\lib\\site-packages (22.3.5)\n",
      "Requirement already satisfied: setuptools in c:\\programdata\\anaconda3\\lib\\site-packages (from pycountry) (61.2.0)\n"
     ]
    }
   ],
   "source": [
    "!pip install pycountry"
   ]
  },
  {
   "cell_type": "code",
   "execution_count": 10,
   "metadata": {
    "executionInfo": {
     "elapsed": 664,
     "status": "ok",
     "timestamp": 1666709269974,
     "user": {
      "displayName": "Kirill Pribludenko",
      "userId": "11323114555404963403"
     },
     "user_tz": -180
    },
    "id": "nr5PWUPcdqDT"
   },
   "outputs": [],
   "source": [
    "import csv\n",
    "import pycountry"
   ]
  },
  {
   "cell_type": "code",
   "execution_count": 11,
   "metadata": {
    "executionInfo": {
     "elapsed": 6,
     "status": "ok",
     "timestamp": 1666709269975,
     "user": {
      "displayName": "Kirill Pribludenko",
      "userId": "11323114555404963403"
     },
     "user_tz": -180
    },
    "id": "eHhckyjBd3VD"
   },
   "outputs": [],
   "source": [
    "continents_names = ['Asia', 'Africa', 'North America', 'South America', 'Antarctica', 'Europe', 'Australia']\n",
    "\n",
    "continents_names_regex = '|'.join([continent for continent in continents_names])\n",
    "\n",
    "countries_names_regex = '|'.join([country.name for country in pycountry.countries])\n",
    "countries_names_regex = re.sub(' ', '|', countries_names_regex)\n",
    "countries_names_regex = re.sub(\"[^A-Za-z-|]\", \"\", countries_names_regex)\n",
    "\n",
    "full_regex = continents_names_regex + countries_names_regex\n",
    "\n",
    "pattern = re.compile(full_regex, re.UNICODE | re.IGNORECASE)\n",
    "\n",
    "#file_name = '/content/train.csv' # for colab\n",
    "file_name = 'train.csv'\n",
    "labels_dict = dict(pair_id=[], name_1=[], name_2=[], is_duplicate=[])"
   ]
  },
  {
   "cell_type": "code",
   "execution_count": 12,
   "metadata": {
    "executionInfo": {
     "elapsed": 170302,
     "status": "ok",
     "timestamp": 1666709440272,
     "user": {
      "displayName": "Kirill Pribludenko",
      "userId": "11323114555404963403"
     },
     "user_tz": -180
    },
    "id": "kbQxZ_Dsd4Sq"
   },
   "outputs": [],
   "source": [
    "with open(file_name, encoding=\"utf-8\") as file:\n",
    "    reader = csv.reader(file)\n",
    "    next(reader)\n",
    "    for row in reader:\n",
    "        result = [pattern.sub(\"\", company).strip() for company in row]\n",
    "        labels_dict['pair_id'].append(result[0])\n",
    "        labels_dict['name_1'].append(result[1])\n",
    "        labels_dict['name_2'].append(result[2])\n",
    "        labels_dict['is_duplicate'].append(result[3])\n",
    "\n",
    "df = pd.DataFrame(labels_dict)"
   ]
  },
  {
   "cell_type": "code",
   "execution_count": 13,
   "metadata": {
    "colab": {
     "base_uri": "https://localhost:8080/",
     "height": 520
    },
    "executionInfo": {
     "elapsed": 11,
     "status": "ok",
     "timestamp": 1666709440275,
     "user": {
      "displayName": "Kirill Pribludenko",
      "userId": "11323114555404963403"
     },
     "user_tz": -180
    },
    "id": "p_TAu3uHd6zO",
    "outputId": "d398d5a2-fea0-42cb-9957-8349c8970464"
   },
   "outputs": [
    {
     "data": {
      "text/html": [
       "<div>\n",
       "<style scoped>\n",
       "    .dataframe tbody tr th:only-of-type {\n",
       "        vertical-align: middle;\n",
       "    }\n",
       "\n",
       "    .dataframe tbody tr th {\n",
       "        vertical-align: top;\n",
       "    }\n",
       "\n",
       "    .dataframe thead th {\n",
       "        text-align: right;\n",
       "    }\n",
       "</style>\n",
       "<table border=\"1\" class=\"dataframe\">\n",
       "  <thead>\n",
       "    <tr style=\"text-align: right;\">\n",
       "      <th></th>\n",
       "      <th>pair_id</th>\n",
       "      <th>name_1</th>\n",
       "      <th>name_2</th>\n",
       "      <th>is_duplicate</th>\n",
       "    </tr>\n",
       "  </thead>\n",
       "  <tbody>\n",
       "    <tr>\n",
       "      <th>144584</th>\n",
       "      <td>144585</td>\n",
       "      <td>Gti International Pvt., Ltd.</td>\n",
       "      <td>K. J. C. Tire Inc.</td>\n",
       "      <td>0</td>\n",
       "    </tr>\n",
       "    <tr>\n",
       "      <th>82985</th>\n",
       "      <td>82986</td>\n",
       "      <td>D.S International</td>\n",
       "      <td>Tera Indtrial Co. For Spinning K</td>\n",
       "      <td>0</td>\n",
       "    </tr>\n",
       "    <tr>\n",
       "      <th>193519</th>\n",
       "      <td>193520</td>\n",
       "      <td>A J Indtries L L C</td>\n",
       "      <td>Kinger Indtries Inc.</td>\n",
       "      <td>0</td>\n",
       "    </tr>\n",
       "    <tr>\n",
       "      <th>369240</th>\n",
       "      <td>369241</td>\n",
       "      <td>Qingo Sinotrans Bounded Warehoing Logistics Co...</td>\n",
       "      <td>Bonded Logistics Inc.</td>\n",
       "      <td>0</td>\n",
       "    </tr>\n",
       "    <tr>\n",
       "      <th>183059</th>\n",
       "      <td>183060</td>\n",
       "      <td>Crowley Logistics Inc.</td>\n",
       "      <td>Titron Logistics （Shanghai）Co. Ltd.</td>\n",
       "      <td>0</td>\n",
       "    </tr>\n",
       "    <tr>\n",
       "      <th>175867</th>\n",
       "      <td>175868</td>\n",
       "      <td>A R Imp. &amp; Exp.</td>\n",
       "      <td>Dongguan Kaiyue Imp. &amp; Exp. Co., Ltd.</td>\n",
       "      <td>0</td>\n",
       "    </tr>\n",
       "    <tr>\n",
       "      <th>384228</th>\n",
       "      <td>384229</td>\n",
       "      <td>Alex Trading Co.</td>\n",
       "      <td>Ultra Trading Intern</td>\n",
       "      <td>0</td>\n",
       "    </tr>\n",
       "    <tr>\n",
       "      <th>430133</th>\n",
       "      <td>430134</td>\n",
       "      <td>Berwin Indtries Polymers Ltd.</td>\n",
       "      <td>Tedder Indtries Llc</td>\n",
       "      <td>0</td>\n",
       "    </tr>\n",
       "    <tr>\n",
       "      <th>139380</th>\n",
       "      <td>139381</td>\n",
       "      <td>Pudong Prime International Logistics Inc.</td>\n",
       "      <td>Otx Logistics Inc.</td>\n",
       "      <td>0</td>\n",
       "    </tr>\n",
       "    <tr>\n",
       "      <th>119045</th>\n",
       "      <td>119046</td>\n",
       "      <td>AMOLPLASTIC LEETKOOH CO.</td>\n",
       "      <td>TIM IZOLIRKA</td>\n",
       "      <td>0</td>\n",
       "    </tr>\n",
       "    <tr>\n",
       "      <th>429429</th>\n",
       "      <td>429430</td>\n",
       "      <td>G Mobile Devices Private Ltd.</td>\n",
       "      <td>Mobi S</td>\n",
       "      <td>0</td>\n",
       "    </tr>\n",
       "    <tr>\n",
       "      <th>135278</th>\n",
       "      <td>135279</td>\n",
       "      <td>Bin Ke Co., Ltd.</td>\n",
       "      <td>Platina Seafood</td>\n",
       "      <td>0</td>\n",
       "    </tr>\n",
       "    <tr>\n",
       "      <th>17961</th>\n",
       "      <td>17962</td>\n",
       "      <td>Cheng Shin Rubber Ind. Co., Ltd.</td>\n",
       "      <td>Sumitomo Rubber Inds</td>\n",
       "      <td>0</td>\n",
       "    </tr>\n",
       "    <tr>\n",
       "      <th>10954</th>\n",
       "      <td>10955</td>\n",
       "      <td>Aegis Logistics Ltd.</td>\n",
       "      <td>Ealog International Logistics Group Lt</td>\n",
       "      <td>0</td>\n",
       "    </tr>\n",
       "    <tr>\n",
       "      <th>211297</th>\n",
       "      <td>211298</td>\n",
       "      <td>Direct Leisure Distributors</td>\n",
       "      <td>Dibrautos Lt</td>\n",
       "      <td>0</td>\n",
       "    </tr>\n",
       "  </tbody>\n",
       "</table>\n",
       "</div>"
      ],
      "text/plain": [
       "       pair_id                                             name_1  \\\n",
       "144584  144585                       Gti International Pvt., Ltd.   \n",
       "82985    82986                                  D.S International   \n",
       "193519  193520                                 A J Indtries L L C   \n",
       "369240  369241  Qingo Sinotrans Bounded Warehoing Logistics Co...   \n",
       "183059  183060                             Crowley Logistics Inc.   \n",
       "175867  175868                                    A R Imp. & Exp.   \n",
       "384228  384229                                   Alex Trading Co.   \n",
       "430133  430134                      Berwin Indtries Polymers Ltd.   \n",
       "139380  139381          Pudong Prime International Logistics Inc.   \n",
       "119045  119046                           AMOLPLASTIC LEETKOOH CO.   \n",
       "429429  429430                      G Mobile Devices Private Ltd.   \n",
       "135278  135279                                   Bin Ke Co., Ltd.   \n",
       "17961    17962                   Cheng Shin Rubber Ind. Co., Ltd.   \n",
       "10954    10955                               Aegis Logistics Ltd.   \n",
       "211297  211298                        Direct Leisure Distributors   \n",
       "\n",
       "                                        name_2 is_duplicate  \n",
       "144584                      K. J. C. Tire Inc.            0  \n",
       "82985         Tera Indtrial Co. For Spinning K            0  \n",
       "193519                    Kinger Indtries Inc.            0  \n",
       "369240                   Bonded Logistics Inc.            0  \n",
       "183059     Titron Logistics （Shanghai）Co. Ltd.            0  \n",
       "175867   Dongguan Kaiyue Imp. & Exp. Co., Ltd.            0  \n",
       "384228                    Ultra Trading Intern            0  \n",
       "430133                     Tedder Indtries Llc            0  \n",
       "139380                      Otx Logistics Inc.            0  \n",
       "119045                            TIM IZOLIRKA            0  \n",
       "429429                                  Mobi S            0  \n",
       "135278                         Platina Seafood            0  \n",
       "17961                     Sumitomo Rubber Inds            0  \n",
       "10954   Ealog International Logistics Group Lt            0  \n",
       "211297                            Dibrautos Lt            0  "
      ]
     },
     "execution_count": 13,
     "metadata": {},
     "output_type": "execute_result"
    }
   ],
   "source": [
    "df.sample(15)"
   ]
  },
  {
   "cell_type": "markdown",
   "metadata": {
    "id": "hN5Rvdf0Bbzv"
   },
   "source": [
    "## 1.3 Удаление спец. символов и сокращений (Денис)"
   ]
  },
  {
   "cell_type": "code",
   "execution_count": 14,
   "metadata": {
    "executionInfo": {
     "elapsed": 7,
     "status": "ok",
     "timestamp": 1666709440276,
     "user": {
      "displayName": "Kirill Pribludenko",
      "userId": "11323114555404963403"
     },
     "user_tz": -180
    },
    "id": "u0kjh1iiBaFn"
   },
   "outputs": [],
   "source": [
    "#сокращения компаний\n",
    "companies = ['ltd', 'ltda', 'saic', 's', 'a', 'i', 'c', 'co', 'ag', 'r', 'o', \n",
    "             'p', 'group', 'inc', 'sp', 'ооо', 'зао', 'ncr', 'cv', 'limited',\n",
    "             'sa', 'spa', 'pte', 'pvt', 'gmbh', 'nv', 'imp', 'corp', 'pt', \n",
    "             'mfg', 'do', 'l', 't', 'd', 'corporation', 'corp', 'doo', 'do', \n",
    "             'bv', 'de', 'llc', 'sti', 'c', 'inds', 'industriesusa', 'holdings',\n",
    "             'sas', 'ad', 'kg', 'srl', 'sociedad', 'anoni', 'private', 'bhd', \n",
    "             'alo', 'asrc', 'lc', 'holding', 'rl', 'ca', 'na', 'llp', 'b', 'on',\n",
    "             'tic', 've', 'san', 'sl', 'roppongi', 'zoo', 'lt', 'z', 'oo', 'gmb',\n",
    "             'h', 'apm', 'cd', 'as', 'pty', 'kft', 'fm', 'sdn', 'vat', 'id', 'nl',\n",
    "             'the', 'tse', 'tax', 'be', 'lp', 'cokg', 'v', 'филиал', 'компании',\n",
    "             'компани', 'ccp', 'research', 'and', 'development', 'center', 'tld',\n",
    "             'f', 'u', 'lda', 'plc', 'm', 'общество', 'с', 'ограниченной',\n",
    "             'ответственностью', 'ieo', 'cie', 'k', 'e', 'ind', 'рус', 'ао',\n",
    "             'лтд', 'cs', 'industrial', 'se', 'через', 'терминал', 'в']"
   ]
  },
  {
   "cell_type": "code",
   "execution_count": 15,
   "metadata": {
    "executionInfo": {
     "elapsed": 7,
     "status": "ok",
     "timestamp": 1666709440276,
     "user": {
      "displayName": "Kirill Pribludenko",
      "userId": "11323114555404963403"
     },
     "user_tz": -180
    },
    "id": "FsgVgnZ5dBSC"
   },
   "outputs": [],
   "source": [
    "# обработка датасета\n",
    "def clean_func(s):\n",
    "  s = s.lower()\n",
    "  s = re.sub(r'[\\W\\d]', ' ', s) #r'[^a-z]'\n",
    "  s = s.split()\n",
    "  for i in range(len(s)):\n",
    "    if s[i] in companies:\n",
    "      s[i] = ''\n",
    "    else:\n",
    "      continue\n",
    "  s = ' '.join(s).strip()\n",
    "  return s"
   ]
  },
  {
   "cell_type": "code",
   "execution_count": 16,
   "metadata": {
    "executionInfo": {
     "elapsed": 5793,
     "status": "ok",
     "timestamp": 1666709446062,
     "user": {
      "displayName": "Kirill Pribludenko",
      "userId": "11323114555404963403"
     },
     "user_tz": -180
    },
    "id": "B8dANF-OdQr8"
   },
   "outputs": [],
   "source": [
    "final_df1 = df.name_1.apply(clean_func).to_frame()\n",
    "final_df2 = df.name_2.apply(clean_func).to_frame()"
   ]
  },
  {
   "cell_type": "code",
   "execution_count": 17,
   "metadata": {
    "executionInfo": {
     "elapsed": 8,
     "status": "ok",
     "timestamp": 1666709446062,
     "user": {
      "displayName": "Kirill Pribludenko",
      "userId": "11323114555404963403"
     },
     "user_tz": -180
    },
    "id": "HQxXzgr2dSck"
   },
   "outputs": [],
   "source": [
    "final_df = pd.concat([final_df1, final_df2, df.is_duplicate], axis=1)"
   ]
  },
  {
   "cell_type": "code",
   "execution_count": 18,
   "metadata": {
    "colab": {
     "base_uri": "https://localhost:8080/",
     "height": 520
    },
    "executionInfo": {
     "elapsed": 8,
     "status": "ok",
     "timestamp": 1666709446063,
     "user": {
      "displayName": "Kirill Pribludenko",
      "userId": "11323114555404963403"
     },
     "user_tz": -180
    },
    "id": "eTEGvm61dVQq",
    "outputId": "1565a7a9-3ad4-4daf-8663-3ad96c47cd22"
   },
   "outputs": [
    {
     "data": {
      "text/html": [
       "<div>\n",
       "<style scoped>\n",
       "    .dataframe tbody tr th:only-of-type {\n",
       "        vertical-align: middle;\n",
       "    }\n",
       "\n",
       "    .dataframe tbody tr th {\n",
       "        vertical-align: top;\n",
       "    }\n",
       "\n",
       "    .dataframe thead th {\n",
       "        text-align: right;\n",
       "    }\n",
       "</style>\n",
       "<table border=\"1\" class=\"dataframe\">\n",
       "  <thead>\n",
       "    <tr style=\"text-align: right;\">\n",
       "      <th></th>\n",
       "      <th>name_1</th>\n",
       "      <th>name_2</th>\n",
       "      <th>is_duplicate</th>\n",
       "    </tr>\n",
       "  </thead>\n",
       "  <tbody>\n",
       "    <tr>\n",
       "      <th>48594</th>\n",
       "      <td>adi commerce</td>\n",
       "      <td>naftna indtrija srbije</td>\n",
       "      <td>0</td>\n",
       "    </tr>\n",
       "    <tr>\n",
       "      <th>124481</th>\n",
       "      <td>gap</td>\n",
       "      <td>guangzhou evervan footwear</td>\n",
       "      <td>0</td>\n",
       "    </tr>\n",
       "    <tr>\n",
       "      <th>139795</th>\n",
       "      <td>re trans</td>\n",
       "      <td>qingo free trade zone baotai construct investm...</td>\n",
       "      <td>0</td>\n",
       "    </tr>\n",
       "    <tr>\n",
       "      <th>466131</th>\n",
       "      <td>prime polymix</td>\n",
       "      <td>ibm</td>\n",
       "      <td>0</td>\n",
       "    </tr>\n",
       "    <tr>\n",
       "      <th>139201</th>\n",
       "      <td>ama  trading</td>\n",
       "      <td>trading</td>\n",
       "      <td>0</td>\n",
       "    </tr>\n",
       "    <tr>\n",
       "      <th>1525</th>\n",
       "      <td>dispersiones plasticas displasa com</td>\n",
       "      <td>tsrc</td>\n",
       "      <td>0</td>\n",
       "    </tr>\n",
       "    <tr>\n",
       "      <th>324793</th>\n",
       "      <td>samson logistics</td>\n",
       "      <td>via global logistics</td>\n",
       "      <td>0</td>\n",
       "    </tr>\n",
       "    <tr>\n",
       "      <th>92900</th>\n",
       "      <td>siam commercial bank publi</td>\n",
       "      <td>mcom</td>\n",
       "      <td>0</td>\n",
       "    </tr>\n",
       "    <tr>\n",
       "      <th>130026</th>\n",
       "      <td>bitumix</td>\n",
       "      <td>lotos asfalt</td>\n",
       "      <td>0</td>\n",
       "    </tr>\n",
       "    <tr>\n",
       "      <th>342668</th>\n",
       "      <td>primeur</td>\n",
       "      <td>rimec</td>\n",
       "      <td>0</td>\n",
       "    </tr>\n",
       "    <tr>\n",
       "      <th>80512</th>\n",
       "      <td></td>\n",
       "      <td>panchwati clean water</td>\n",
       "      <td>0</td>\n",
       "    </tr>\n",
       "    <tr>\n",
       "      <th>97732</th>\n",
       "      <td>international</td>\n",
       "      <td>paisa life design shenzhen</td>\n",
       "      <td>0</td>\n",
       "    </tr>\n",
       "    <tr>\n",
       "      <th>409863</th>\n",
       "      <td>century chemical</td>\n",
       "      <td>dongguan chemicals  exp   guangdong</td>\n",
       "      <td>0</td>\n",
       "    </tr>\n",
       "    <tr>\n",
       "      <th>429533</th>\n",
       "      <td>behr process paints</td>\n",
       "      <td>prince international</td>\n",
       "      <td>0</td>\n",
       "    </tr>\n",
       "    <tr>\n",
       "      <th>13699</th>\n",
       "      <td>prt</td>\n",
       "      <td>solideal lastik ticaret</td>\n",
       "      <td>0</td>\n",
       "    </tr>\n",
       "  </tbody>\n",
       "</table>\n",
       "</div>"
      ],
      "text/plain": [
       "                                     name_1  \\\n",
       "48594                          adi commerce   \n",
       "124481                                  gap   \n",
       "139795                             re trans   \n",
       "466131                        prime polymix   \n",
       "139201                         ama  trading   \n",
       "1525    dispersiones plasticas displasa com   \n",
       "324793                     samson logistics   \n",
       "92900            siam commercial bank publi   \n",
       "130026                              bitumix   \n",
       "342668                              primeur   \n",
       "80512                                         \n",
       "97732                         international   \n",
       "409863                     century chemical   \n",
       "429533                  behr process paints   \n",
       "13699                                   prt   \n",
       "\n",
       "                                                   name_2 is_duplicate  \n",
       "48594                              naftna indtrija srbije            0  \n",
       "124481                         guangzhou evervan footwear            0  \n",
       "139795  qingo free trade zone baotai construct investm...            0  \n",
       "466131                                                ibm            0  \n",
       "139201                                            trading            0  \n",
       "1525                                                 tsrc            0  \n",
       "324793                               via global logistics            0  \n",
       "92900                                                mcom            0  \n",
       "130026                                       lotos asfalt            0  \n",
       "342668                                              rimec            0  \n",
       "80512                               panchwati clean water            0  \n",
       "97732                          paisa life design shenzhen            0  \n",
       "409863                dongguan chemicals  exp   guangdong            0  \n",
       "429533                               prince international            0  \n",
       "13699                             solideal lastik ticaret            0  "
      ]
     },
     "execution_count": 18,
     "metadata": {},
     "output_type": "execute_result"
    }
   ],
   "source": [
    "final_df.sample(15)"
   ]
  },
  {
   "cell_type": "markdown",
   "metadata": {
    "id": "8oP-UHN0BiMQ"
   },
   "source": [
    "# 2 Baseline"
   ]
  },
  {
   "cell_type": "markdown",
   "metadata": {
    "id": "SZABlXVCB0bi"
   },
   "source": [
    "В качестве безйлайна выбрали TF-IDF & LogReg, в качестве метрики будем ориентироваться на ROC-AUC.\n",
    "Но сначала разделим наш датасет на 3 выборки: train, val, test в соотношении 80,10,10"
   ]
  },
  {
   "cell_type": "code",
   "execution_count": 19,
   "metadata": {
    "executionInfo": {
     "elapsed": 742,
     "status": "ok",
     "timestamp": 1666709446799,
     "user": {
      "displayName": "Kirill Pribludenko",
      "userId": "11323114555404963403"
     },
     "user_tz": -180
    },
    "id": "xWKPc_Y7lkPL"
   },
   "outputs": [],
   "source": [
    "final_df['full_name'] = final_df['name_1'] + ' ' + final_df['name_2']"
   ]
  },
  {
   "cell_type": "code",
   "execution_count": 20,
   "metadata": {
    "executionInfo": {
     "elapsed": 428,
     "status": "ok",
     "timestamp": 1666709447225,
     "user": {
      "displayName": "Kirill Pribludenko",
      "userId": "11323114555404963403"
     },
     "user_tz": -180
    },
    "id": "LU9jVHiLCgaQ"
   },
   "outputs": [],
   "source": [
    "df_train, df_temp = train_test_split(final_df, test_size=0.2, stratify=final_df['is_duplicate'], random_state=101)\n",
    "df_valid, df_test = train_test_split(df_temp, test_size=0.5, stratify=df_temp['is_duplicate'], random_state=101)"
   ]
  },
  {
   "cell_type": "markdown",
   "metadata": {
    "id": "9K9DZxzuBqLo"
   },
   "source": [
    "## 2.1 TF-IDF"
   ]
  },
  {
   "cell_type": "code",
   "execution_count": 21,
   "metadata": {
    "executionInfo": {
     "elapsed": 4,
     "status": "ok",
     "timestamp": 1666709447226,
     "user": {
      "displayName": "Kirill Pribludenko",
      "userId": "11323114555404963403"
     },
     "user_tz": -180
    },
    "id": "KGc74OItBzGq"
   },
   "outputs": [],
   "source": [
    "count_tf_idf = TfidfVectorizer(ngram_range=(1,5), analyzer='char_wb', max_features=10000)"
   ]
  },
  {
   "cell_type": "markdown",
   "metadata": {
    "id": "GeN1AJZFEyJU"
   },
   "source": [
    "Данные для обучения"
   ]
  },
  {
   "cell_type": "code",
   "execution_count": 22,
   "metadata": {
    "executionInfo": {
     "elapsed": 36864,
     "status": "ok",
     "timestamp": 1666709484087,
     "user": {
      "displayName": "Kirill Pribludenko",
      "userId": "11323114555404963403"
     },
     "user_tz": -180
    },
    "id": "K2ZvOMXTEyro"
   },
   "outputs": [],
   "source": [
    "corpus = df_train['full_name'].values.astype('U')\n",
    "features_train = count_tf_idf.fit_transform(corpus)\n",
    "target_train = df_train['is_duplicate'].values"
   ]
  },
  {
   "cell_type": "markdown",
   "metadata": {
    "id": "zVeUYEEpEzI8"
   },
   "source": [
    "Данные для валидации"
   ]
  },
  {
   "cell_type": "code",
   "execution_count": 23,
   "metadata": {
    "executionInfo": {
     "elapsed": 5212,
     "status": "ok",
     "timestamp": 1666709489279,
     "user": {
      "displayName": "Kirill Pribludenko",
      "userId": "11323114555404963403"
     },
     "user_tz": -180
    },
    "id": "P6o27VkCEzd5"
   },
   "outputs": [],
   "source": [
    "corpus = df_valid['full_name'].values.astype('U')\n",
    "features_valid = count_tf_idf.transform(corpus)\n",
    "target_valid = df_valid['is_duplicate'].values"
   ]
  },
  {
   "cell_type": "markdown",
   "metadata": {
    "id": "44N5t4b9E0My"
   },
   "source": [
    "Данные для тестирования"
   ]
  },
  {
   "cell_type": "code",
   "execution_count": 24,
   "metadata": {
    "executionInfo": {
     "elapsed": 4758,
     "status": "ok",
     "timestamp": 1666709494018,
     "user": {
      "displayName": "Kirill Pribludenko",
      "userId": "11323114555404963403"
     },
     "user_tz": -180
    },
    "id": "czXDHfswE0gm"
   },
   "outputs": [],
   "source": [
    "corpus = df_test['full_name'].values.astype('U')\n",
    "features_test = count_tf_idf.transform(corpus)\n",
    "target_test = df_test['is_duplicate'].values"
   ]
  },
  {
   "cell_type": "markdown",
   "metadata": {
    "id": "SHz97VAkDbnT"
   },
   "source": [
    "## 2.2 LogisticRegression"
   ]
  },
  {
   "cell_type": "code",
   "execution_count": 25,
   "metadata": {
    "colab": {
     "base_uri": "https://localhost:8080/",
     "height": 432
    },
    "executionInfo": {
     "elapsed": 359873,
     "status": "ok",
     "timestamp": 1666631681349,
     "user": {
      "displayName": "Kirill Pribludenko",
      "userId": "11323114555404963403"
     },
     "user_tz": -180
    },
    "id": "Sb1wcySZDbIA",
    "outputId": "0ff86305-be64-4919-976d-5acae449259f"
   },
   "outputs": [
    {
     "name": "stdout",
     "output_type": "stream",
     "text": [
      "0.9876678733287862\n",
      "\n",
      "Detailed classification report:\n",
      "              precision    recall  f1-score   support\n",
      "\n",
      "           0       1.00      1.00      1.00     49416\n",
      "           1       0.79      0.56      0.66       366\n",
      "\n",
      "    accuracy                           1.00     49782\n",
      "   macro avg       0.89      0.78      0.83     49782\n",
      "weighted avg       1.00      1.00      1.00     49782\n",
      "\n",
      "CPU times: total: 15.3 s\n",
      "Wall time: 2min 26s\n"
     ]
    }
   ],
   "source": [
    "%%time\n",
    "logreg = LogisticRegression(solver='sag', max_iter=100, random_state=101)\n",
    "\n",
    "tuned_parameters = {\"C\": np.logspace(-2, 2, 10)}\n",
    "\n",
    "best_logreg = GridSearchCV(logreg, param_grid=tuned_parameters, scoring='roc_auc',\n",
    "                           cv=5, n_jobs=-1).fit(features_train, target_train)\n",
    "\n",
    "target_pred = best_logreg.predict_proba(features_valid)[:, 1]\n",
    "score_val = roc_auc_score(target_valid, target_pred)\n",
    "print(score_val)\n",
    "print('')\n",
    "print(\"Detailed classification report:\") # Дополнительно вывыдем данный отчет\n",
    "target_pred_1 = best_logreg.predict(features_valid)\n",
    "print(classification_report(target_valid, target_pred_1))"
   ]
  },
  {
   "cell_type": "markdown",
   "metadata": {
    "id": "l43mjWsfDrgK"
   },
   "source": [
    "### 2.3 ROC-AUC"
   ]
  },
  {
   "cell_type": "markdown",
   "metadata": {
    "id": "c03aHSlpDxEr"
   },
   "source": [
    "Создадим таблицу, куда будем заносить результаты. Сначала результат baseline, а далее результаты членов команды"
   ]
  },
  {
   "cell_type": "code",
   "execution_count": 26,
   "metadata": {
    "id": "Y6IwQxEdDto5"
   },
   "outputs": [],
   "source": [
    "result_df = pd.DataFrame(columns=['ML_name', 'ROC_AUC valid', 'ROC_AUC test'])"
   ]
  },
  {
   "cell_type": "code",
   "execution_count": 27,
   "metadata": {
    "id": "8wXAJutBG2AL"
   },
   "outputs": [],
   "source": [
    "target_pred2 = best_logreg.predict_proba(features_test)[:, 1]\n",
    "score_test = roc_auc_score(target_test, target_pred2)"
   ]
  },
  {
   "cell_type": "code",
   "execution_count": 28,
   "metadata": {
    "executionInfo": {
     "elapsed": 10,
     "status": "aborted",
     "timestamp": 1666631681350,
     "user": {
      "displayName": "Kirill Pribludenko",
      "userId": "11323114555404963403"
     },
     "user_tz": -180
    },
    "id": "__MBI25WEVTQ",
    "outputId": "a14c7304-64f7-4bd7-8f61-8de92141296e"
   },
   "outputs": [
    {
     "data": {
      "text/html": [
       "<div>\n",
       "<style scoped>\n",
       "    .dataframe tbody tr th:only-of-type {\n",
       "        vertical-align: middle;\n",
       "    }\n",
       "\n",
       "    .dataframe tbody tr th {\n",
       "        vertical-align: top;\n",
       "    }\n",
       "\n",
       "    .dataframe thead th {\n",
       "        text-align: right;\n",
       "    }\n",
       "</style>\n",
       "<table border=\"1\" class=\"dataframe\">\n",
       "  <thead>\n",
       "    <tr style=\"text-align: right;\">\n",
       "      <th></th>\n",
       "      <th>ML_name</th>\n",
       "      <th>ROC_AUC valid</th>\n",
       "      <th>ROC_AUC test</th>\n",
       "    </tr>\n",
       "  </thead>\n",
       "  <tbody>\n",
       "    <tr>\n",
       "      <th>0</th>\n",
       "      <td>TF-IDF + LogReg</td>\n",
       "      <td>0.987668</td>\n",
       "      <td>0.988127</td>\n",
       "    </tr>\n",
       "  </tbody>\n",
       "</table>\n",
       "</div>"
      ],
      "text/plain": [
       "           ML_name  ROC_AUC valid  ROC_AUC test\n",
       "0  TF-IDF + LogReg       0.987668      0.988127"
      ]
     },
     "execution_count": 28,
     "metadata": {},
     "output_type": "execute_result"
    }
   ],
   "source": [
    "result_df.loc[0]=['TF-IDF + LogReg', round(score_val, 6), round(score_test, 6)]\n",
    "result_df.head()"
   ]
  },
  {
   "cell_type": "markdown",
   "metadata": {
    "id": "vHRjDxAEJDk6"
   },
   "source": [
    "# 3 Решения членов команды"
   ]
  },
  {
   "cell_type": "markdown",
   "metadata": {
    "id": "xVYTxIIWJKxs"
   },
   "source": [
    "Мы решили попробовать несколько решений для данной задачи"
   ]
  },
  {
   "cell_type": "markdown",
   "metadata": {
    "id": "eKFhh2StJP--"
   },
   "source": [
    "## 3.1 Денис"
   ]
  },
  {
   "cell_type": "code",
   "execution_count": 29,
   "metadata": {
    "colab": {
     "base_uri": "https://localhost:8080/"
    },
    "executionInfo": {
     "elapsed": 7604,
     "status": "ok",
     "timestamp": 1666717012363,
     "user": {
      "displayName": "Денис Деменков",
      "userId": "05334413152176920814"
     },
     "user_tz": -180
    },
    "id": "u6-vn7PcGuIr",
    "outputId": "2869f0e0-04aa-4504-bf3e-592efaccf080"
   },
   "outputs": [
    {
     "name": "stdout",
     "output_type": "stream",
     "text": [
      "Requirement already satisfied: sentence-transformers==2.2.2 in c:\\programdata\\anaconda3\\lib\\site-packages (2.2.2)\n",
      "Requirement already satisfied: transformers<5.0.0,>=4.6.0 in c:\\programdata\\anaconda3\\lib\\site-packages (from sentence-transformers==2.2.2) (4.23.1)\n",
      "Requirement already satisfied: sentencepiece in c:\\programdata\\anaconda3\\lib\\site-packages (from sentence-transformers==2.2.2) (0.1.97)\n",
      "Requirement already satisfied: tqdm in c:\\programdata\\anaconda3\\lib\\site-packages (from sentence-transformers==2.2.2) (4.64.0)\n",
      "Requirement already satisfied: torchvision in c:\\programdata\\anaconda3\\lib\\site-packages (from sentence-transformers==2.2.2) (0.13.1)\n",
      "Requirement already satisfied: huggingface-hub>=0.4.0 in c:\\programdata\\anaconda3\\lib\\site-packages (from sentence-transformers==2.2.2) (0.10.1)\n",
      "Requirement already satisfied: scikit-learn in c:\\programdata\\anaconda3\\lib\\site-packages (from sentence-transformers==2.2.2) (1.0.2)\n",
      "Requirement already satisfied: nltk in c:\\programdata\\anaconda3\\lib\\site-packages (from sentence-transformers==2.2.2) (3.7)\n",
      "Requirement already satisfied: numpy in c:\\programdata\\anaconda3\\lib\\site-packages (from sentence-transformers==2.2.2) (1.21.5)\n",
      "Requirement already satisfied: scipy in c:\\programdata\\anaconda3\\lib\\site-packages (from sentence-transformers==2.2.2) (1.7.3)\n",
      "Requirement already satisfied: torch>=1.6.0 in c:\\programdata\\anaconda3\\lib\\site-packages (from sentence-transformers==2.2.2) (1.12.1)\n",
      "Requirement already satisfied: requests in c:\\programdata\\anaconda3\\lib\\site-packages (from huggingface-hub>=0.4.0->sentence-transformers==2.2.2) (2.27.1)\n",
      "Requirement already satisfied: filelock in c:\\programdata\\anaconda3\\lib\\site-packages (from huggingface-hub>=0.4.0->sentence-transformers==2.2.2) (3.6.0)\n",
      "Requirement already satisfied: pyyaml>=5.1 in c:\\programdata\\anaconda3\\lib\\site-packages (from huggingface-hub>=0.4.0->sentence-transformers==2.2.2) (6.0)\n",
      "Requirement already satisfied: typing-extensions>=3.7.4.3 in c:\\programdata\\anaconda3\\lib\\site-packages (from huggingface-hub>=0.4.0->sentence-transformers==2.2.2) (4.1.1)\n",
      "Requirement already satisfied: packaging>=20.9 in c:\\programdata\\anaconda3\\lib\\site-packages (from huggingface-hub>=0.4.0->sentence-transformers==2.2.2) (21.3)\n",
      "Requirement already satisfied: pyparsing!=3.0.5,>=2.0.2 in c:\\programdata\\anaconda3\\lib\\site-packages (from packaging>=20.9->huggingface-hub>=0.4.0->sentence-transformers==2.2.2) (3.0.4)\n",
      "Requirement already satisfied: tokenizers!=0.11.3,<0.14,>=0.11.1 in c:\\programdata\\anaconda3\\lib\\site-packages (from transformers<5.0.0,>=4.6.0->sentence-transformers==2.2.2) (0.13.1)\n",
      "Requirement already satisfied: regex!=2019.12.17 in c:\\programdata\\anaconda3\\lib\\site-packages (from transformers<5.0.0,>=4.6.0->sentence-transformers==2.2.2) (2022.3.15)\n",
      "Requirement already satisfied: colorama in c:\\programdata\\anaconda3\\lib\\site-packages (from tqdm->sentence-transformers==2.2.2) (0.4.4)\n",
      "Requirement already satisfied: click in c:\\programdata\\anaconda3\\lib\\site-packages (from nltk->sentence-transformers==2.2.2) (8.0.4)\n",
      "Requirement already satisfied: joblib in c:\\programdata\\anaconda3\\lib\\site-packages (from nltk->sentence-transformers==2.2.2) (1.1.0)\n",
      "Requirement already satisfied: charset-normalizer~=2.0.0 in c:\\programdata\\anaconda3\\lib\\site-packages (from requests->huggingface-hub>=0.4.0->sentence-transformers==2.2.2) (2.0.4)\n",
      "Requirement already satisfied: idna<4,>=2.5 in c:\\programdata\\anaconda3\\lib\\site-packages (from requests->huggingface-hub>=0.4.0->sentence-transformers==2.2.2) (3.3)\n",
      "Requirement already satisfied: urllib3<1.27,>=1.21.1 in c:\\programdata\\anaconda3\\lib\\site-packages (from requests->huggingface-hub>=0.4.0->sentence-transformers==2.2.2) (1.26.9)\n",
      "Requirement already satisfied: certifi>=2017.4.17 in c:\\programdata\\anaconda3\\lib\\site-packages (from requests->huggingface-hub>=0.4.0->sentence-transformers==2.2.2) (2021.10.8)\n",
      "Requirement already satisfied: threadpoolctl>=2.0.0 in c:\\programdata\\anaconda3\\lib\\site-packages (from scikit-learn->sentence-transformers==2.2.2) (2.2.0)\n",
      "Requirement already satisfied: pillow!=8.3.*,>=5.3.0 in c:\\programdata\\anaconda3\\lib\\site-packages (from torchvision->sentence-transformers==2.2.2) (9.0.1)\n",
      "Note: you may need to restart the kernel to use updated packages.\n"
     ]
    }
   ],
   "source": [
    "pip install -U sentence-transformers==2.2.2"
   ]
  },
  {
   "cell_type": "code",
   "execution_count": 30,
   "metadata": {
    "id": "EEtMMzMxqPSH"
   },
   "outputs": [],
   "source": [
    "dfd = final_df.copy()"
   ]
  },
  {
   "cell_type": "code",
   "execution_count": 31,
   "metadata": {
    "id": "D-444_v3qJ1-"
   },
   "outputs": [],
   "source": [
    "df_train_1, df_temp_1 = train_test_split(dfd, test_size=0.2, random_state=101, stratify=dfd.is_duplicate)\n",
    "df_valid_1, df_test_1 = train_test_split(df_temp_1, test_size=0.5, random_state=101, stratify=df_temp_1.is_duplicate)"
   ]
  },
  {
   "cell_type": "markdown",
   "metadata": {
    "id": "XaRvvzfEF4qB"
   },
   "source": [
    "Эмбеддинги + логрег:"
   ]
  },
  {
   "cell_type": "code",
   "execution_count": 32,
   "metadata": {
    "id": "dnFnAFxE6CHE"
   },
   "outputs": [],
   "source": [
    "from sentence_transformers import SentenceTransformer, util\n",
    "model = SentenceTransformer('all-MiniLM-L12-v2')"
   ]
  },
  {
   "cell_type": "code",
   "execution_count": 33,
   "metadata": {
    "id": "HoCa4yBNFg0S"
   },
   "outputs": [],
   "source": [
    "name_train = df_train_1.full_name.to_list()\n",
    "target_train = df_train_1.is_duplicate.values\n",
    "\n",
    "names_train = model.encode(name_train) # эмбеддинги трэйна"
   ]
  },
  {
   "cell_type": "code",
   "execution_count": 34,
   "metadata": {
    "id": "Li6VvNeDJnBv"
   },
   "outputs": [],
   "source": [
    "name_val = df_valid_1.full_name.to_list()\n",
    "target_val = df_valid_1.is_duplicate.values\n",
    "\n",
    "names_val = model.encode(name_val) # эмбеддинги валидации"
   ]
  },
  {
   "cell_type": "code",
   "execution_count": 35,
   "metadata": {
    "id": "9R-GNObTKcp2"
   },
   "outputs": [],
   "source": [
    "name_test = df_test_1.full_name.to_list()\n",
    "target_test = df_test_1.is_duplicate.values\n",
    "\n",
    "names_test = model.encode(name_test) # эмбеддинги теста"
   ]
  },
  {
   "cell_type": "code",
   "execution_count": 36,
   "metadata": {
    "colab": {
     "base_uri": "https://localhost:8080/"
    },
    "executionInfo": {
     "elapsed": 3104215,
     "status": "ok",
     "timestamp": 1666716737069,
     "user": {
      "displayName": "Денис Деменков",
      "userId": "05334413152176920814"
     },
     "user_tz": -180
    },
    "id": "5x-pHIpBFg3c",
    "outputId": "18a689b2-163a-460e-b71b-6b7208bdc89f"
   },
   "outputs": [
    {
     "name": "stderr",
     "output_type": "stream",
     "text": [
      "C:\\ProgramData\\Anaconda3\\lib\\site-packages\\sklearn\\linear_model\\_sag.py:352: ConvergenceWarning: The max_iter was reached which means the coef_ did not converge\n",
      "  warnings.warn(\n"
     ]
    },
    {
     "name": "stdout",
     "output_type": "stream",
     "text": [
      "Detailed classification report:\n",
      "              precision    recall  f1-score   support\n",
      "\n",
      "           0       1.00      1.00      1.00     49416\n",
      "           1       0.89      0.66      0.76       366\n",
      "\n",
      "    accuracy                           1.00     49782\n",
      "   macro avg       0.94      0.83      0.88     49782\n",
      "weighted avg       1.00      1.00      1.00     49782\n",
      "\n",
      "CPU times: total: 1min 22s\n",
      "Wall time: 9min 22s\n"
     ]
    }
   ],
   "source": [
    "%%time\n",
    "logreg_1 = LogisticRegression(solver='sag', max_iter=1000, random_state=101)\n",
    "\n",
    "tuned_parameters = {\"C\": np.logspace(-2, 2, 10)}\n",
    "\n",
    "best_logreg_1 = GridSearchCV(logreg, param_grid=tuned_parameters, scoring='roc_auc',\n",
    "                           cv=5, n_jobs=-1).fit(names_train, target_train)\n",
    "\n",
    "print(\"Detailed classification report:\") # Дополнительно выведем данный отчет\n",
    "target_pred_1 = best_logreg_1.predict(names_val)\n",
    "print(classification_report(target_val, target_pred_1))"
   ]
  },
  {
   "cell_type": "code",
   "execution_count": 37,
   "metadata": {
    "id": "h9O9XpIjFhAp"
   },
   "outputs": [],
   "source": [
    "score_val = roc_auc_score(target_val, target_pred_1)\n",
    "target_pred_1_2 = best_logreg_1.predict_proba(names_test)[:, 1]\n",
    "score_test = roc_auc_score(target_test, target_pred_1_2)"
   ]
  },
  {
   "cell_type": "code",
   "execution_count": 38,
   "metadata": {
    "id": "jLVdmpaHFhEE"
   },
   "outputs": [
    {
     "data": {
      "text/html": [
       "<div>\n",
       "<style scoped>\n",
       "    .dataframe tbody tr th:only-of-type {\n",
       "        vertical-align: middle;\n",
       "    }\n",
       "\n",
       "    .dataframe tbody tr th {\n",
       "        vertical-align: top;\n",
       "    }\n",
       "\n",
       "    .dataframe thead th {\n",
       "        text-align: right;\n",
       "    }\n",
       "</style>\n",
       "<table border=\"1\" class=\"dataframe\">\n",
       "  <thead>\n",
       "    <tr style=\"text-align: right;\">\n",
       "      <th></th>\n",
       "      <th>ML_name</th>\n",
       "      <th>ROC_AUC valid</th>\n",
       "      <th>ROC_AUC test</th>\n",
       "    </tr>\n",
       "  </thead>\n",
       "  <tbody>\n",
       "    <tr>\n",
       "      <th>0</th>\n",
       "      <td>TF-IDF + LogReg</td>\n",
       "      <td>0.987668</td>\n",
       "      <td>0.988127</td>\n",
       "    </tr>\n",
       "    <tr>\n",
       "      <th>1</th>\n",
       "      <td>SentenceTransformer + LogReg</td>\n",
       "      <td>0.831664</td>\n",
       "      <td>0.974624</td>\n",
       "    </tr>\n",
       "  </tbody>\n",
       "</table>\n",
       "</div>"
      ],
      "text/plain": [
       "                        ML_name  ROC_AUC valid  ROC_AUC test\n",
       "0               TF-IDF + LogReg       0.987668      0.988127\n",
       "1  SentenceTransformer + LogReg       0.831664      0.974624"
      ]
     },
     "execution_count": 38,
     "metadata": {},
     "output_type": "execute_result"
    }
   ],
   "source": [
    "result_df.loc[1]=['SentenceTransformer + LogReg', round(score_val, 6), round(score_test, 6)]\n",
    "result_df.head()"
   ]
  },
  {
   "cell_type": "markdown",
   "metadata": {
    "id": "c9xK4jhXJTKS"
   },
   "source": [
    "## 3.2 Кирилл"
   ]
  },
  {
   "cell_type": "code",
   "execution_count": 39,
   "metadata": {
    "colab": {
     "base_uri": "https://localhost:8080/"
    },
    "executionInfo": {
     "elapsed": 21526,
     "status": "ok",
     "timestamp": 1666631711569,
     "user": {
      "displayName": "Kirill Pribludenko",
      "userId": "11323114555404963403"
     },
     "user_tz": -180
    },
    "id": "Xu5RTmwtrRZV",
    "outputId": "67c1fcf8-f23c-47fe-f218-b1eded6b9b33"
   },
   "outputs": [
    {
     "name": "stdout",
     "output_type": "stream",
     "text": [
      "Requirement already satisfied: catboost in c:\\programdata\\anaconda3\\lib\\site-packages (1.1)\n",
      "Requirement already satisfied: pandas>=0.24.0 in c:\\programdata\\anaconda3\\lib\\site-packages (from catboost) (1.4.2)\n",
      "Requirement already satisfied: plotly in c:\\programdata\\anaconda3\\lib\\site-packages (from catboost) (5.6.0)\n",
      "Requirement already satisfied: six in c:\\programdata\\anaconda3\\lib\\site-packages (from catboost) (1.16.0)\n",
      "Requirement already satisfied: graphviz in c:\\programdata\\anaconda3\\lib\\site-packages (from catboost) (0.20.1)\n",
      "Requirement already satisfied: numpy>=1.16.0 in c:\\programdata\\anaconda3\\lib\\site-packages (from catboost) (1.21.5)\n",
      "Requirement already satisfied: scipy in c:\\programdata\\anaconda3\\lib\\site-packages (from catboost) (1.7.3)\n",
      "Requirement already satisfied: matplotlib in c:\\programdata\\anaconda3\\lib\\site-packages (from catboost) (3.5.1)\n",
      "Requirement already satisfied: pytz>=2020.1 in c:\\programdata\\anaconda3\\lib\\site-packages (from pandas>=0.24.0->catboost) (2021.3)\n",
      "Requirement already satisfied: python-dateutil>=2.8.1 in c:\\programdata\\anaconda3\\lib\\site-packages (from pandas>=0.24.0->catboost) (2.8.2)\n",
      "Requirement already satisfied: packaging>=20.0 in c:\\programdata\\anaconda3\\lib\\site-packages (from matplotlib->catboost) (21.3)\n",
      "Requirement already satisfied: cycler>=0.10 in c:\\programdata\\anaconda3\\lib\\site-packages (from matplotlib->catboost) (0.11.0)\n",
      "Requirement already satisfied: fonttools>=4.22.0 in c:\\programdata\\anaconda3\\lib\\site-packages (from matplotlib->catboost) (4.25.0)\n",
      "Requirement already satisfied: pillow>=6.2.0 in c:\\programdata\\anaconda3\\lib\\site-packages (from matplotlib->catboost) (9.0.1)\n",
      "Requirement already satisfied: pyparsing>=2.2.1 in c:\\programdata\\anaconda3\\lib\\site-packages (from matplotlib->catboost) (3.0.4)\n",
      "Requirement already satisfied: kiwisolver>=1.0.1 in c:\\programdata\\anaconda3\\lib\\site-packages (from matplotlib->catboost) (1.3.2)\n",
      "Requirement already satisfied: tenacity>=6.2.0 in c:\\programdata\\anaconda3\\lib\\site-packages (from plotly->catboost) (8.0.1)\n",
      "Requirement already satisfied: optuna in c:\\programdata\\anaconda3\\lib\\site-packages (3.0.3)\n",
      "Requirement already satisfied: packaging>=20.0 in c:\\programdata\\anaconda3\\lib\\site-packages (from optuna) (21.3)\n",
      "Requirement already satisfied: importlib-metadata<5.0.0 in c:\\programdata\\anaconda3\\lib\\site-packages (from optuna) (4.11.3)\n",
      "Requirement already satisfied: colorlog in c:\\programdata\\anaconda3\\lib\\site-packages (from optuna) (6.7.0)\n",
      "Requirement already satisfied: PyYAML in c:\\programdata\\anaconda3\\lib\\site-packages (from optuna) (6.0)\n",
      "Requirement already satisfied: cliff in c:\\programdata\\anaconda3\\lib\\site-packages (from optuna) (4.0.0)\n",
      "Requirement already satisfied: cmaes>=0.8.2 in c:\\programdata\\anaconda3\\lib\\site-packages (from optuna) (0.8.2)\n",
      "Requirement already satisfied: numpy in c:\\programdata\\anaconda3\\lib\\site-packages (from optuna) (1.21.5)\n",
      "Requirement already satisfied: alembic>=1.5.0 in c:\\programdata\\anaconda3\\lib\\site-packages (from optuna) (1.8.1)\n",
      "Requirement already satisfied: scipy<1.9.0,>=1.7.0 in c:\\programdata\\anaconda3\\lib\\site-packages (from optuna) (1.7.3)\n",
      "Requirement already satisfied: tqdm in c:\\programdata\\anaconda3\\lib\\site-packages (from optuna) (4.64.0)\n",
      "Requirement already satisfied: sqlalchemy>=1.3.0 in c:\\programdata\\anaconda3\\lib\\site-packages (from optuna) (1.4.32)\n",
      "Requirement already satisfied: Mako in c:\\programdata\\anaconda3\\lib\\site-packages (from alembic>=1.5.0->optuna) (1.2.3)\n",
      "Requirement already satisfied: zipp>=0.5 in c:\\programdata\\anaconda3\\lib\\site-packages (from importlib-metadata<5.0.0->optuna) (3.7.0)\n",
      "Requirement already satisfied: pyparsing!=3.0.5,>=2.0.2 in c:\\programdata\\anaconda3\\lib\\site-packages (from packaging>=20.0->optuna) (3.0.4)\n",
      "Requirement already satisfied: greenlet!=0.4.17 in c:\\programdata\\anaconda3\\lib\\site-packages (from sqlalchemy>=1.3.0->optuna) (1.1.1)\n",
      "Requirement already satisfied: autopage>=0.4.0 in c:\\programdata\\anaconda3\\lib\\site-packages (from cliff->optuna) (0.5.1)\n",
      "Requirement already satisfied: stevedore>=2.0.1 in c:\\programdata\\anaconda3\\lib\\site-packages (from cliff->optuna) (4.1.0)\n",
      "Requirement already satisfied: PrettyTable>=0.7.2 in c:\\programdata\\anaconda3\\lib\\site-packages (from cliff->optuna) (3.4.1)\n",
      "Requirement already satisfied: cmd2>=1.0.0 in c:\\programdata\\anaconda3\\lib\\site-packages (from cliff->optuna) (2.4.2)\n",
      "Requirement already satisfied: attrs>=16.3.0 in c:\\programdata\\anaconda3\\lib\\site-packages (from cmd2>=1.0.0->cliff->optuna) (21.4.0)\n",
      "Requirement already satisfied: pyreadline3 in c:\\programdata\\anaconda3\\lib\\site-packages (from cmd2>=1.0.0->cliff->optuna) (3.4.1)\n",
      "Requirement already satisfied: wcwidth>=0.1.7 in c:\\programdata\\anaconda3\\lib\\site-packages (from cmd2>=1.0.0->cliff->optuna) (0.2.5)\n",
      "Requirement already satisfied: pyperclip>=1.6 in c:\\programdata\\anaconda3\\lib\\site-packages (from cmd2>=1.0.0->cliff->optuna) (1.8.2)\n",
      "Requirement already satisfied: pbr!=2.1.0,>=2.0.0 in c:\\programdata\\anaconda3\\lib\\site-packages (from stevedore>=2.0.1->cliff->optuna) (5.11.0)\n",
      "Requirement already satisfied: colorama in c:\\programdata\\anaconda3\\lib\\site-packages (from colorlog->optuna) (0.4.4)\n",
      "Requirement already satisfied: MarkupSafe>=0.9.2 in c:\\programdata\\anaconda3\\lib\\site-packages (from Mako->alembic>=1.5.0->optuna) (2.0.1)\n"
     ]
    }
   ],
   "source": [
    "!pip install catboost\n",
    "!pip install optuna"
   ]
  },
  {
   "cell_type": "code",
   "execution_count": 40,
   "metadata": {
    "id": "bVKdQbcorToC"
   },
   "outputs": [],
   "source": [
    "from catboost import CatBoostClassifier\n",
    "import optuna\n",
    "\n",
    "from sklearn.feature_extraction.text import CountVectorizer"
   ]
  },
  {
   "cell_type": "code",
   "execution_count": 41,
   "metadata": {
    "id": "G91Re0PlpmVv"
   },
   "outputs": [],
   "source": [
    "final_df_2 = final_df.copy()"
   ]
  },
  {
   "cell_type": "code",
   "execution_count": 42,
   "metadata": {
    "id": "jUAi6r2HplHh"
   },
   "outputs": [],
   "source": [
    "final_df_2['full_name'] = final_df_2['name_1'] + ' ' + final_df_2['name_2']"
   ]
  },
  {
   "cell_type": "code",
   "execution_count": 43,
   "metadata": {
    "id": "PevkibP8plHj"
   },
   "outputs": [],
   "source": [
    "df_train_2, df_temp_2 = train_test_split(final_df_2, test_size=0.2, stratify=final_df_2['is_duplicate'], random_state=101)\n",
    "df_valid_2, df_test_2 = train_test_split(df_temp_2, test_size=0.5, stratify=df_temp_2['is_duplicate'], random_state=101)"
   ]
  },
  {
   "cell_type": "code",
   "execution_count": 44,
   "metadata": {
    "id": "z1rs1I3EpZw1"
   },
   "outputs": [],
   "source": [
    "cv = CountVectorizer(ngram_range=(1, 5), max_features=10000)"
   ]
  },
  {
   "cell_type": "markdown",
   "metadata": {
    "id": "YOzoEq4DqC8Z"
   },
   "source": [
    "Данные для обучения"
   ]
  },
  {
   "cell_type": "code",
   "execution_count": 45,
   "metadata": {
    "id": "GOPC_oTjqC8a"
   },
   "outputs": [],
   "source": [
    "corpus_2 = df_train_2['full_name'].values.astype('U')\n",
    "features_train_2 = cv.fit_transform(corpus_2)\n",
    "target_train_2 = df_train_2['is_duplicate'].values"
   ]
  },
  {
   "cell_type": "markdown",
   "metadata": {
    "id": "DE4ZdsNaqC8b"
   },
   "source": [
    "Данные для валидации"
   ]
  },
  {
   "cell_type": "code",
   "execution_count": 46,
   "metadata": {
    "id": "A3wn_ki0qC8b"
   },
   "outputs": [],
   "source": [
    "corpus_2 = df_valid_2['full_name'].values.astype('U')\n",
    "features_valid_2 = cv.transform(corpus_2)\n",
    "target_valid_2 = df_valid_2['is_duplicate'].values"
   ]
  },
  {
   "cell_type": "markdown",
   "metadata": {
    "id": "0YiI5DvEqC8c"
   },
   "source": [
    "Данные для тестирования"
   ]
  },
  {
   "cell_type": "code",
   "execution_count": 47,
   "metadata": {
    "id": "K_7lrWrBqC8c"
   },
   "outputs": [],
   "source": [
    "corpus_2 = df_test_2['full_name'].values.astype('U')\n",
    "features_test_2 = cv.transform(corpus_2)\n",
    "target_test_2 = df_test_2['is_duplicate'].values"
   ]
  },
  {
   "cell_type": "code",
   "execution_count": 48,
   "metadata": {
    "id": "ehybmcDDq1LI"
   },
   "outputs": [],
   "source": [
    "def objective(trial):\n",
    "\n",
    "  param = {\n",
    "        \"objective\": trial.suggest_categorical(\"objective\", [\"Logloss\", \"CrossEntropy\"]),\n",
    "        \"colsample_bylevel\": trial.suggest_float(\"colsample_bylevel\", 0.01, 0.1),\n",
    "        \"depth\": trial.suggest_int(\"depth\", 4, 12),\n",
    "        \"boosting_type\": trial.suggest_categorical(\"boosting_type\", [\"Ordered\", \"Plain\"]),\n",
    "        \"bootstrap_type\": trial.suggest_categorical(\"bootstrap_type\", [\"Bayesian\", \"Bernoulli\"]),\n",
    "        \"used_ram_limit\": \"32gb\",\n",
    "        \"eval_metric\": \"AUC\",\n",
    "        \"random_state\": 101,\n",
    "        \"logging_level\": \"Silent\"\n",
    "    }\n",
    "\n",
    "  if param[\"bootstrap_type\"] == \"Bayesian\":\n",
    "    param[\"bagging_temperature\"] = trial.suggest_float(\"bagging_temperature\", 0, 10)\n",
    "  elif param[\"bootstrap_type\"] == \"Bernoulli\":\n",
    "    param[\"subsample\"] = trial.suggest_float(\"subsample\", 0.1, 1, log=True)\n",
    "    \n",
    "  best_cat = CatBoostClassifier(**param)\n",
    "\n",
    "  best_cat.fit(features_train_2, target_train_2, \n",
    "               eval_set=(features_valid_2, target_valid_2), \n",
    "               early_stopping_rounds=20)\n",
    "  target_pred_2 = best_cat.predict_proba(features_valid_2)[:, 1]\n",
    "  score_val = roc_auc_score(target_valid_2, target_pred_2)\n",
    "\n",
    "  return score_val"
   ]
  },
  {
   "cell_type": "markdown",
   "metadata": {
    "id": "dpD3k9K0k-Pn"
   },
   "source": [
    "Поиск гиперпараметров занимает огромное количество времени больше 4 часов. Поэтому не будем его запускать, а воспользуемся уже найдеными параметрами."
   ]
  },
  {
   "cell_type": "code",
   "execution_count": 49,
   "metadata": {
    "id": "kcMrHa3wq18X",
    "scrolled": true
   },
   "outputs": [],
   "source": [
    "# %%time\n",
    "# study = optuna.create_study(study_name=f'catboost-seed{101}', direction=\"maximize\")\n",
    "# study.optimize(objective, n_trials=100, n_jobs=-1)"
   ]
  },
  {
   "cell_type": "markdown",
   "metadata": {
    "id": "oP2Lx9hcMAW3"
   },
   "source": [
    "Лучший скор:"
   ]
  },
  {
   "cell_type": "code",
   "execution_count": 50,
   "metadata": {
    "id": "lO9fcoBn4hK3"
   },
   "outputs": [],
   "source": [
    "# study.best_value"
   ]
  },
  {
   "cell_type": "markdown",
   "metadata": {
    "id": "e1GiUWO8MSbn"
   },
   "source": [
    "Лучшие параметры:"
   ]
  },
  {
   "cell_type": "code",
   "execution_count": 51,
   "metadata": {
    "id": "8djFsP8I4hHg",
    "scrolled": true
   },
   "outputs": [],
   "source": [
    "# study.best_params"
   ]
  },
  {
   "cell_type": "code",
   "execution_count": 52,
   "metadata": {
    "id": "CY8jPkqeertx"
   },
   "outputs": [],
   "source": [
    "# Запомним полученные параметры Best is trial 31 with value: 0.9719550556418812.\n",
    "# {'objective': 'Logloss', \n",
    "#  'colsample_bylevel': 0.054188649478630675, \n",
    "#  'depth': 10, \n",
    "#  'boosting_type': 'Ordered', \n",
    "#  'bootstrap_type': 'Bernoulli', \n",
    "#  'subsample': 0.2330707011865564}"
   ]
  },
  {
   "cell_type": "markdown",
   "metadata": {
    "id": "mgHzJwGXMXwi"
   },
   "source": [
    "Создадим заново параметры и обучим модель, чтобы сделать предсказания для теста. Использовать сразу лучшую модель из **optuna** для предсказаний (типа как в GridSearch), можно, но очень заморочено. Проще заново обучить модель с найдеными параметрами и сделать предсказания."
   ]
  },
  {
   "cell_type": "code",
   "execution_count": 53,
   "metadata": {
    "id": "EV1GQ4c8EnH8"
   },
   "outputs": [],
   "source": [
    "# Задаем параметры, добавляя неоходимые параметры\n",
    "params = {'objective': 'Logloss',\n",
    "          'colsample_bylevel': 0.054188649478630675,\n",
    "          'depth': 10, \n",
    "          'boosting_type': 'Ordered', \n",
    "          'bootstrap_type': 'Bernoulli', \n",
    "          'subsample': 0.2330707011865564}\n",
    "\n",
    "params['eval_metric'] = 'AUC'\n",
    "params['random_state'] = 101\n",
    "params['logging_level'] = 'Silent'"
   ]
  },
  {
   "cell_type": "code",
   "execution_count": 54,
   "metadata": {
    "colab": {
     "base_uri": "https://localhost:8080/"
    },
    "executionInfo": {
     "elapsed": 148895,
     "status": "ok",
     "timestamp": 1666633261456,
     "user": {
      "displayName": "Kirill Pribludenko",
      "userId": "11323114555404963403"
     },
     "user_tz": -180
    },
    "id": "K9A1nMpxEnEH",
    "outputId": "0d0fa9f9-0e13-455f-8ae5-8b0756cea0d4"
   },
   "outputs": [
    {
     "name": "stdout",
     "output_type": "stream",
     "text": [
      "0.9516456031585532\n",
      "\n",
      "Detailed classification report:\n",
      "              precision    recall  f1-score   support\n",
      "\n",
      "           0       1.00      1.00      1.00     49416\n",
      "           1       0.99      0.81      0.89       366\n",
      "\n",
      "    accuracy                           1.00     49782\n",
      "   macro avg       0.99      0.90      0.94     49782\n",
      "weighted avg       1.00      1.00      1.00     49782\n",
      "\n"
     ]
    }
   ],
   "source": [
    "# Обучаем модель с лучшими параметрами\n",
    "best_cat = CatBoostClassifier(**params).fit(features_train_2, target_train_2, \n",
    "                                            eval_set=(features_valid_2, target_valid_2), \n",
    "                                            early_stopping_rounds=20)\n",
    "target_pred_2 = best_cat.predict_proba(features_valid_2)[:, 1]\n",
    "score_val_2 = roc_auc_score(target_valid_2, target_pred_2)\n",
    "print(score_val_2)\n",
    "print('')\n",
    "print(\"Detailed classification report:\") # Дополнительно вывыдем данный отчет\n",
    "target_pred_2 = best_cat.predict(features_valid_2)\n",
    "print(classification_report(target_valid_2, target_pred_2))"
   ]
  },
  {
   "cell_type": "markdown",
   "metadata": {
    "id": "ofzPgI4KOpZe"
   },
   "source": [
    "Заносим очередной результат"
   ]
  },
  {
   "cell_type": "code",
   "execution_count": 55,
   "metadata": {
    "id": "kzNbOhBTtyhu"
   },
   "outputs": [],
   "source": [
    "target_pred_2_1 = best_cat.predict_proba(features_test_2)[:, 1]\n",
    "score_test_2 = roc_auc_score(target_test_2, target_pred_2_1)"
   ]
  },
  {
   "cell_type": "code",
   "execution_count": 56,
   "metadata": {
    "colab": {
     "base_uri": "https://localhost:8080/",
     "height": 81
    },
    "executionInfo": {
     "elapsed": 7,
     "status": "ok",
     "timestamp": 1666633262023,
     "user": {
      "displayName": "Kirill Pribludenko",
      "userId": "11323114555404963403"
     },
     "user_tz": -180
    },
    "id": "Ckgt_xYatyhv",
    "outputId": "af848bd3-b750-4155-8b1e-54d4b80e45fa",
    "scrolled": false
   },
   "outputs": [
    {
     "data": {
      "text/html": [
       "<div>\n",
       "<style scoped>\n",
       "    .dataframe tbody tr th:only-of-type {\n",
       "        vertical-align: middle;\n",
       "    }\n",
       "\n",
       "    .dataframe tbody tr th {\n",
       "        vertical-align: top;\n",
       "    }\n",
       "\n",
       "    .dataframe thead th {\n",
       "        text-align: right;\n",
       "    }\n",
       "</style>\n",
       "<table border=\"1\" class=\"dataframe\">\n",
       "  <thead>\n",
       "    <tr style=\"text-align: right;\">\n",
       "      <th></th>\n",
       "      <th>ML_name</th>\n",
       "      <th>ROC_AUC valid</th>\n",
       "      <th>ROC_AUC test</th>\n",
       "    </tr>\n",
       "  </thead>\n",
       "  <tbody>\n",
       "    <tr>\n",
       "      <th>0</th>\n",
       "      <td>TF-IDF + LogReg</td>\n",
       "      <td>0.987668</td>\n",
       "      <td>0.988127</td>\n",
       "    </tr>\n",
       "    <tr>\n",
       "      <th>1</th>\n",
       "      <td>SentenceTransformer + LogReg</td>\n",
       "      <td>0.831664</td>\n",
       "      <td>0.974624</td>\n",
       "    </tr>\n",
       "    <tr>\n",
       "      <th>2</th>\n",
       "      <td>CountVectorizer + Catboost</td>\n",
       "      <td>0.951646</td>\n",
       "      <td>0.921190</td>\n",
       "    </tr>\n",
       "  </tbody>\n",
       "</table>\n",
       "</div>"
      ],
      "text/plain": [
       "                        ML_name  ROC_AUC valid  ROC_AUC test\n",
       "0               TF-IDF + LogReg       0.987668      0.988127\n",
       "1  SentenceTransformer + LogReg       0.831664      0.974624\n",
       "2    CountVectorizer + Catboost       0.951646      0.921190"
      ]
     },
     "execution_count": 56,
     "metadata": {},
     "output_type": "execute_result"
    }
   ],
   "source": [
    "result_df.loc[2]=['CountVectorizer + Catboost', round(score_val_2, 6), round(score_test_2, 6)]\n",
    "result_df.head()"
   ]
  },
  {
   "cell_type": "markdown",
   "metadata": {
    "id": "iIk2BWcpJaL0"
   },
   "source": [
    "## 3.3 Максим"
   ]
  },
  {
   "cell_type": "markdown",
   "metadata": {
    "id": "2NKlcLxCk-Ps"
   },
   "source": [
    "Скопируем данные для обучения, валидации и теста в отдельные переменные для вариант fasttext + logreg"
   ]
  },
  {
   "cell_type": "code",
   "execution_count": 57,
   "metadata": {
    "id": "ktLy1dHsk-Ps"
   },
   "outputs": [],
   "source": [
    "final_df_ft = final_df.copy()\n",
    "df_train_ft = df_train.copy()\n",
    "df_temp_ft = df_temp.copy()\n",
    "df_valid_ft = df_valid.copy()\n",
    "df_test_ft = df_test.copy()"
   ]
  },
  {
   "cell_type": "code",
   "execution_count": 58,
   "metadata": {
    "id": "yLJBs3h2k-Pt",
    "outputId": "1bf3c13d-2edd-456b-af7e-31c816220c9c"
   },
   "outputs": [
    {
     "name": "stdout",
     "output_type": "stream",
     "text": [
      "Requirement already satisfied: gensim==4.2.0 in c:\\programdata\\anaconda3\\lib\\site-packages (4.2.0)\n",
      "Requirement already satisfied: Cython==0.29.28 in c:\\programdata\\anaconda3\\lib\\site-packages (from gensim==4.2.0) (0.29.28)\n",
      "Requirement already satisfied: smart-open>=1.8.1 in c:\\programdata\\anaconda3\\lib\\site-packages (from gensim==4.2.0) (5.1.0)\n",
      "Requirement already satisfied: scipy>=0.18.1 in c:\\programdata\\anaconda3\\lib\\site-packages (from gensim==4.2.0) (1.7.3)\n",
      "Requirement already satisfied: numpy>=1.17.0 in c:\\programdata\\anaconda3\\lib\\site-packages (from gensim==4.2.0) (1.21.5)\n"
     ]
    }
   ],
   "source": [
    "!pip install gensim==4.2.0"
   ]
  },
  {
   "cell_type": "code",
   "execution_count": 59,
   "metadata": {
    "id": "rqIPKPZSk-Pt"
   },
   "outputs": [],
   "source": [
    "import nltk\n",
    "from nltk.tokenize import word_tokenize\n",
    "import gensim\n",
    "from gensim.models import FastText"
   ]
  },
  {
   "cell_type": "code",
   "execution_count": 60,
   "metadata": {
    "id": "oc0Ik8Nsk-Pt",
    "outputId": "96d99093-438d-4d9e-8285-adae4af378a6"
   },
   "outputs": [
    {
     "name": "stderr",
     "output_type": "stream",
     "text": [
      "[nltk_data] Downloading package punkt to\n",
      "[nltk_data]     C:\\Users\\Дима\\AppData\\Roaming\\nltk_data...\n",
      "[nltk_data]   Package punkt is already up-to-date!\n"
     ]
    },
    {
     "data": {
      "text/plain": [
       "True"
      ]
     },
     "execution_count": 60,
     "metadata": {},
     "output_type": "execute_result"
    }
   ],
   "source": [
    "nltk.download('punkt')"
   ]
  },
  {
   "cell_type": "markdown",
   "metadata": {
    "id": "NDtJ5I8tk-Pt"
   },
   "source": [
    "Функция для разбивки предложения на отдельные слова"
   ]
  },
  {
   "cell_type": "code",
   "execution_count": 61,
   "metadata": {
    "id": "cSHTtM_zk-Pt"
   },
   "outputs": [],
   "source": [
    "def tokenized_sentence(sentence):\n",
    "    words = []\n",
    "    if not sentence: \n",
    "      words.append(' ')\n",
    "    else:\n",
    "      for word in word_tokenize(sentence):\n",
    "        words.append(word) \n",
    "    return words"
   ]
  },
  {
   "cell_type": "markdown",
   "metadata": {
    "id": "hPboawamk-Pt"
   },
   "source": [
    "Обучаем fasttext"
   ]
  },
  {
   "cell_type": "code",
   "execution_count": 62,
   "metadata": {
    "id": "X09efD5Wk-Pu"
   },
   "outputs": [],
   "source": [
    "corpus_3 = df_train_ft['full_name'].apply(lambda x: tokenized_sentence(x))\n",
    "fast_text_model = gensim.models.FastText(corpus, min_count = 1, window = 5)"
   ]
  },
  {
   "cell_type": "markdown",
   "metadata": {
    "id": "ji-KD3yhk-Pu"
   },
   "source": [
    "Векторное представление данных"
   ]
  },
  {
   "cell_type": "code",
   "execution_count": 63,
   "metadata": {
    "id": "lnmMxpUyk-Pu"
   },
   "outputs": [],
   "source": [
    "def sent_vector(word):\n",
    "    if not word: word = [' ']\n",
    "    return np.mean(fast_text_model.wv[word], axis=0)"
   ]
  },
  {
   "cell_type": "markdown",
   "metadata": {
    "id": "lZAWyvaTk-Pu"
   },
   "source": [
    "Данные для обучения"
   ]
  },
  {
   "cell_type": "code",
   "execution_count": 64,
   "metadata": {
    "id": "3EwoIBIfk-Pu"
   },
   "outputs": [],
   "source": [
    "features_train_3 = np.array([sent_vector(word) for word in corpus_3])\n",
    "target_train_3 = df_train_ft['is_duplicate'].values"
   ]
  },
  {
   "cell_type": "markdown",
   "metadata": {
    "id": "Vm3MLmtdk-Pu"
   },
   "source": [
    "Данные для валидации"
   ]
  },
  {
   "cell_type": "code",
   "execution_count": 65,
   "metadata": {
    "id": "TkP1MQnWk-Pu"
   },
   "outputs": [],
   "source": [
    "corpus_3 = df_valid_ft['full_name'].apply(lambda x: tokenized_sentence(x))\n",
    "features_valid_3 = np.array([sent_vector(word) for word in corpus_3])\n",
    "target_valid_3 = df_valid_ft['is_duplicate'].values"
   ]
  },
  {
   "cell_type": "markdown",
   "metadata": {
    "id": "XFVDxRlPk-Pv"
   },
   "source": [
    "Данные для теста"
   ]
  },
  {
   "cell_type": "code",
   "execution_count": 66,
   "metadata": {
    "id": "LXHgQy6pk-Pv"
   },
   "outputs": [],
   "source": [
    "corpus_3 = df_test_ft['full_name'].apply(lambda x: tokenized_sentence(x))\n",
    "features_test_3 = np.array([sent_vector(word) for word in corpus_3])\n",
    "target_test_3 = df_test_ft['is_duplicate'].values"
   ]
  },
  {
   "cell_type": "markdown",
   "metadata": {
    "id": "NDjJjkVZk-Pv"
   },
   "source": [
    "Логистическая регрессия"
   ]
  },
  {
   "cell_type": "code",
   "execution_count": 67,
   "metadata": {
    "id": "cpvc7hyxk-Pv",
    "scrolled": true
   },
   "outputs": [],
   "source": [
    "logreg_ft = LogisticRegression(solver='sag', max_iter=1000, random_state=101)\n",
    "\n",
    "tuned_parameters = {\"C\": np.logspace(-2, 2, 10)}\n",
    "\n",
    "best_logreg_3 = GridSearchCV(logreg_ft, param_grid=tuned_parameters, scoring='roc_auc',\n",
    "                           cv=5, n_jobs=-1).fit(features_train_3, target_train_3)"
   ]
  },
  {
   "cell_type": "code",
   "execution_count": 68,
   "metadata": {},
   "outputs": [],
   "source": [
    "target_pred_valid_3 = best_logreg_3.predict_proba(features_valid_3)[:, 1]\n",
    "score_val_ft = roc_auc_score(target_valid_3, target_pred_valid_3)\n",
    "\n",
    "target_pred_test_3 = best_logreg_3.predict_proba(features_test_3)[:, 1]\n",
    "score_test_ft = roc_auc_score(target_test_3, target_pred_test_3)"
   ]
  },
  {
   "cell_type": "markdown",
   "metadata": {
    "id": "sIfZ15sRk-Pv"
   },
   "source": [
    "Добавляем результат в таблицу"
   ]
  },
  {
   "cell_type": "code",
   "execution_count": 69,
   "metadata": {
    "id": "1sa7ZSV8k-Pv",
    "outputId": "919ff0dd-574b-4960-986f-e85fb1f39f79"
   },
   "outputs": [
    {
     "data": {
      "text/html": [
       "<div>\n",
       "<style scoped>\n",
       "    .dataframe tbody tr th:only-of-type {\n",
       "        vertical-align: middle;\n",
       "    }\n",
       "\n",
       "    .dataframe tbody tr th {\n",
       "        vertical-align: top;\n",
       "    }\n",
       "\n",
       "    .dataframe thead th {\n",
       "        text-align: right;\n",
       "    }\n",
       "</style>\n",
       "<table border=\"1\" class=\"dataframe\">\n",
       "  <thead>\n",
       "    <tr style=\"text-align: right;\">\n",
       "      <th></th>\n",
       "      <th>ML_name</th>\n",
       "      <th>ROC_AUC valid</th>\n",
       "      <th>ROC_AUC test</th>\n",
       "    </tr>\n",
       "  </thead>\n",
       "  <tbody>\n",
       "    <tr>\n",
       "      <th>0</th>\n",
       "      <td>TF-IDF + LogReg</td>\n",
       "      <td>0.987668</td>\n",
       "      <td>0.988127</td>\n",
       "    </tr>\n",
       "    <tr>\n",
       "      <th>1</th>\n",
       "      <td>SentenceTransformer + LogReg</td>\n",
       "      <td>0.831664</td>\n",
       "      <td>0.974624</td>\n",
       "    </tr>\n",
       "    <tr>\n",
       "      <th>2</th>\n",
       "      <td>CountVectorizer + Catboost</td>\n",
       "      <td>0.951646</td>\n",
       "      <td>0.921190</td>\n",
       "    </tr>\n",
       "    <tr>\n",
       "      <th>3</th>\n",
       "      <td>FastText + LogReg</td>\n",
       "      <td>0.848632</td>\n",
       "      <td>0.843853</td>\n",
       "    </tr>\n",
       "  </tbody>\n",
       "</table>\n",
       "</div>"
      ],
      "text/plain": [
       "                        ML_name  ROC_AUC valid  ROC_AUC test\n",
       "0               TF-IDF + LogReg       0.987668      0.988127\n",
       "1  SentenceTransformer + LogReg       0.831664      0.974624\n",
       "2    CountVectorizer + Catboost       0.951646      0.921190\n",
       "3             FastText + LogReg       0.848632      0.843853"
      ]
     },
     "execution_count": 69,
     "metadata": {},
     "output_type": "execute_result"
    }
   ],
   "source": [
    "result_df.loc[3]=['FastText + LogReg', round(score_val_ft, 6), round(score_test_ft, 6)]\n",
    "result_df.head()"
   ]
  },
  {
   "cell_type": "markdown",
   "metadata": {
    "id": "k9nCUuH3k-Pw"
   },
   "source": [
    "# 4 Поиск дубликата в БД"
   ]
  },
  {
   "cell_type": "markdown",
   "metadata": {
    "id": "C6tUM4GGk-Pw"
   },
   "source": [
    "Поиск дубликата будем искать через расстояния между вектором Вводимого значения и вектором каждой строки колонкой `name_1`"
   ]
  },
  {
   "cell_type": "code",
   "execution_count": 70,
   "metadata": {
    "colab": {
     "base_uri": "https://localhost:8080/",
     "height": 206
    },
    "executionInfo": {
     "elapsed": 419,
     "status": "ok",
     "timestamp": 1666709497534,
     "user": {
      "displayName": "Kirill Pribludenko",
      "userId": "11323114555404963403"
     },
     "user_tz": -180
    },
    "id": "p5eGeoEbnaZ8",
    "outputId": "51acd3a1-487c-4583-fc14-870a2a7b7e56"
   },
   "outputs": [
    {
     "data": {
      "text/html": [
       "<div>\n",
       "<style scoped>\n",
       "    .dataframe tbody tr th:only-of-type {\n",
       "        vertical-align: middle;\n",
       "    }\n",
       "\n",
       "    .dataframe tbody tr th {\n",
       "        vertical-align: top;\n",
       "    }\n",
       "\n",
       "    .dataframe thead th {\n",
       "        text-align: right;\n",
       "    }\n",
       "</style>\n",
       "<table border=\"1\" class=\"dataframe\">\n",
       "  <thead>\n",
       "    <tr style=\"text-align: right;\">\n",
       "      <th></th>\n",
       "      <th>name_1</th>\n",
       "      <th>name_2</th>\n",
       "      <th>is_duplicate</th>\n",
       "      <th>full_name</th>\n",
       "    </tr>\n",
       "  </thead>\n",
       "  <tbody>\n",
       "    <tr>\n",
       "      <th>1223</th>\n",
       "      <td>rah indtries</td>\n",
       "      <td>zhejiang materials indtries chemica</td>\n",
       "      <td>0</td>\n",
       "      <td>rah indtries zhejiang materials indtries chemica</td>\n",
       "    </tr>\n",
       "    <tr>\n",
       "      <th>101698</th>\n",
       "      <td></td>\n",
       "      <td>soprema soprema</td>\n",
       "      <td>0</td>\n",
       "      <td>soprema soprema</td>\n",
       "    </tr>\n",
       "    <tr>\n",
       "      <th>213631</th>\n",
       "      <td>logistics</td>\n",
       "      <td>eagle global logistics</td>\n",
       "      <td>0</td>\n",
       "      <td>logistics eagle global logistics</td>\n",
       "    </tr>\n",
       "    <tr>\n",
       "      <th>408591</th>\n",
       "      <td>composite engineering plastics   dongguan century</td>\n",
       "      <td>idt plastic   in guangzhou</td>\n",
       "      <td>0</td>\n",
       "      <td>composite engineering plastics   dongguan cent...</td>\n",
       "    </tr>\n",
       "    <tr>\n",
       "      <th>16167</th>\n",
       "      <td>shenzhen finestar technology</td>\n",
       "      <td>shenzhen indtrial</td>\n",
       "      <td>0</td>\n",
       "      <td>shenzhen finestar technology shenzhen indtrial</td>\n",
       "    </tr>\n",
       "  </tbody>\n",
       "</table>\n",
       "</div>"
      ],
      "text/plain": [
       "                                                   name_1  \\\n",
       "1223                                         rah indtries   \n",
       "101698                                                      \n",
       "213631                                          logistics   \n",
       "408591  composite engineering plastics   dongguan century   \n",
       "16167                        shenzhen finestar technology   \n",
       "\n",
       "                                     name_2 is_duplicate  \\\n",
       "1223    zhejiang materials indtries chemica            0   \n",
       "101698                      soprema soprema            0   \n",
       "213631               eagle global logistics            0   \n",
       "408591           idt plastic   in guangzhou            0   \n",
       "16167                     shenzhen indtrial            0   \n",
       "\n",
       "                                                full_name  \n",
       "1223     rah indtries zhejiang materials indtries chemica  \n",
       "101698                                    soprema soprema  \n",
       "213631                   logistics eagle global logistics  \n",
       "408591  composite engineering plastics   dongguan cent...  \n",
       "16167      shenzhen finestar technology shenzhen indtrial  "
      ]
     },
     "execution_count": 70,
     "metadata": {},
     "output_type": "execute_result"
    }
   ],
   "source": [
    "final_df.sample(5)"
   ]
  },
  {
   "cell_type": "code",
   "execution_count": 71,
   "metadata": {
    "executionInfo": {
     "elapsed": 588,
     "status": "ok",
     "timestamp": 1666709664064,
     "user": {
      "displayName": "Kirill Pribludenko",
      "userId": "11323114555404963403"
     },
     "user_tz": -180
    },
    "id": "iOUVPMG9k-Pw"
   },
   "outputs": [],
   "source": [
    "# задаем пример названия компании для поиска, сознательно чуть исказив название добавив к нему com\n",
    "search_name = 'pharm pack com'"
   ]
  },
  {
   "cell_type": "code",
   "execution_count": 72,
   "metadata": {
    "executionInfo": {
     "elapsed": 561,
     "status": "ok",
     "timestamp": 1666709666587,
     "user": {
      "displayName": "Kirill Pribludenko",
      "userId": "11323114555404963403"
     },
     "user_tz": -180
    },
    "id": "4JpTG_rdk-Pw"
   },
   "outputs": [],
   "source": [
    "search_col = final_df['name_1']"
   ]
  },
  {
   "cell_type": "code",
   "execution_count": 73,
   "metadata": {
    "executionInfo": {
     "elapsed": 23337,
     "status": "ok",
     "timestamp": 1666709691532,
     "user": {
      "displayName": "Kirill Pribludenko",
      "userId": "11323114555404963403"
     },
     "user_tz": -180
    },
    "id": "txvfRTzLk-Pw"
   },
   "outputs": [],
   "source": [
    "corpus = search_col.values.astype('U')\n",
    "search_tab_v = count_tf_idf.fit_transform(corpus)\n",
    "search_name_v = count_tf_idf.transform(np.array([search_name]))"
   ]
  },
  {
   "cell_type": "code",
   "execution_count": 74,
   "metadata": {
    "executionInfo": {
     "elapsed": 822,
     "status": "ok",
     "timestamp": 1666709692351,
     "user": {
      "displayName": "Kirill Pribludenko",
      "userId": "11323114555404963403"
     },
     "user_tz": -180
    },
    "id": "EzhjnoBJk-Px"
   },
   "outputs": [],
   "source": [
    "from sklearn.metrics import pairwise_distances"
   ]
  },
  {
   "cell_type": "code",
   "execution_count": 75,
   "metadata": {
    "colab": {
     "base_uri": "https://localhost:8080/"
    },
    "executionInfo": {
     "elapsed": 228276,
     "status": "ok",
     "timestamp": 1666709920624,
     "user": {
      "displayName": "Kirill Pribludenko",
      "userId": "11323114555404963403"
     },
     "user_tz": -180
    },
    "id": "JNlHqsBRk-Px",
    "outputId": "8a6df5ee-4086-4193-b898-51b8f5beb6d7"
   },
   "outputs": [
    {
     "name": "stdout",
     "output_type": "stream",
     "text": [
      "Наиболее похожее название компании в базе: pharm pack\n"
     ]
    }
   ],
   "source": [
    "distances = [pairwise_distances(search_tab_v[x], search_name_v) for x in range(search_tab_v.shape[0])]\n",
    "\n",
    "best_index = np.array(distances).argmin()\n",
    "\n",
    "print(\"Наиболее похожее название компании в базе:\", final_df.iloc[best_index]['name_1'])"
   ]
  },
  {
   "cell_type": "markdown",
   "metadata": {
    "id": "9dq9DpGJJfId"
   },
   "source": [
    "# Итоговые результаты и вывод"
   ]
  },
  {
   "cell_type": "code",
   "execution_count": 76,
   "metadata": {
    "id": "7ADjb6hNJiqD"
   },
   "outputs": [
    {
     "data": {
      "text/html": [
       "<div>\n",
       "<style scoped>\n",
       "    .dataframe tbody tr th:only-of-type {\n",
       "        vertical-align: middle;\n",
       "    }\n",
       "\n",
       "    .dataframe tbody tr th {\n",
       "        vertical-align: top;\n",
       "    }\n",
       "\n",
       "    .dataframe thead th {\n",
       "        text-align: right;\n",
       "    }\n",
       "</style>\n",
       "<table border=\"1\" class=\"dataframe\">\n",
       "  <thead>\n",
       "    <tr style=\"text-align: right;\">\n",
       "      <th></th>\n",
       "      <th>ML_name</th>\n",
       "      <th>ROC_AUC valid</th>\n",
       "      <th>ROC_AUC test</th>\n",
       "    </tr>\n",
       "  </thead>\n",
       "  <tbody>\n",
       "    <tr>\n",
       "      <th>0</th>\n",
       "      <td>TF-IDF + LogReg</td>\n",
       "      <td>0.987668</td>\n",
       "      <td>0.988127</td>\n",
       "    </tr>\n",
       "    <tr>\n",
       "      <th>1</th>\n",
       "      <td>SentenceTransformer + LogReg</td>\n",
       "      <td>0.831664</td>\n",
       "      <td>0.974624</td>\n",
       "    </tr>\n",
       "    <tr>\n",
       "      <th>2</th>\n",
       "      <td>CountVectorizer + Catboost</td>\n",
       "      <td>0.951646</td>\n",
       "      <td>0.921190</td>\n",
       "    </tr>\n",
       "    <tr>\n",
       "      <th>3</th>\n",
       "      <td>FastText + LogReg</td>\n",
       "      <td>0.848632</td>\n",
       "      <td>0.843853</td>\n",
       "    </tr>\n",
       "  </tbody>\n",
       "</table>\n",
       "</div>"
      ],
      "text/plain": [
       "                        ML_name  ROC_AUC valid  ROC_AUC test\n",
       "0               TF-IDF + LogReg       0.987668      0.988127\n",
       "1  SentenceTransformer + LogReg       0.831664      0.974624\n",
       "2    CountVectorizer + Catboost       0.951646      0.921190\n",
       "3             FastText + LogReg       0.848632      0.843853"
      ]
     },
     "execution_count": 76,
     "metadata": {},
     "output_type": "execute_result"
    }
   ],
   "source": [
    "result_df.head()"
   ]
  },
  {
   "cell_type": "markdown",
   "metadata": {
    "id": "bO0-jpYvqgfA"
   },
   "source": [
    "В данной работе были рассмотрены различные варианты преобразования названий компаний в векторы и обучены различные модели для классификации дубликатов. На удивление бейзлайн превзойти не удалось. Следовательно TF-IDF лучший способ преобразования текста в векторы для данной задачи."
   ]
  },
  {
   "cell_type": "code",
   "execution_count": null,
   "metadata": {
    "id": "vT3VOhfFq-wc"
   },
   "outputs": [],
   "source": []
  }
 ],
 "metadata": {
  "colab": {
   "collapsed_sections": [
    "Iprxrqq8GTjP",
    "_HvSsYgOrcxN"
   ],
   "provenance": []
  },
  "kernelspec": {
   "display_name": "Python 3 (ipykernel)",
   "language": "python",
   "name": "python3"
  },
  "language_info": {
   "codemirror_mode": {
    "name": "ipython",
    "version": 3
   },
   "file_extension": ".py",
   "mimetype": "text/x-python",
   "name": "python",
   "nbconvert_exporter": "python",
   "pygments_lexer": "ipython3",
   "version": "3.9.12"
  }
 },
 "nbformat": 4,
 "nbformat_minor": 1
}
