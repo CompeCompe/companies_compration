{
 "cells": [
  {
   "cell_type": "markdown",
   "metadata": {
    "id": "5KugeJq25e6p"
   },
   "source": [
    "Задача: необходимо разработать модель, которая будет \"сравнивать\" названия компаний из двух столбцов таблицы и выдавать являются ли они \"одинаковыми\". Реализовать поисковой движок по данному датасету. Тестовых данных не будет, нужно разделить полученный датасет на трейн, вал, и тест."
   ]
  },
  {
   "cell_type": "markdown",
   "metadata": {
    "id": "raw7qRai58yI"
   },
   "source": [
    "---"
   ]
  },
  {
   "cell_type": "markdown",
   "metadata": {
    "id": "ij_ICvnv6BBv"
   },
   "source": [
    "Содержание:\n",
    "\n",
    "0. Загрузка и обзор данных\n",
    "1. Очистка данных\n",
    "2. Бейзлайн - TF-IDF + LogReg\n",
    "3. Решение членов команды"
   ]
  },
  {
   "cell_type": "markdown",
   "metadata": {
    "id": "y4EAcIEl6YUo"
   },
   "source": [
    "# 0. Загрузка и обзор данных"
   ]
  },
  {
   "cell_type": "code",
   "execution_count": 1,
   "metadata": {
    "executionInfo": {
     "elapsed": 1475,
     "status": "ok",
     "timestamp": 1666630875151,
     "user": {
      "displayName": "Kirill Pribludenko",
      "userId": "11323114555404963403"
     },
     "user_tz": -180
    },
    "id": "SpZPHFgj5Zne"
   },
   "outputs": [],
   "source": [
    "import pandas as pd\n",
    "import numpy as np\n",
    "import re\n",
    "\n",
    "from sklearn.feature_extraction.text import TfidfVectorizer\n",
    "from sklearn.model_selection import GridSearchCV, train_test_split\n",
    "from sklearn.metrics import f1_score, classification_report, roc_auc_score\n",
    "\n",
    "from sklearn.linear_model import LogisticRegression"
   ]
  },
  {
   "cell_type": "code",
   "execution_count": null,
   "metadata": {
    "colab": {
     "base_uri": "https://localhost:8080/"
    },
    "executionInfo": {
     "elapsed": 4387,
     "status": "ok",
     "timestamp": 1666630879531,
     "user": {
      "displayName": "Kirill Pribludenko",
      "userId": "11323114555404963403"
     },
     "user_tz": -180
    },
    "id": "1d7R8etl6kcR",
    "outputId": "e33469b1-f5b4-406e-82e3-6b043cac873e"
   },
   "outputs": [],
   "source": [
    "#!gdown 1hr1XGnhXskK7GXTw5bw8_-kkWHBcBMf_ # for colab"
   ]
  },
  {
   "cell_type": "code",
   "execution_count": 2,
   "metadata": {
    "executionInfo": {
     "elapsed": 794,
     "status": "ok",
     "timestamp": 1666630880321,
     "user": {
      "displayName": "Kirill Pribludenko",
      "userId": "11323114555404963403"
     },
     "user_tz": -180
    },
    "id": "uteuaCSM6z4n"
   },
   "outputs": [],
   "source": [
    "#df = pd.read_csv('/content/train.csv') # for colab\n",
    "df = pd.read_csv('train.csv')"
   ]
  },
  {
   "cell_type": "code",
   "execution_count": 3,
   "metadata": {
    "colab": {
     "base_uri": "https://localhost:8080/"
    },
    "executionInfo": {
     "elapsed": 42,
     "status": "ok",
     "timestamp": 1666630880322,
     "user": {
      "displayName": "Kirill Pribludenko",
      "userId": "11323114555404963403"
     },
     "user_tz": -180
    },
    "id": "hYg0jReT7_k6",
    "outputId": "08889841-4fbd-4b0a-8af2-d5e02c0e21f2"
   },
   "outputs": [
    {
     "data": {
      "text/plain": [
       "(497819, 4)"
      ]
     },
     "execution_count": 3,
     "metadata": {},
     "output_type": "execute_result"
    }
   ],
   "source": [
    "df.shape"
   ]
  },
  {
   "cell_type": "code",
   "execution_count": 4,
   "metadata": {
    "colab": {
     "base_uri": "https://localhost:8080/",
     "height": 206
    },
    "executionInfo": {
     "elapsed": 38,
     "status": "ok",
     "timestamp": 1666630880323,
     "user": {
      "displayName": "Kirill Pribludenko",
      "userId": "11323114555404963403"
     },
     "user_tz": -180
    },
    "id": "vnoXRuuZ6_v2",
    "outputId": "bc53c28a-eedc-428c-f9ab-8845f52b9695"
   },
   "outputs": [
    {
     "data": {
      "text/html": [
       "<div>\n",
       "<style scoped>\n",
       "    .dataframe tbody tr th:only-of-type {\n",
       "        vertical-align: middle;\n",
       "    }\n",
       "\n",
       "    .dataframe tbody tr th {\n",
       "        vertical-align: top;\n",
       "    }\n",
       "\n",
       "    .dataframe thead th {\n",
       "        text-align: right;\n",
       "    }\n",
       "</style>\n",
       "<table border=\"1\" class=\"dataframe\">\n",
       "  <thead>\n",
       "    <tr style=\"text-align: right;\">\n",
       "      <th></th>\n",
       "      <th>pair_id</th>\n",
       "      <th>name_1</th>\n",
       "      <th>name_2</th>\n",
       "      <th>is_duplicate</th>\n",
       "    </tr>\n",
       "  </thead>\n",
       "  <tbody>\n",
       "    <tr>\n",
       "      <th>0</th>\n",
       "      <td>1</td>\n",
       "      <td>Iko Industries Ltd.</td>\n",
       "      <td>Enormous Industrial Trade Pvt., Ltd.</td>\n",
       "      <td>0</td>\n",
       "    </tr>\n",
       "    <tr>\n",
       "      <th>1</th>\n",
       "      <td>2</td>\n",
       "      <td>Apcotex Industries Ltd.</td>\n",
       "      <td>Technocraft Industries (India) Ltd.</td>\n",
       "      <td>0</td>\n",
       "    </tr>\n",
       "    <tr>\n",
       "      <th>2</th>\n",
       "      <td>3</td>\n",
       "      <td>Rishichem Distributors Pvt., Ltd.</td>\n",
       "      <td>Dsa</td>\n",
       "      <td>0</td>\n",
       "    </tr>\n",
       "    <tr>\n",
       "      <th>3</th>\n",
       "      <td>4</td>\n",
       "      <td>Powermax Rubber Factory</td>\n",
       "      <td>Co. One</td>\n",
       "      <td>0</td>\n",
       "    </tr>\n",
       "    <tr>\n",
       "      <th>4</th>\n",
       "      <td>5</td>\n",
       "      <td>Tress A/S</td>\n",
       "      <td>Longyou Industries Park Zhejiang</td>\n",
       "      <td>0</td>\n",
       "    </tr>\n",
       "  </tbody>\n",
       "</table>\n",
       "</div>"
      ],
      "text/plain": [
       "   pair_id                             name_1  \\\n",
       "0        1                Iko Industries Ltd.   \n",
       "1        2            Apcotex Industries Ltd.   \n",
       "2        3  Rishichem Distributors Pvt., Ltd.   \n",
       "3        4            Powermax Rubber Factory   \n",
       "4        5                          Tress A/S   \n",
       "\n",
       "                                 name_2  is_duplicate  \n",
       "0  Enormous Industrial Trade Pvt., Ltd.             0  \n",
       "1   Technocraft Industries (India) Ltd.             0  \n",
       "2                                   Dsa             0  \n",
       "3                               Co. One             0  \n",
       "4      Longyou Industries Park Zhejiang             0  "
      ]
     },
     "execution_count": 4,
     "metadata": {},
     "output_type": "execute_result"
    }
   ],
   "source": [
    "df.head()"
   ]
  },
  {
   "cell_type": "code",
   "execution_count": 5,
   "metadata": {
    "colab": {
     "base_uri": "https://localhost:8080/"
    },
    "executionInfo": {
     "elapsed": 33,
     "status": "ok",
     "timestamp": 1666630880323,
     "user": {
      "displayName": "Kirill Pribludenko",
      "userId": "11323114555404963403"
     },
     "user_tz": -180
    },
    "id": "MlVsXzi88CCD",
    "outputId": "fd669acd-e123-4868-9dd8-46c01321cd3a"
   },
   "outputs": [
    {
     "data": {
      "text/plain": [
       "0.7348052203712594"
      ]
     },
     "execution_count": 5,
     "metadata": {},
     "output_type": "execute_result"
    }
   ],
   "source": [
    "df['is_duplicate'].mean() * 100"
   ]
  },
  {
   "cell_type": "markdown",
   "metadata": {
    "id": "2JZ4XrcR8Lo3"
   },
   "source": [
    "Датасет совсем не сбалансированный, только 0,7% положительного класса"
   ]
  },
  {
   "cell_type": "code",
   "execution_count": 6,
   "metadata": {
    "colab": {
     "base_uri": "https://localhost:8080/"
    },
    "executionInfo": {
     "elapsed": 31,
     "status": "ok",
     "timestamp": 1666630880324,
     "user": {
      "displayName": "Kirill Pribludenko",
      "userId": "11323114555404963403"
     },
     "user_tz": -180
    },
    "id": "6cMNYwHr7Mbb",
    "outputId": "9940ada8-253b-4d90-e97c-59119d9cfdaa"
   },
   "outputs": [
    {
     "data": {
      "text/plain": [
       "0"
      ]
     },
     "execution_count": 6,
     "metadata": {},
     "output_type": "execute_result"
    }
   ],
   "source": [
    "df['pair_id'].isna().sum()"
   ]
  },
  {
   "cell_type": "code",
   "execution_count": 7,
   "metadata": {
    "colab": {
     "base_uri": "https://localhost:8080/"
    },
    "executionInfo": {
     "elapsed": 27,
     "status": "ok",
     "timestamp": 1666630880324,
     "user": {
      "displayName": "Kirill Pribludenko",
      "userId": "11323114555404963403"
     },
     "user_tz": -180
    },
    "id": "QTkdjSY-7T2t",
    "outputId": "f2e129ac-0ac3-481e-aa96-80d75cc2dc54"
   },
   "outputs": [
    {
     "data": {
      "text/plain": [
       "0"
      ]
     },
     "execution_count": 7,
     "metadata": {},
     "output_type": "execute_result"
    }
   ],
   "source": [
    "df['is_duplicate'].isna().sum()"
   ]
  },
  {
   "cell_type": "markdown",
   "metadata": {
    "id": "NRx9ltu97uxG"
   },
   "source": [
    "Пропусков нет, отлично. Посмотрим на примеры положительного класса"
   ]
  },
  {
   "cell_type": "code",
   "execution_count": 8,
   "metadata": {
    "colab": {
     "base_uri": "https://localhost:8080/",
     "height": 520
    },
    "executionInfo": {
     "elapsed": 24,
     "status": "ok",
     "timestamp": 1666630880324,
     "user": {
      "displayName": "Kirill Pribludenko",
      "userId": "11323114555404963403"
     },
     "user_tz": -180
    },
    "id": "WVm_XtjM7su3",
    "outputId": "473245ec-d61c-402c-f748-4559d651de5d"
   },
   "outputs": [
    {
     "data": {
      "text/html": [
       "<div>\n",
       "<style scoped>\n",
       "    .dataframe tbody tr th:only-of-type {\n",
       "        vertical-align: middle;\n",
       "    }\n",
       "\n",
       "    .dataframe tbody tr th {\n",
       "        vertical-align: top;\n",
       "    }\n",
       "\n",
       "    .dataframe thead th {\n",
       "        text-align: right;\n",
       "    }\n",
       "</style>\n",
       "<table border=\"1\" class=\"dataframe\">\n",
       "  <thead>\n",
       "    <tr style=\"text-align: right;\">\n",
       "      <th></th>\n",
       "      <th>pair_id</th>\n",
       "      <th>name_1</th>\n",
       "      <th>name_2</th>\n",
       "      <th>is_duplicate</th>\n",
       "    </tr>\n",
       "  </thead>\n",
       "  <tbody>\n",
       "    <tr>\n",
       "      <th>138766</th>\n",
       "      <td>138767</td>\n",
       "      <td>Basf Corp.</td>\n",
       "      <td>Basf De Costa Rica Sociedad Anonima</td>\n",
       "      <td>1</td>\n",
       "    </tr>\n",
       "    <tr>\n",
       "      <th>43394</th>\n",
       "      <td>43395</td>\n",
       "      <td>Shenyang Bridgestone</td>\n",
       "      <td>Bridgestone Canada Inc.</td>\n",
       "      <td>1</td>\n",
       "    </tr>\n",
       "    <tr>\n",
       "      <th>454132</th>\n",
       "      <td>454133</td>\n",
       "      <td>SOPREMA Polska Sp. z o.o.</td>\n",
       "      <td>SOPREMA DRUMMONDVILLE</td>\n",
       "      <td>1</td>\n",
       "    </tr>\n",
       "    <tr>\n",
       "      <th>353107</th>\n",
       "      <td>353108</td>\n",
       "      <td>JOWAT SE\"/ЧЕРЕЗ ТЕРМИНАЛ В ПОЛЬШЕ</td>\n",
       "      <td>ООО\"ЙОВАТ\"</td>\n",
       "      <td>1</td>\n",
       "    </tr>\n",
       "    <tr>\n",
       "      <th>35161</th>\n",
       "      <td>35162</td>\n",
       "      <td>Arlanxeo Singapore Pte., Ltd. Tearlanxeo Canad...</td>\n",
       "      <td>Arlanxeo Canada Inc.</td>\n",
       "      <td>1</td>\n",
       "    </tr>\n",
       "    <tr>\n",
       "      <th>96861</th>\n",
       "      <td>96862</td>\n",
       "      <td>Bridgestone India Pvt., Ltd.</td>\n",
       "      <td>Bridgestone Tire</td>\n",
       "      <td>1</td>\n",
       "    </tr>\n",
       "    <tr>\n",
       "      <th>141401</th>\n",
       "      <td>141402</td>\n",
       "      <td>Michelin (Shenyang) Tyre Co., Ltd.</td>\n",
       "      <td>Michelin Tyre Plc</td>\n",
       "      <td>1</td>\n",
       "    </tr>\n",
       "    <tr>\n",
       "      <th>475546</th>\n",
       "      <td>475547</td>\n",
       "      <td>Ceva Freight Llc</td>\n",
       "      <td>Ceva Freight Management</td>\n",
       "      <td>1</td>\n",
       "    </tr>\n",
       "    <tr>\n",
       "      <th>247344</th>\n",
       "      <td>247345</td>\n",
       "      <td>Sumitomo Corp. Of America</td>\n",
       "      <td>Sumitomo Corporation Do Brasil Sa</td>\n",
       "      <td>1</td>\n",
       "    </tr>\n",
       "    <tr>\n",
       "      <th>75466</th>\n",
       "      <td>75467</td>\n",
       "      <td>Pirelli Pneus Ltda</td>\n",
       "      <td>Pirelli Neumaticos Sa De Cv Boulev</td>\n",
       "      <td>1</td>\n",
       "    </tr>\n",
       "    <tr>\n",
       "      <th>190174</th>\n",
       "      <td>190175</td>\n",
       "      <td>Michelin Na Asrc</td>\n",
       "      <td>Sociedade Michelin De Participacoes Ind E Come...</td>\n",
       "      <td>1</td>\n",
       "    </tr>\n",
       "    <tr>\n",
       "      <th>313302</th>\n",
       "      <td>313303</td>\n",
       "      <td>Pirelli Neumaticos Sa</td>\n",
       "      <td>Pirelli Tire Llc</td>\n",
       "      <td>1</td>\n",
       "    </tr>\n",
       "    <tr>\n",
       "      <th>354259</th>\n",
       "      <td>354260</td>\n",
       "      <td>Sumitomo Rubber(Hunan) Co. Ltd.</td>\n",
       "      <td>Sumitomo Warehouse (Usa.) Inc.</td>\n",
       "      <td>1</td>\n",
       "    </tr>\n",
       "    <tr>\n",
       "      <th>116905</th>\n",
       "      <td>116906</td>\n",
       "      <td>Michelin Siam Co., Ltd.</td>\n",
       "      <td>Sociedade Michelin De Participacoes Indust E C...</td>\n",
       "      <td>1</td>\n",
       "    </tr>\n",
       "    <tr>\n",
       "      <th>175148</th>\n",
       "      <td>175149</td>\n",
       "      <td>SOPREMA Polska Sp. z o.o.</td>\n",
       "      <td>SOPREMA SOURGES</td>\n",
       "      <td>1</td>\n",
       "    </tr>\n",
       "  </tbody>\n",
       "</table>\n",
       "</div>"
      ],
      "text/plain": [
       "        pair_id                                             name_1  \\\n",
       "138766   138767                                         Basf Corp.   \n",
       "43394     43395                               Shenyang Bridgestone   \n",
       "454132   454133                          SOPREMA Polska Sp. z o.o.   \n",
       "353107   353108                  JOWAT SE\"/ЧЕРЕЗ ТЕРМИНАЛ В ПОЛЬШЕ   \n",
       "35161     35162  Arlanxeo Singapore Pte., Ltd. Tearlanxeo Canad...   \n",
       "96861     96862                       Bridgestone India Pvt., Ltd.   \n",
       "141401   141402                 Michelin (Shenyang) Tyre Co., Ltd.   \n",
       "475546   475547                                   Ceva Freight Llc   \n",
       "247344   247345                          Sumitomo Corp. Of America   \n",
       "75466     75467                                 Pirelli Pneus Ltda   \n",
       "190174   190175                                   Michelin Na Asrc   \n",
       "313302   313303                              Pirelli Neumaticos Sa   \n",
       "354259   354260                    Sumitomo Rubber(Hunan) Co. Ltd.   \n",
       "116905   116906                            Michelin Siam Co., Ltd.   \n",
       "175148   175149                          SOPREMA Polska Sp. z o.o.   \n",
       "\n",
       "                                                   name_2  is_duplicate  \n",
       "138766                Basf De Costa Rica Sociedad Anonima             1  \n",
       "43394                             Bridgestone Canada Inc.             1  \n",
       "454132                              SOPREMA DRUMMONDVILLE             1  \n",
       "353107                                         ООО\"ЙОВАТ\"             1  \n",
       "35161                                Arlanxeo Canada Inc.             1  \n",
       "96861                                    Bridgestone Tire             1  \n",
       "141401                                  Michelin Tyre Plc             1  \n",
       "475546                            Ceva Freight Management             1  \n",
       "247344                  Sumitomo Corporation Do Brasil Sa             1  \n",
       "75466                  Pirelli Neumaticos Sa De Cv Boulev             1  \n",
       "190174  Sociedade Michelin De Participacoes Ind E Come...             1  \n",
       "313302                                   Pirelli Tire Llc             1  \n",
       "354259                     Sumitomo Warehouse (Usa.) Inc.             1  \n",
       "116905  Sociedade Michelin De Participacoes Indust E C...             1  \n",
       "175148                                    SOPREMA SOURGES             1  "
      ]
     },
     "execution_count": 8,
     "metadata": {},
     "output_type": "execute_result"
    }
   ],
   "source": [
    "df_one = df[df['is_duplicate'] == 1]\n",
    "df_one.sample(15)"
   ]
  },
  {
   "cell_type": "markdown",
   "metadata": {
    "id": "tLGdo4Le9LKJ"
   },
   "source": [
    "Как видно, названия компаний:\n",
    "1. Написаны на разных языках - по хорошему надо привести все к одному языку - англ.\n",
    "2. Присутствует указание страны - необходимо удалить названия стран\n",
    "3. Сокращенные названия компаний Ltd., Co., и т.д. - необходимо удалить их\n",
    "4. Привести все к одному регистру, убрать знаки препинания, спец символы () \\ и т.д.\n",
    "5. Удалить цифры и адреса - это вопрос надо подробней разобрать"
   ]
  },
  {
   "cell_type": "markdown",
   "metadata": {
    "id": "DKgNRU8wGRt8"
   },
   "source": [
    "---"
   ]
  },
  {
   "cell_type": "markdown",
   "metadata": {
    "id": "Mi4476pp8VoS"
   },
   "source": [
    "# 1 Очистка данных"
   ]
  },
  {
   "cell_type": "markdown",
   "metadata": {
    "id": "Iprxrqq8GTjP"
   },
   "source": [
    "## 1.1 Перевод\n",
    "\n",
    "Попробуем несколько методов посмотрим какой быстрее работает"
   ]
  },
  {
   "cell_type": "markdown",
   "metadata": {
    "id": "pkgQ9xQP8jA6"
   },
   "source": [
    "### 1.1.1 Translatepy - 321 stars on Github"
   ]
  },
  {
   "cell_type": "code",
   "execution_count": null,
   "metadata": {
    "id": "5hJDojut84uv"
   },
   "outputs": [],
   "source": [
    "!pip install translatepy"
   ]
  },
  {
   "cell_type": "code",
   "execution_count": null,
   "metadata": {
    "executionInfo": {
     "elapsed": 421,
     "status": "ok",
     "timestamp": 1666630892857,
     "user": {
      "displayName": "Kirill Pribludenko",
      "userId": "11323114555404963403"
     },
     "user_tz": -180
    },
    "id": "TRtn9I6y8t2f"
   },
   "outputs": [],
   "source": [
    "from translatepy.translators.google import GoogleTranslate\n",
    "translator = GoogleTranslate()"
   ]
  },
  {
   "cell_type": "markdown",
   "metadata": {
    "id": "GxfLfJ9_qKcy"
   },
   "source": [
    "Проверка работы"
   ]
  },
  {
   "cell_type": "code",
   "execution_count": null,
   "metadata": {
    "colab": {
     "base_uri": "https://localhost:8080/",
     "height": 36
    },
    "executionInfo": {
     "elapsed": 7,
     "status": "ok",
     "timestamp": 1666630892858,
     "user": {
      "displayName": "Kirill Pribludenko",
      "userId": "11323114555404963403"
     },
     "user_tz": -180
    },
    "id": "hXUtCslh-jgi",
    "outputId": "79625cfa-6d14-4bac-b21b-60d27600328d"
   },
   "outputs": [],
   "source": [
    "df['name_1'][24518]"
   ]
  },
  {
   "cell_type": "code",
   "execution_count": null,
   "metadata": {
    "colab": {
     "base_uri": "https://localhost:8080/"
    },
    "executionInfo": {
     "elapsed": 437,
     "status": "ok",
     "timestamp": 1666630893291,
     "user": {
      "displayName": "Kirill Pribludenko",
      "userId": "11323114555404963403"
     },
     "user_tz": -180
    },
    "id": "ovOYQrVi820z",
    "outputId": "599c5d11-2578-446a-e420-1454a1613c0b"
   },
   "outputs": [],
   "source": [
    "a = translator.language(df['name_1'][24518])\n",
    "print(str(a.result))"
   ]
  },
  {
   "cell_type": "code",
   "execution_count": null,
   "metadata": {
    "colab": {
     "base_uri": "https://localhost:8080/"
    },
    "executionInfo": {
     "elapsed": 873,
     "status": "ok",
     "timestamp": 1666630894161,
     "user": {
      "displayName": "Kirill Pribludenko",
      "userId": "11323114555404963403"
     },
     "user_tz": -180
    },
    "id": "ztvTdN-SAUFZ",
    "outputId": "60b9c27b-c6be-4c1d-efe2-b60de0a7f827"
   },
   "outputs": [],
   "source": [
    "gtranslate = GoogleTranslate()\n",
    "test = gtranslate.translate(df['name_1'][24518], 'eng')\n",
    "print(str(test.result))"
   ]
  },
  {
   "cell_type": "markdown",
   "metadata": {
    "id": "ROzJbSonqPaA"
   },
   "source": [
    "Отлично, теперь напишем функцию для применения к всему датасету"
   ]
  },
  {
   "cell_type": "code",
   "execution_count": null,
   "metadata": {
    "executionInfo": {
     "elapsed": 7,
     "status": "ok",
     "timestamp": 1666630894161,
     "user": {
      "displayName": "Kirill Pribludenko",
      "userId": "11323114555404963403"
     },
     "user_tz": -180
    },
    "id": "k6IXUwhQBJJb"
   },
   "outputs": [],
   "source": [
    "def translate (word):\n",
    "  '''\n",
    "  Translate words into English if they are in another language.\n",
    "  '''\n",
    "  try:\n",
    "    temp = translator.language(word)\n",
    "    if str(temp.result) != 'eng':\n",
    "      tr = gtranslate.translate(word, 'eng').result\n",
    "    else:\n",
    "      tr = word\n",
    "  except Exception:\n",
    "    tr = word\n",
    "    \n",
    "  return str(tr)"
   ]
  },
  {
   "cell_type": "markdown",
   "metadata": {
    "id": "SDGmrDSwqYET"
   },
   "source": [
    "Засечем время выполнения"
   ]
  },
  {
   "cell_type": "code",
   "execution_count": null,
   "metadata": {
    "id": "mgwvfUPwqXn9"
   },
   "outputs": [],
   "source": [
    "%%time\n",
    "df['name_1_tr'] = df['name_1'].apply(lambda x: translate(x))\n",
    "# терпения хватило только на 3 часа, не успело закончить и выключил"
   ]
  },
  {
   "cell_type": "code",
   "execution_count": null,
   "metadata": {
    "id": "RcjeczdQqySK"
   },
   "outputs": [],
   "source": [
    "%%time\n",
    "df['name_2_tr'] = df['name_2'].apply(lambda x: translate(x))\n",
    "# эту ячейку даже не запускал"
   ]
  },
  {
   "cell_type": "code",
   "execution_count": null,
   "metadata": {
    "executionInfo": {
     "elapsed": 4,
     "status": "ok",
     "timestamp": 1666631033868,
     "user": {
      "displayName": "Kirill Pribludenko",
      "userId": "11323114555404963403"
     },
     "user_tz": -180
    },
    "id": "_uSbcW1agHLA"
   },
   "outputs": [],
   "source": [
    "temp_df = df.loc[:999,:]"
   ]
  },
  {
   "cell_type": "code",
   "execution_count": null,
   "metadata": {
    "id": "Fm68mB0yggB8"
   },
   "outputs": [],
   "source": [
    "%%time\n",
    "temp_df['name_1_tr'] = temp_df['name_1'].apply(lambda x: translate(x))\n",
    "# посмотрим за сколько получится перевести 1000 строк"
   ]
  },
  {
   "cell_type": "markdown",
   "metadata": {
    "id": "Ek8lKc_bkFRu"
   },
   "source": [
    "Итого на 500к строк понадобится в хкудшем случае 25 часов 8("
   ]
  },
  {
   "cell_type": "markdown",
   "metadata": {
    "id": "_HvSsYgOrcxN"
   },
   "source": [
    "### 1.1.2 Deep-translator - 709 stars on Github"
   ]
  },
  {
   "cell_type": "markdown",
   "metadata": {
    "id": "Hs4Gc-SMrgms"
   },
   "source": [
    "В данной библиотеке также можно использовать различные переводчики от именнитых фирм (для некоторых типа Яндекса требуется api ключ). Для определения языка нужно иметь api-key от Detect Language, то есть используется сторонний сервис для определения языка. А без определения языка переводить 500к строк займет еще больше времени. Проверим это."
   ]
  },
  {
   "cell_type": "code",
   "execution_count": null,
   "metadata": {
    "colab": {
     "base_uri": "https://localhost:8080/",
     "height": 453
    },
    "executionInfo": {
     "elapsed": 5321,
     "status": "ok",
     "timestamp": 1666631042761,
     "user": {
      "displayName": "Kirill Pribludenko",
      "userId": "11323114555404963403"
     },
     "user_tz": -180
    },
    "id": "BRk2BZb4vwk-",
    "outputId": "6f050b8c-250f-4fc9-e04a-39dbad3e36da"
   },
   "outputs": [],
   "source": [
    "!pip install -U deep-translator"
   ]
  },
  {
   "cell_type": "code",
   "execution_count": null,
   "metadata": {
    "executionInfo": {
     "elapsed": 7,
     "status": "ok",
     "timestamp": 1666631042761,
     "user": {
      "displayName": "Kirill Pribludenko",
      "userId": "11323114555404963403"
     },
     "user_tz": -180
    },
    "id": "EWJDj33swLcV"
   },
   "outputs": [],
   "source": [
    "from deep_translator import GoogleTranslator"
   ]
  },
  {
   "cell_type": "code",
   "execution_count": null,
   "metadata": {
    "executionInfo": {
     "elapsed": 551,
     "status": "ok",
     "timestamp": 1666631043306,
     "user": {
      "displayName": "Kirill Pribludenko",
      "userId": "11323114555404963403"
     },
     "user_tz": -180
    },
    "id": "PhjdGefYv5bU"
   },
   "outputs": [],
   "source": [
    "translated = GoogleTranslator(source='auto', target='en').translate(df['name_1'][24518])"
   ]
  },
  {
   "cell_type": "code",
   "execution_count": null,
   "metadata": {
    "colab": {
     "base_uri": "https://localhost:8080/",
     "height": 36
    },
    "executionInfo": {
     "elapsed": 5,
     "status": "ok",
     "timestamp": 1666631043307,
     "user": {
      "displayName": "Kirill Pribludenko",
      "userId": "11323114555404963403"
     },
     "user_tz": -180
    },
    "id": "klewodCYwE0I",
    "outputId": "6a903cc2-d2fb-4199-a1ca-e46e9207ecf0"
   },
   "outputs": [],
   "source": [
    "translated"
   ]
  },
  {
   "cell_type": "code",
   "execution_count": null,
   "metadata": {
    "id": "hG7p1Sqnwdg_"
   },
   "outputs": [],
   "source": [
    "%%time\n",
    "temp_df['name_1_tr'] = temp_df['name_1'].apply(lambda x: GoogleTranslator(source='auto', target='en').translate(x))\n",
    "# посмотрим за сколько получится перевести 1000 строк"
   ]
  },
  {
   "cell_type": "code",
   "execution_count": null,
   "metadata": {
    "id": "01uW7sn5wmeA"
   },
   "outputs": [],
   "source": [
    "temp_df"
   ]
  },
  {
   "cell_type": "markdown",
   "metadata": {
    "id": "WFIO-Kzh--h7"
   },
   "source": [
    "Данная библиотека работает быстрее, весь датасет она переведет за 16,6 часов. Быстрее, чем прошлая библиотека, но для наших целей все равно медленно =("
   ]
  },
  {
   "cell_type": "markdown",
   "metadata": {
    "id": "rN1ttcMisk8w"
   },
   "source": [
    "### 1.1.3 No Language Left Behind(NLLB) - 19,4k stars on Github"
   ]
  },
  {
   "cell_type": "markdown",
   "metadata": {
    "id": "iA5Ag0batTn2"
   },
   "source": [
    "Новая сеть выпущенная компанией Meta AI. No Language Left Behind (NLLB) — это первый в своем роде прорывной проект в области искусственного интеллекта, который открывает модели с открытым исходным кодом, способные обеспечить высококачественный перевод напрямую между любой парой из более чем 200 языков, включая малоресурсные языки, такие как астурийский и лугандский, урду и многие другие."
   ]
  },
  {
   "cell_type": "code",
   "execution_count": null,
   "metadata": {
    "id": "HjZUSIhFCBdC"
   },
   "outputs": [],
   "source": [
    "!pip install transformers"
   ]
  },
  {
   "cell_type": "code",
   "execution_count": null,
   "metadata": {
    "id": "5FCjfGzXCNYu"
   },
   "outputs": [],
   "source": [
    "from transformers import AutoTokenizer, AutoModelForSeq2SeqLM, pipeline"
   ]
  },
  {
   "cell_type": "code",
   "execution_count": null,
   "metadata": {
    "executionInfo": {
     "elapsed": 8,
     "status": "aborted",
     "timestamp": 1666631065593,
     "user": {
      "displayName": "Kirill Pribludenko",
      "userId": "11323114555404963403"
     },
     "user_tz": -180
    },
    "id": "RrAI576K4xgQ"
   },
   "outputs": [],
   "source": [
    "model = AutoModelForSeq2SeqLM.from_pretrained(\"facebook/nllb-200-distilled-600M\")\n",
    "tokenizer = AutoTokenizer.from_pretrained(\"facebook/nllb-200-distilled-600M\")"
   ]
  },
  {
   "cell_type": "code",
   "execution_count": null,
   "metadata": {
    "executionInfo": {
     "elapsed": 8,
     "status": "aborted",
     "timestamp": 1666631065593,
     "user": {
      "displayName": "Kirill Pribludenko",
      "userId": "11323114555404963403"
     },
     "user_tz": -180
    },
    "id": "uqM2ADOf46Mq"
   },
   "outputs": [],
   "source": [
    "translator = pipeline('translation', model=model, tokenizer=tokenizer, max_length=1000, src_lang=\"rus_Cyrl\", tgt_lang='eng_Latn')"
   ]
  },
  {
   "cell_type": "code",
   "execution_count": null,
   "metadata": {
    "executionInfo": {
     "elapsed": 9,
     "status": "aborted",
     "timestamp": 1666631065594,
     "user": {
      "displayName": "Kirill Pribludenko",
      "userId": "11323114555404963403"
     },
     "user_tz": -180
    },
    "id": "hJgTDEXCcRUz"
   },
   "outputs": [],
   "source": [
    "translator(df['name_1'][24518])"
   ]
  },
  {
   "cell_type": "markdown",
   "metadata": {
    "id": "94kpKtbSbrIV"
   },
   "source": [
    "В этой модели нужно обязательно указывать исходный язык, сама определять егго модель не умеет =( поэтому нужно городить костыль с определением языка и дальше подавать язык источника для перевода в данной модели. Что на наш взгляд будет занимать большое количество времени по сравнению с ранее рассмотреными библиотеками"
   ]
  },
  {
   "cell_type": "markdown",
   "metadata": {
    "id": "WQWi0bfxgkDT"
   },
   "source": [
    "---"
   ]
  },
  {
   "cell_type": "markdown",
   "metadata": {
    "id": "05QwtGjuglaB"
   },
   "source": [
    "Надо признать, что идея с переводом не совсем удачная, так как перевод занимает большое количество времени. Кусочек датасета брать не логично, так как необходимо будет реализовать поисковой движок по всему датасету."
   ]
  },
  {
   "cell_type": "markdown",
   "metadata": {
    "id": "r4pQsYThBRYW"
   },
   "source": [
    "## 1.2 Удаление названия стран (Максим)"
   ]
  },
  {
   "cell_type": "code",
   "execution_count": 9,
   "metadata": {
    "colab": {
     "base_uri": "https://localhost:8080/"
    },
    "executionInfo": {
     "elapsed": 15829,
     "status": "ok",
     "timestamp": 1666631111010,
     "user": {
      "displayName": "Kirill Pribludenko",
      "userId": "11323114555404963403"
     },
     "user_tz": -180
    },
    "id": "DNLgxLetBcUT",
    "outputId": "1886ddb5-4977-454f-aad7-2e9dfcc28554"
   },
   "outputs": [
    {
     "name": "stdout",
     "output_type": "stream",
     "text": [
      "Requirement already satisfied: pycountry in c:\\programdata\\anaconda3\\lib\\site-packages (22.3.5)\n",
      "Requirement already satisfied: setuptools in c:\\programdata\\anaconda3\\lib\\site-packages (from pycountry) (61.2.0)\n"
     ]
    }
   ],
   "source": [
    "!pip install pycountry"
   ]
  },
  {
   "cell_type": "code",
   "execution_count": 10,
   "metadata": {
    "executionInfo": {
     "elapsed": 571,
     "status": "ok",
     "timestamp": 1666631111578,
     "user": {
      "displayName": "Kirill Pribludenko",
      "userId": "11323114555404963403"
     },
     "user_tz": -180
    },
    "id": "nr5PWUPcdqDT"
   },
   "outputs": [],
   "source": [
    "import csv\n",
    "import pycountry"
   ]
  },
  {
   "cell_type": "code",
   "execution_count": 11,
   "metadata": {
    "executionInfo": {
     "elapsed": 7,
     "status": "ok",
     "timestamp": 1666631111578,
     "user": {
      "displayName": "Kirill Pribludenko",
      "userId": "11323114555404963403"
     },
     "user_tz": -180
    },
    "id": "eHhckyjBd3VD"
   },
   "outputs": [],
   "source": [
    "continents_names = ['Asia', 'Africa', 'North America', 'South America', 'Antarctica', 'Europe', 'Australia']\n",
    "\n",
    "continents_names_regex = '|'.join([continent for continent in continents_names])\n",
    "\n",
    "countries_names_regex = '|'.join([country.name for country in pycountry.countries])\n",
    "countries_names_regex = re.sub(' ', '|', countries_names_regex)\n",
    "countries_names_regex = re.sub(\"[^A-Za-z-|]\", \"\", countries_names_regex)\n",
    "\n",
    "full_regex = continents_names_regex + countries_names_regex\n",
    "\n",
    "pattern = re.compile(full_regex, re.UNICODE | re.IGNORECASE)\n",
    "\n",
    "# file_name = '/content/train.csv'\n",
    "file_name = 'train.csv'\n",
    "labels_dict = dict(pair_id=[], name_1=[], name_2=[], is_duplicate=[])"
   ]
  },
  {
   "cell_type": "code",
   "execution_count": 12,
   "metadata": {
    "executionInfo": {
     "elapsed": 151610,
     "status": "ok",
     "timestamp": 1666631263183,
     "user": {
      "displayName": "Kirill Pribludenko",
      "userId": "11323114555404963403"
     },
     "user_tz": -180
    },
    "id": "kbQxZ_Dsd4Sq"
   },
   "outputs": [],
   "source": [
    "with open(file_name, encoding=\"utf-8\") as file:\n",
    "    reader = csv.reader(file)\n",
    "    next(reader)\n",
    "    for row in reader:\n",
    "        result = [pattern.sub(\"\", company).strip() for company in row]\n",
    "        labels_dict['pair_id'].append(result[0])\n",
    "        labels_dict['name_1'].append(result[1])\n",
    "        labels_dict['name_2'].append(result[2])\n",
    "        labels_dict['is_duplicate'].append(result[3])\n",
    "\n",
    "df = pd.DataFrame(labels_dict)"
   ]
  },
  {
   "cell_type": "code",
   "execution_count": 13,
   "metadata": {
    "colab": {
     "base_uri": "https://localhost:8080/",
     "height": 520
    },
    "executionInfo": {
     "elapsed": 17,
     "status": "ok",
     "timestamp": 1666631263184,
     "user": {
      "displayName": "Kirill Pribludenko",
      "userId": "11323114555404963403"
     },
     "user_tz": -180
    },
    "id": "p_TAu3uHd6zO",
    "outputId": "0eb17f61-f50f-4d72-aefb-5c714e71b547"
   },
   "outputs": [
    {
     "data": {
      "text/html": [
       "<div>\n",
       "<style scoped>\n",
       "    .dataframe tbody tr th:only-of-type {\n",
       "        vertical-align: middle;\n",
       "    }\n",
       "\n",
       "    .dataframe tbody tr th {\n",
       "        vertical-align: top;\n",
       "    }\n",
       "\n",
       "    .dataframe thead th {\n",
       "        text-align: right;\n",
       "    }\n",
       "</style>\n",
       "<table border=\"1\" class=\"dataframe\">\n",
       "  <thead>\n",
       "    <tr style=\"text-align: right;\">\n",
       "      <th></th>\n",
       "      <th>pair_id</th>\n",
       "      <th>name_1</th>\n",
       "      <th>name_2</th>\n",
       "      <th>is_duplicate</th>\n",
       "    </tr>\n",
       "  </thead>\n",
       "  <tbody>\n",
       "    <tr>\n",
       "      <th>347591</th>\n",
       "      <td>347592</td>\n",
       "      <td>Ryder Capital S De Rl De Cv</td>\n",
       "      <td>A S International</td>\n",
       "      <td>0</td>\n",
       "    </tr>\n",
       "    <tr>\n",
       "      <th>268580</th>\n",
       "      <td>268581</td>\n",
       "      <td>Bridgestone  Inc.</td>\n",
       "      <td>Bridgestone Firestone De  Sa De Cv</td>\n",
       "      <td>1</td>\n",
       "    </tr>\n",
       "    <tr>\n",
       "      <th>375040</th>\n",
       "      <td>375041</td>\n",
       "      <td>Pon Pure Chemical</td>\n",
       "      <td>Akzo Nob Chemicals Sa De Cv</td>\n",
       "      <td>0</td>\n",
       "    </tr>\n",
       "    <tr>\n",
       "      <th>36188</th>\n",
       "      <td>36189</td>\n",
       "      <td>Han's Sports</td>\n",
       "      <td>Sportech Ltd.</td>\n",
       "      <td>0</td>\n",
       "    </tr>\n",
       "    <tr>\n",
       "      <th>419213</th>\n",
       "      <td>419214</td>\n",
       "      <td>Pak Petrochemical Indtries (Pvt)</td>\n",
       "      <td>Shenhua Chemical Indtrial Co., Ltd.</td>\n",
       "      <td>0</td>\n",
       "    </tr>\n",
       "    <tr>\n",
       "      <th>258842</th>\n",
       "      <td>258843</td>\n",
       "      <td>Bliz Indtria Comercio Importacao &amp; Exportacao Eir</td>\n",
       "      <td>Salient Indtries Ltd.</td>\n",
       "      <td>0</td>\n",
       "    </tr>\n",
       "    <tr>\n",
       "      <th>266289</th>\n",
       "      <td>266290</td>\n",
       "      <td>Afi International Inc.</td>\n",
       "      <td>Jas Jet Air Service  S.A.</td>\n",
       "      <td>0</td>\n",
       "    </tr>\n",
       "    <tr>\n",
       "      <th>327162</th>\n",
       "      <td>327163</td>\n",
       "      <td>Km Trading Co Llc</td>\n",
       "      <td>Hee Trading Co., Ltd. Ningbo Hao</td>\n",
       "      <td>0</td>\n",
       "    </tr>\n",
       "    <tr>\n",
       "      <th>151933</th>\n",
       "      <td>151934</td>\n",
       "      <td>Ktm Ag</td>\n",
       "      <td>Kumar Adhesive Pvt., Ltd.</td>\n",
       "      <td>0</td>\n",
       "    </tr>\n",
       "    <tr>\n",
       "      <th>306261</th>\n",
       "      <td>306262</td>\n",
       "      <td>Scanwl Logistics (Chi) Inc.</td>\n",
       "      <td>Csll Logistics</td>\n",
       "      <td>0</td>\n",
       "    </tr>\n",
       "    <tr>\n",
       "      <th>79691</th>\n",
       "      <td>79692</td>\n",
       "      <td>Cv.Trijaya Trading Co.</td>\n",
       "      <td>C V International Inc.</td>\n",
       "      <td>0</td>\n",
       "    </tr>\n",
       "    <tr>\n",
       "      <th>262381</th>\n",
       "      <td>262382</td>\n",
       "      <td>Ict</td>\n",
       "      <td>Knitwork Production Ii Llc</td>\n",
       "      <td>0</td>\n",
       "    </tr>\n",
       "    <tr>\n",
       "      <th>330789</th>\n",
       "      <td>330790</td>\n",
       "      <td>Trleborg Istanbul Endtriy Hortumlar ayi Ve Tic</td>\n",
       "      <td>Mll</td>\n",
       "      <td>0</td>\n",
       "    </tr>\n",
       "    <tr>\n",
       "      <th>477827</th>\n",
       "      <td>477828</td>\n",
       "      <td>Ch Robinson Worldwide Inc.</td>\n",
       "      <td>Halliburton Worldwide Ltd.</td>\n",
       "      <td>0</td>\n",
       "    </tr>\n",
       "    <tr>\n",
       "      <th>490240</th>\n",
       "      <td>490241</td>\n",
       "      <td>Zhejiang Materials Indtries Chemica</td>\n",
       "      <td>Jamnas Indtries</td>\n",
       "      <td>0</td>\n",
       "    </tr>\n",
       "  </tbody>\n",
       "</table>\n",
       "</div>"
      ],
      "text/plain": [
       "       pair_id                                             name_1  \\\n",
       "347591  347592                        Ryder Capital S De Rl De Cv   \n",
       "268580  268581                                  Bridgestone  Inc.   \n",
       "375040  375041                                  Pon Pure Chemical   \n",
       "36188    36189                                       Han's Sports   \n",
       "419213  419214                   Pak Petrochemical Indtries (Pvt)   \n",
       "258842  258843  Bliz Indtria Comercio Importacao & Exportacao Eir   \n",
       "266289  266290                             Afi International Inc.   \n",
       "327162  327163                                  Km Trading Co Llc   \n",
       "151933  151934                                             Ktm Ag   \n",
       "306261  306262                        Scanwl Logistics (Chi) Inc.   \n",
       "79691    79692                             Cv.Trijaya Trading Co.   \n",
       "262381  262382                                                Ict   \n",
       "330789  330790     Trleborg Istanbul Endtriy Hortumlar ayi Ve Tic   \n",
       "477827  477828                         Ch Robinson Worldwide Inc.   \n",
       "490240  490241                Zhejiang Materials Indtries Chemica   \n",
       "\n",
       "                                     name_2 is_duplicate  \n",
       "347591                    A S International            0  \n",
       "268580   Bridgestone Firestone De  Sa De Cv            1  \n",
       "375040          Akzo Nob Chemicals Sa De Cv            0  \n",
       "36188                         Sportech Ltd.            0  \n",
       "419213  Shenhua Chemical Indtrial Co., Ltd.            0  \n",
       "258842                Salient Indtries Ltd.            0  \n",
       "266289            Jas Jet Air Service  S.A.            0  \n",
       "327162     Hee Trading Co., Ltd. Ningbo Hao            0  \n",
       "151933            Kumar Adhesive Pvt., Ltd.            0  \n",
       "306261                       Csll Logistics            0  \n",
       "79691                C V International Inc.            0  \n",
       "262381           Knitwork Production Ii Llc            0  \n",
       "330789                                  Mll            0  \n",
       "477827           Halliburton Worldwide Ltd.            0  \n",
       "490240                      Jamnas Indtries            0  "
      ]
     },
     "execution_count": 13,
     "metadata": {},
     "output_type": "execute_result"
    }
   ],
   "source": [
    "df.sample(15)"
   ]
  },
  {
   "cell_type": "markdown",
   "metadata": {
    "id": "hN5Rvdf0Bbzv"
   },
   "source": [
    "## 1.3 Удаление спец. символов и сокращений (Денис)"
   ]
  },
  {
   "cell_type": "code",
   "execution_count": 14,
   "metadata": {
    "executionInfo": {
     "elapsed": 10,
     "status": "ok",
     "timestamp": 1666631263184,
     "user": {
      "displayName": "Kirill Pribludenko",
      "userId": "11323114555404963403"
     },
     "user_tz": -180
    },
    "id": "u0kjh1iiBaFn"
   },
   "outputs": [],
   "source": [
    "#сокращения компаний\n",
    "companies = ['ltd', 'ltda', 'saic', 's', 'a', 'i', 'c', 'co', 'ag', 'r', 'o', \n",
    "             'p', 'group', 'inc', 'sp', 'ооо', 'зао', 'ncr', 'cv', 'limited',\n",
    "             'sa', 'spa', 'pte', 'pvt', 'gmbh', 'nv', 'imp', 'corp', 'pt', \n",
    "             'mfg', 'do', 'l', 't', 'd', 'corporation', 'corp', 'doo', 'do', \n",
    "             'bv', 'de', 'llc', 'sti', 'c', 'inds', 'industriesusa', 'holdings',\n",
    "             'sas', 'ad', 'kg', 'srl', 'sociedad', 'anoni', 'private', 'bhd', \n",
    "             'alo', 'asrc', 'lc', 'holding', 'rl', 'ca', 'na', 'llp', 'b', 'on',\n",
    "             'tic', 've', 'san', 'sl', 'roppongi', 'zoo', 'lt', 'z', 'oo', 'gmb',\n",
    "             'h', 'apm', 'cd', 'as', 'pty', 'kft', 'fm', 'sdn', 'vat', 'id', 'nl',\n",
    "             'the', 'tse', 'tax', 'be', 'lp', 'cokg', 'v', 'филиал', 'компании',\n",
    "             'компани', 'ccp', 'research', 'and', 'development', 'center', 'tld',\n",
    "             'f', 'u', 'lda', 'plc', 'm', 'общество', 'с', 'ограниченной',\n",
    "             'ответственностью', 'ieo', 'cie', 'k', 'e', 'ind', 'рус', 'ао',\n",
    "             'лтд', 'cs', 'industrial', 'se', 'через', 'терминал', 'в']"
   ]
  },
  {
   "cell_type": "code",
   "execution_count": 15,
   "metadata": {
    "executionInfo": {
     "elapsed": 11,
     "status": "ok",
     "timestamp": 1666631263185,
     "user": {
      "displayName": "Kirill Pribludenko",
      "userId": "11323114555404963403"
     },
     "user_tz": -180
    },
    "id": "FsgVgnZ5dBSC"
   },
   "outputs": [],
   "source": [
    "# обработка датасета\n",
    "def clean_func(s):\n",
    "  s = s.lower()\n",
    "  s = re.sub(r'[\\W\\d]', ' ', s) #r'[^a-z]'\n",
    "  s = s.split()\n",
    "  for i in range(len(s)):\n",
    "    if s[i] in companies:\n",
    "      s[i] = ''\n",
    "    else:\n",
    "      continue\n",
    "  s = ' '.join(s).strip()\n",
    "  return s"
   ]
  },
  {
   "cell_type": "code",
   "execution_count": 16,
   "metadata": {
    "executionInfo": {
     "elapsed": 7159,
     "status": "ok",
     "timestamp": 1666631270334,
     "user": {
      "displayName": "Kirill Pribludenko",
      "userId": "11323114555404963403"
     },
     "user_tz": -180
    },
    "id": "B8dANF-OdQr8"
   },
   "outputs": [],
   "source": [
    "final_df1 = df.name_1.apply(clean_func).to_frame()\n",
    "final_df2 = df.name_2.apply(clean_func).to_frame()"
   ]
  },
  {
   "cell_type": "code",
   "execution_count": 17,
   "metadata": {
    "executionInfo": {
     "elapsed": 31,
     "status": "ok",
     "timestamp": 1666631270338,
     "user": {
      "displayName": "Kirill Pribludenko",
      "userId": "11323114555404963403"
     },
     "user_tz": -180
    },
    "id": "HQxXzgr2dSck"
   },
   "outputs": [],
   "source": [
    "final_df = pd.concat([final_df1, final_df2, df.is_duplicate], axis=1)"
   ]
  },
  {
   "cell_type": "code",
   "execution_count": 18,
   "metadata": {
    "colab": {
     "base_uri": "https://localhost:8080/",
     "height": 520
    },
    "executionInfo": {
     "elapsed": 32,
     "status": "ok",
     "timestamp": 1666631270342,
     "user": {
      "displayName": "Kirill Pribludenko",
      "userId": "11323114555404963403"
     },
     "user_tz": -180
    },
    "id": "eTEGvm61dVQq",
    "outputId": "9d785539-d7c7-4678-a5e1-eaf46b075c16"
   },
   "outputs": [
    {
     "data": {
      "text/html": [
       "<div>\n",
       "<style scoped>\n",
       "    .dataframe tbody tr th:only-of-type {\n",
       "        vertical-align: middle;\n",
       "    }\n",
       "\n",
       "    .dataframe tbody tr th {\n",
       "        vertical-align: top;\n",
       "    }\n",
       "\n",
       "    .dataframe thead th {\n",
       "        text-align: right;\n",
       "    }\n",
       "</style>\n",
       "<table border=\"1\" class=\"dataframe\">\n",
       "  <thead>\n",
       "    <tr style=\"text-align: right;\">\n",
       "      <th></th>\n",
       "      <th>name_1</th>\n",
       "      <th>name_2</th>\n",
       "      <th>is_duplicate</th>\n",
       "    </tr>\n",
       "  </thead>\n",
       "  <tbody>\n",
       "    <tr>\n",
       "      <th>121344</th>\n",
       "      <td>eastern  exp</td>\n",
       "      <td>ayesha  exp</td>\n",
       "      <td>0</td>\n",
       "    </tr>\n",
       "    <tr>\n",
       "      <th>66323</th>\n",
       "      <td>albemarle</td>\n",
       "      <td>coim</td>\n",
       "      <td>0</td>\n",
       "    </tr>\n",
       "    <tr>\n",
       "      <th>467685</th>\n",
       "      <td>brascola  em recuperacao judicial</td>\n",
       "      <td>cp international</td>\n",
       "      <td>0</td>\n",
       "    </tr>\n",
       "    <tr>\n",
       "      <th>31515</th>\n",
       "      <td>ammbs indtries</td>\n",
       "      <td>disrupt indtries</td>\n",
       "      <td>0</td>\n",
       "    </tr>\n",
       "    <tr>\n",
       "      <th>136744</th>\n",
       "      <td>xiamen shenglin plastic</td>\n",
       "      <td>siemens</td>\n",
       "      <td>0</td>\n",
       "    </tr>\n",
       "    <tr>\n",
       "      <th>162152</th>\n",
       "      <td>farrow global logistics</td>\n",
       "      <td>allsop</td>\n",
       "      <td>0</td>\n",
       "    </tr>\n",
       "    <tr>\n",
       "      <th>52712</th>\n",
       "      <td>anwer rashid indtries</td>\n",
       "      <td>rbn indtries</td>\n",
       "      <td>0</td>\n",
       "    </tr>\n",
       "    <tr>\n",
       "      <th>6163</th>\n",
       "      <td>dongguan xu ke ectronic products</td>\n",
       "      <td>dongguan jinggan plastic products</td>\n",
       "      <td>0</td>\n",
       "    </tr>\n",
       "    <tr>\n",
       "      <th>299249</th>\n",
       "      <td>wearbeeta</td>\n",
       "      <td>eet</td>\n",
       "      <td>0</td>\n",
       "    </tr>\n",
       "    <tr>\n",
       "      <th>471022</th>\n",
       "      <td>speed</td>\n",
       "      <td>polymers</td>\n",
       "      <td>0</td>\n",
       "    </tr>\n",
       "    <tr>\n",
       "      <th>493839</th>\n",
       "      <td>quimopren indtria quimica</td>\n",
       "      <td>kapoor indtries</td>\n",
       "      <td>0</td>\n",
       "    </tr>\n",
       "    <tr>\n",
       "      <th>475559</th>\n",
       "      <td>mj indtrial</td>\n",
       "      <td>fazal omer indtries</td>\n",
       "      <td>0</td>\n",
       "    </tr>\n",
       "    <tr>\n",
       "      <th>64778</th>\n",
       "      <td>stadium source</td>\n",
       "      <td>dsi</td>\n",
       "      <td>0</td>\n",
       "    </tr>\n",
       "    <tr>\n",
       "      <th>248659</th>\n",
       "      <td>x tract global logistics</td>\n",
       "      <td>gama logistics</td>\n",
       "      <td>0</td>\n",
       "    </tr>\n",
       "    <tr>\n",
       "      <th>149511</th>\n",
       "      <td>epic</td>\n",
       "      <td>sayer lack mexicana</td>\n",
       "      <td>0</td>\n",
       "    </tr>\n",
       "  </tbody>\n",
       "</table>\n",
       "</div>"
      ],
      "text/plain": [
       "                                   name_1                             name_2  \\\n",
       "121344                       eastern  exp                        ayesha  exp   \n",
       "66323                           albemarle                               coim   \n",
       "467685  brascola  em recuperacao judicial                   cp international   \n",
       "31515                      ammbs indtries                   disrupt indtries   \n",
       "136744            xiamen shenglin plastic                            siemens   \n",
       "162152            farrow global logistics                             allsop   \n",
       "52712               anwer rashid indtries                       rbn indtries   \n",
       "6163     dongguan xu ke ectronic products  dongguan jinggan plastic products   \n",
       "299249                          wearbeeta                                eet   \n",
       "471022                              speed                           polymers   \n",
       "493839          quimopren indtria quimica                    kapoor indtries   \n",
       "475559                        mj indtrial                fazal omer indtries   \n",
       "64778                      stadium source                                dsi   \n",
       "248659           x tract global logistics                     gama logistics   \n",
       "149511                               epic                sayer lack mexicana   \n",
       "\n",
       "       is_duplicate  \n",
       "121344            0  \n",
       "66323             0  \n",
       "467685            0  \n",
       "31515             0  \n",
       "136744            0  \n",
       "162152            0  \n",
       "52712             0  \n",
       "6163              0  \n",
       "299249            0  \n",
       "471022            0  \n",
       "493839            0  \n",
       "475559            0  \n",
       "64778             0  \n",
       "248659            0  \n",
       "149511            0  "
      ]
     },
     "execution_count": 18,
     "metadata": {},
     "output_type": "execute_result"
    }
   ],
   "source": [
    "final_df.sample(15)"
   ]
  },
  {
   "cell_type": "markdown",
   "metadata": {
    "id": "8oP-UHN0BiMQ"
   },
   "source": [
    "# 2 Baseline"
   ]
  },
  {
   "cell_type": "markdown",
   "metadata": {
    "id": "SZABlXVCB0bi"
   },
   "source": [
    "В качестве безйлайна выбрали TF-IDF & LogReg, в качестве метрики будем ориентироваться на ROC-AUC.\n",
    "Но сначала разделим наш датасет на 3 выборки: train, val, test в соотношении 80,10,10"
   ]
  },
  {
   "cell_type": "code",
   "execution_count": 19,
   "metadata": {
    "executionInfo": {
     "elapsed": 17,
     "status": "ok",
     "timestamp": 1666631271071,
     "user": {
      "displayName": "Kirill Pribludenko",
      "userId": "11323114555404963403"
     },
     "user_tz": -180
    },
    "id": "xWKPc_Y7lkPL"
   },
   "outputs": [],
   "source": [
    "final_df['full_name'] = final_df['name_1'] + ' ' + final_df['name_2']"
   ]
  },
  {
   "cell_type": "code",
   "execution_count": 21,
   "metadata": {
    "executionInfo": {
     "elapsed": 17,
     "status": "ok",
     "timestamp": 1666631271072,
     "user": {
      "displayName": "Kirill Pribludenko",
      "userId": "11323114555404963403"
     },
     "user_tz": -180
    },
    "id": "LU9jVHiLCgaQ"
   },
   "outputs": [],
   "source": [
    "df_train, df_temp = train_test_split(final_df, test_size=0.2, stratify=final_df['is_duplicate'], random_state=101)\n",
    "df_valid, df_test = train_test_split(df_temp, test_size=0.5, stratify=df_temp['is_duplicate'], random_state=101)"
   ]
  },
  {
   "cell_type": "markdown",
   "metadata": {
    "id": "9K9DZxzuBqLo"
   },
   "source": [
    "## 2.1 TF-IDF"
   ]
  },
  {
   "cell_type": "code",
   "execution_count": 22,
   "metadata": {
    "executionInfo": {
     "elapsed": 17,
     "status": "ok",
     "timestamp": 1666631271074,
     "user": {
      "displayName": "Kirill Pribludenko",
      "userId": "11323114555404963403"
     },
     "user_tz": -180
    },
    "id": "KGc74OItBzGq"
   },
   "outputs": [],
   "source": [
    "count_tf_idf = TfidfVectorizer(ngram_range=(1,5), analyzer='char_wb', max_features=10000)"
   ]
  },
  {
   "cell_type": "markdown",
   "metadata": {
    "id": "GeN1AJZFEyJU"
   },
   "source": [
    "Данные для обучения"
   ]
  },
  {
   "cell_type": "code",
   "execution_count": 23,
   "metadata": {
    "executionInfo": {
     "elapsed": 41621,
     "status": "ok",
     "timestamp": 1666631312679,
     "user": {
      "displayName": "Kirill Pribludenko",
      "userId": "11323114555404963403"
     },
     "user_tz": -180
    },
    "id": "K2ZvOMXTEyro"
   },
   "outputs": [],
   "source": [
    "features_train = df_train.drop(['is_duplicate'], axis=1)\n",
    "corpus = df_train['full_name'].values.astype('U')\n",
    "features_train = count_tf_idf.fit_transform(corpus)\n",
    "target_train = df_train['is_duplicate']"
   ]
  },
  {
   "cell_type": "markdown",
   "metadata": {
    "id": "zVeUYEEpEzI8"
   },
   "source": [
    "Данные для валидации"
   ]
  },
  {
   "cell_type": "code",
   "execution_count": 24,
   "metadata": {
    "executionInfo": {
     "elapsed": 4071,
     "status": "ok",
     "timestamp": 1666631316734,
     "user": {
      "displayName": "Kirill Pribludenko",
      "userId": "11323114555404963403"
     },
     "user_tz": -180
    },
    "id": "P6o27VkCEzd5"
   },
   "outputs": [],
   "source": [
    "features_valid = df_valid.drop(['is_duplicate'], axis=1)\n",
    "corpus = df_valid['full_name'].values.astype('U')\n",
    "features_valid = count_tf_idf.transform(corpus)\n",
    "target_valid = df_valid['is_duplicate']"
   ]
  },
  {
   "cell_type": "markdown",
   "metadata": {
    "id": "44N5t4b9E0My"
   },
   "source": [
    "Данные для тестирования"
   ]
  },
  {
   "cell_type": "code",
   "execution_count": 25,
   "metadata": {
    "executionInfo": {
     "elapsed": 4774,
     "status": "ok",
     "timestamp": 1666631321492,
     "user": {
      "displayName": "Kirill Pribludenko",
      "userId": "11323114555404963403"
     },
     "user_tz": -180
    },
    "id": "czXDHfswE0gm"
   },
   "outputs": [],
   "source": [
    "features_test = df_test.drop(['is_duplicate'], axis=1)\n",
    "corpus = df_test['full_name'].values.astype('U')\n",
    "features_test = count_tf_idf.transform(corpus)\n",
    "target_test = df_test['is_duplicate']"
   ]
  },
  {
   "cell_type": "markdown",
   "metadata": {
    "id": "SHz97VAkDbnT"
   },
   "source": [
    "## 2.2 LogisticRegression"
   ]
  },
  {
   "cell_type": "code",
   "execution_count": 26,
   "metadata": {
    "colab": {
     "base_uri": "https://localhost:8080/",
     "height": 432
    },
    "executionInfo": {
     "elapsed": 359873,
     "status": "ok",
     "timestamp": 1666631681349,
     "user": {
      "displayName": "Kirill Pribludenko",
      "userId": "11323114555404963403"
     },
     "user_tz": -180
    },
    "id": "Sb1wcySZDbIA",
    "outputId": "0ff86305-be64-4919-976d-5acae449259f"
   },
   "outputs": [
    {
     "name": "stdout",
     "output_type": "stream",
     "text": [
      "Detailed classification report:\n",
      "              precision    recall  f1-score   support\n",
      "\n",
      "           0       1.00      1.00      1.00     49416\n",
      "           1       0.79      0.56      0.66       366\n",
      "\n",
      "    accuracy                           1.00     49782\n",
      "   macro avg       0.89      0.78      0.83     49782\n",
      "weighted avg       1.00      1.00      1.00     49782\n",
      "\n",
      "CPU times: total: 16.3 s\n",
      "Wall time: 2min 30s\n"
     ]
    }
   ],
   "source": [
    "%%time\n",
    "logreg = LogisticRegression(solver='sag', max_iter=100, random_state=101)\n",
    "\n",
    "tuned_parameters = {\"C\": np.logspace(-2, 2, 10)}\n",
    "\n",
    "best_logreg = GridSearchCV(logreg, param_grid=tuned_parameters, scoring='roc_auc',\n",
    "                           cv=5, n_jobs=-1).fit(features_train, target_train)\n",
    "\n",
    "target_pred = best_logreg.predict_proba(features_valid)[:, 1]\n",
    "score_val = roc_auc_score(target_valid, target_pred)\n",
    "\n",
    "print(\"Detailed classification report:\") # Дополнительно вывыдем данный отчет\n",
    "target_pred_1 = best_logreg.predict(features_valid)\n",
    "print(classification_report(target_valid, target_pred_1))"
   ]
  },
  {
   "cell_type": "markdown",
   "metadata": {
    "id": "l43mjWsfDrgK"
   },
   "source": [
    "### 2.3 ROC-AUC"
   ]
  },
  {
   "cell_type": "markdown",
   "metadata": {
    "id": "c03aHSlpDxEr"
   },
   "source": [
    "Создадим таблицу, куда будем заносить результаты. Сначала результат baseline, а далее результаты членов команды"
   ]
  },
  {
   "cell_type": "code",
   "execution_count": 27,
   "metadata": {
    "executionInfo": {
     "elapsed": 12,
     "status": "ok",
     "timestamp": 1666631681349,
     "user": {
      "displayName": "Kirill Pribludenko",
      "userId": "11323114555404963403"
     },
     "user_tz": -180
    },
    "id": "Y6IwQxEdDto5"
   },
   "outputs": [],
   "source": [
    "result_df = pd.DataFrame(columns=['ML_name', 'ROC_AUC valid', 'ROC_AUC test'])"
   ]
  },
  {
   "cell_type": "code",
   "execution_count": 28,
   "metadata": {
    "colab": {
     "base_uri": "https://localhost:8080/",
     "height": 189
    },
    "executionInfo": {
     "elapsed": 12,
     "status": "error",
     "timestamp": 1666631681350,
     "user": {
      "displayName": "Kirill Pribludenko",
      "userId": "11323114555404963403"
     },
     "user_tz": -180
    },
    "id": "8wXAJutBG2AL",
    "outputId": "39d1730f-9618-49c1-e722-b9e7c1b95f8a"
   },
   "outputs": [],
   "source": [
    "target_pred2 = best_logreg.predict_proba(features_test)[:, 1]\n",
    "score_test = roc_auc_score(target_test, target_pred2)"
   ]
  },
  {
   "cell_type": "code",
   "execution_count": 29,
   "metadata": {
    "executionInfo": {
     "elapsed": 10,
     "status": "aborted",
     "timestamp": 1666631681350,
     "user": {
      "displayName": "Kirill Pribludenko",
      "userId": "11323114555404963403"
     },
     "user_tz": -180
    },
    "id": "__MBI25WEVTQ"
   },
   "outputs": [
    {
     "data": {
      "text/html": [
       "<div>\n",
       "<style scoped>\n",
       "    .dataframe tbody tr th:only-of-type {\n",
       "        vertical-align: middle;\n",
       "    }\n",
       "\n",
       "    .dataframe tbody tr th {\n",
       "        vertical-align: top;\n",
       "    }\n",
       "\n",
       "    .dataframe thead th {\n",
       "        text-align: right;\n",
       "    }\n",
       "</style>\n",
       "<table border=\"1\" class=\"dataframe\">\n",
       "  <thead>\n",
       "    <tr style=\"text-align: right;\">\n",
       "      <th></th>\n",
       "      <th>ML_name</th>\n",
       "      <th>ROC_AUC valid</th>\n",
       "      <th>ROC_AUC test</th>\n",
       "    </tr>\n",
       "  </thead>\n",
       "  <tbody>\n",
       "    <tr>\n",
       "      <th>0</th>\n",
       "      <td>TF-IDF + LogReg</td>\n",
       "      <td>0.987668</td>\n",
       "      <td>0.988127</td>\n",
       "    </tr>\n",
       "  </tbody>\n",
       "</table>\n",
       "</div>"
      ],
      "text/plain": [
       "           ML_name  ROC_AUC valid  ROC_AUC test\n",
       "0  TF-IDF + LogReg       0.987668      0.988127"
      ]
     },
     "execution_count": 29,
     "metadata": {},
     "output_type": "execute_result"
    }
   ],
   "source": [
    "result_df.loc[0]=['TF-IDF + LogReg', round(score_val, 6), round(score_test, 6)]\n",
    "result_df.head()"
   ]
  },
  {
   "cell_type": "markdown",
   "metadata": {
    "id": "vHRjDxAEJDk6"
   },
   "source": [
    "# 3 Решения членов команды"
   ]
  },
  {
   "cell_type": "markdown",
   "metadata": {
    "id": "xVYTxIIWJKxs"
   },
   "source": [
    "Мы решили попробовать несколько решений для данной задачи"
   ]
  },
  {
   "cell_type": "markdown",
   "metadata": {
    "id": "eKFhh2StJP--"
   },
   "source": [
    "## 3.1 Денис"
   ]
  },
  {
   "cell_type": "code",
   "execution_count": null,
   "metadata": {
    "executionInfo": {
     "elapsed": 9,
     "status": "aborted",
     "timestamp": 1666631681350,
     "user": {
      "displayName": "Kirill Pribludenko",
      "userId": "11323114555404963403"
     },
     "user_tz": -180
    },
    "id": "xQpduZC5JJxe"
   },
   "outputs": [],
   "source": []
  },
  {
   "cell_type": "markdown",
   "metadata": {
    "id": "c9xK4jhXJTKS"
   },
   "source": [
    "## 3.2 Кирилл"
   ]
  },
  {
   "cell_type": "code",
   "execution_count": 30,
   "metadata": {
    "colab": {
     "base_uri": "https://localhost:8080/"
    },
    "executionInfo": {
     "elapsed": 21526,
     "status": "ok",
     "timestamp": 1666631711569,
     "user": {
      "displayName": "Kirill Pribludenko",
      "userId": "11323114555404963403"
     },
     "user_tz": -180
    },
    "id": "Xu5RTmwtrRZV",
    "outputId": "67c1fcf8-f23c-47fe-f218-b1eded6b9b33"
   },
   "outputs": [
    {
     "name": "stdout",
     "output_type": "stream",
     "text": [
      "Requirement already satisfied: catboost in c:\\programdata\\anaconda3\\lib\\site-packages (1.1)\n",
      "Requirement already satisfied: numpy>=1.16.0 in c:\\programdata\\anaconda3\\lib\\site-packages (from catboost) (1.21.5)\n",
      "Requirement already satisfied: pandas>=0.24.0 in c:\\programdata\\anaconda3\\lib\\site-packages (from catboost) (1.4.2)\n",
      "Requirement already satisfied: plotly in c:\\programdata\\anaconda3\\lib\\site-packages (from catboost) (5.6.0)\n",
      "Requirement already satisfied: six in c:\\programdata\\anaconda3\\lib\\site-packages (from catboost) (1.16.0)\n",
      "Requirement already satisfied: graphviz in c:\\programdata\\anaconda3\\lib\\site-packages (from catboost) (0.20.1)\n",
      "Requirement already satisfied: scipy in c:\\programdata\\anaconda3\\lib\\site-packages (from catboost) (1.7.3)\n",
      "Requirement already satisfied: matplotlib in c:\\programdata\\anaconda3\\lib\\site-packages (from catboost) (3.5.1)\n",
      "Requirement already satisfied: python-dateutil>=2.8.1 in c:\\programdata\\anaconda3\\lib\\site-packages (from pandas>=0.24.0->catboost) (2.8.2)\n",
      "Requirement already satisfied: pytz>=2020.1 in c:\\programdata\\anaconda3\\lib\\site-packages (from pandas>=0.24.0->catboost) (2021.3)\n",
      "Requirement already satisfied: kiwisolver>=1.0.1 in c:\\programdata\\anaconda3\\lib\\site-packages (from matplotlib->catboost) (1.3.2)\n",
      "Requirement already satisfied: pillow>=6.2.0 in c:\\programdata\\anaconda3\\lib\\site-packages (from matplotlib->catboost) (9.0.1)\n",
      "Requirement already satisfied: fonttools>=4.22.0 in c:\\programdata\\anaconda3\\lib\\site-packages (from matplotlib->catboost) (4.25.0)\n",
      "Requirement already satisfied: packaging>=20.0 in c:\\programdata\\anaconda3\\lib\\site-packages (from matplotlib->catboost) (21.3)\n",
      "Requirement already satisfied: pyparsing>=2.2.1 in c:\\programdata\\anaconda3\\lib\\site-packages (from matplotlib->catboost) (3.0.4)\n",
      "Requirement already satisfied: cycler>=0.10 in c:\\programdata\\anaconda3\\lib\\site-packages (from matplotlib->catboost) (0.11.0)\n",
      "Requirement already satisfied: tenacity>=6.2.0 in c:\\programdata\\anaconda3\\lib\\site-packages (from plotly->catboost) (8.0.1)\n",
      "Requirement already satisfied: optuna in c:\\programdata\\anaconda3\\lib\\site-packages (3.0.3)\n",
      "Requirement already satisfied: tqdm in c:\\programdata\\anaconda3\\lib\\site-packages (from optuna) (4.64.0)\n",
      "Requirement already satisfied: scipy<1.9.0,>=1.7.0 in c:\\programdata\\anaconda3\\lib\\site-packages (from optuna) (1.7.3)\n",
      "Requirement already satisfied: packaging>=20.0 in c:\\programdata\\anaconda3\\lib\\site-packages (from optuna) (21.3)\n",
      "Requirement already satisfied: cliff in c:\\programdata\\anaconda3\\lib\\site-packages (from optuna) (4.0.0)\n",
      "Requirement already satisfied: numpy in c:\\programdata\\anaconda3\\lib\\site-packages (from optuna) (1.21.5)\n",
      "Requirement already satisfied: colorlog in c:\\programdata\\anaconda3\\lib\\site-packages (from optuna) (6.7.0)\n",
      "Requirement already satisfied: PyYAML in c:\\programdata\\anaconda3\\lib\\site-packages (from optuna) (6.0)\n",
      "Requirement already satisfied: alembic>=1.5.0 in c:\\programdata\\anaconda3\\lib\\site-packages (from optuna) (1.8.1)\n",
      "Requirement already satisfied: cmaes>=0.8.2 in c:\\programdata\\anaconda3\\lib\\site-packages (from optuna) (0.8.2)\n",
      "Requirement already satisfied: importlib-metadata<5.0.0 in c:\\programdata\\anaconda3\\lib\\site-packages (from optuna) (4.11.3)\n",
      "Requirement already satisfied: sqlalchemy>=1.3.0 in c:\\programdata\\anaconda3\\lib\\site-packages (from optuna) (1.4.32)\n",
      "Requirement already satisfied: Mako in c:\\programdata\\anaconda3\\lib\\site-packages (from alembic>=1.5.0->optuna) (1.2.3)\n",
      "Requirement already satisfied: zipp>=0.5 in c:\\programdata\\anaconda3\\lib\\site-packages (from importlib-metadata<5.0.0->optuna) (3.7.0)\n",
      "Requirement already satisfied: pyparsing!=3.0.5,>=2.0.2 in c:\\programdata\\anaconda3\\lib\\site-packages (from packaging>=20.0->optuna) (3.0.4)\n",
      "Requirement already satisfied: greenlet!=0.4.17 in c:\\programdata\\anaconda3\\lib\\site-packages (from sqlalchemy>=1.3.0->optuna) (1.1.1)\n",
      "Requirement already satisfied: cmd2>=1.0.0 in c:\\programdata\\anaconda3\\lib\\site-packages (from cliff->optuna) (2.4.2)\n",
      "Requirement already satisfied: autopage>=0.4.0 in c:\\programdata\\anaconda3\\lib\\site-packages (from cliff->optuna) (0.5.1)\n",
      "Requirement already satisfied: PrettyTable>=0.7.2 in c:\\programdata\\anaconda3\\lib\\site-packages (from cliff->optuna) (3.4.1)\n",
      "Requirement already satisfied: stevedore>=2.0.1 in c:\\programdata\\anaconda3\\lib\\site-packages (from cliff->optuna) (4.1.0)\n",
      "Requirement already satisfied: attrs>=16.3.0 in c:\\programdata\\anaconda3\\lib\\site-packages (from cmd2>=1.0.0->cliff->optuna) (21.4.0)\n",
      "Requirement already satisfied: wcwidth>=0.1.7 in c:\\programdata\\anaconda3\\lib\\site-packages (from cmd2>=1.0.0->cliff->optuna) (0.2.5)\n",
      "Requirement already satisfied: pyreadline3 in c:\\programdata\\anaconda3\\lib\\site-packages (from cmd2>=1.0.0->cliff->optuna) (3.4.1)\n",
      "Requirement already satisfied: pyperclip>=1.6 in c:\\programdata\\anaconda3\\lib\\site-packages (from cmd2>=1.0.0->cliff->optuna) (1.8.2)\n",
      "Requirement already satisfied: pbr!=2.1.0,>=2.0.0 in c:\\programdata\\anaconda3\\lib\\site-packages (from stevedore>=2.0.1->cliff->optuna) (5.11.0)\n",
      "Requirement already satisfied: colorama in c:\\programdata\\anaconda3\\lib\\site-packages (from colorlog->optuna) (0.4.4)\n",
      "Requirement already satisfied: MarkupSafe>=0.9.2 in c:\\programdata\\anaconda3\\lib\\site-packages (from Mako->alembic>=1.5.0->optuna) (2.0.1)\n"
     ]
    }
   ],
   "source": [
    "!pip install catboost\n",
    "!pip install optuna"
   ]
  },
  {
   "cell_type": "code",
   "execution_count": 31,
   "metadata": {
    "executionInfo": {
     "elapsed": 618,
     "status": "ok",
     "timestamp": 1666631712182,
     "user": {
      "displayName": "Kirill Pribludenko",
      "userId": "11323114555404963403"
     },
     "user_tz": -180
    },
    "id": "bVKdQbcorToC"
   },
   "outputs": [],
   "source": [
    "from catboost import CatBoostClassifier\n",
    "import optuna\n",
    "\n",
    "from sklearn.feature_extraction.text import CountVectorizer"
   ]
  },
  {
   "cell_type": "code",
   "execution_count": 32,
   "metadata": {
    "executionInfo": {
     "elapsed": 6,
     "status": "ok",
     "timestamp": 1666631712182,
     "user": {
      "displayName": "Kirill Pribludenko",
      "userId": "11323114555404963403"
     },
     "user_tz": -180
    },
    "id": "G91Re0PlpmVv"
   },
   "outputs": [],
   "source": [
    "final_df_2 = final_df.copy()"
   ]
  },
  {
   "cell_type": "code",
   "execution_count": 33,
   "metadata": {
    "executionInfo": {
     "elapsed": 5,
     "status": "ok",
     "timestamp": 1666631712182,
     "user": {
      "displayName": "Kirill Pribludenko",
      "userId": "11323114555404963403"
     },
     "user_tz": -180
    },
    "id": "jUAi6r2HplHh"
   },
   "outputs": [],
   "source": [
    "final_df_2['full_name'] = final_df_2['name_1'] + ' ' + final_df_2['name_2']"
   ]
  },
  {
   "cell_type": "code",
   "execution_count": 34,
   "metadata": {
    "executionInfo": {
     "elapsed": 451,
     "status": "ok",
     "timestamp": 1666631712629,
     "user": {
      "displayName": "Kirill Pribludenko",
      "userId": "11323114555404963403"
     },
     "user_tz": -180
    },
    "id": "PevkibP8plHj"
   },
   "outputs": [],
   "source": [
    "df_train_2, df_temp_2 = train_test_split(final_df_2, test_size=0.2, random_state=101)\n",
    "df_valid_2, df_test_2 = train_test_split(df_temp_2, test_size=0.5, random_state=101)"
   ]
  },
  {
   "cell_type": "code",
   "execution_count": 35,
   "metadata": {
    "executionInfo": {
     "elapsed": 6,
     "status": "ok",
     "timestamp": 1666631712630,
     "user": {
      "displayName": "Kirill Pribludenko",
      "userId": "11323114555404963403"
     },
     "user_tz": -180
    },
    "id": "z1rs1I3EpZw1"
   },
   "outputs": [],
   "source": [
    "cv = CountVectorizer(ngram_range=(1, 5), max_features=10000)"
   ]
  },
  {
   "cell_type": "markdown",
   "metadata": {
    "id": "YOzoEq4DqC8Z"
   },
   "source": [
    "Данные для обучения"
   ]
  },
  {
   "cell_type": "code",
   "execution_count": 36,
   "metadata": {
    "executionInfo": {
     "elapsed": 14069,
     "status": "ok",
     "timestamp": 1666631726694,
     "user": {
      "displayName": "Kirill Pribludenko",
      "userId": "11323114555404963403"
     },
     "user_tz": -180
    },
    "id": "GOPC_oTjqC8a"
   },
   "outputs": [],
   "source": [
    "features_train_2 = df_train_2.drop(['is_duplicate'], axis=1)\n",
    "corpus_2 = df_train_2['full_name'].values.astype('U')\n",
    "features_train_2 = cv.fit_transform(corpus_2)\n",
    "target_train_2 = df_train_2['is_duplicate']"
   ]
  },
  {
   "cell_type": "markdown",
   "metadata": {
    "id": "DE4ZdsNaqC8b"
   },
   "source": [
    "Данные для валидации"
   ]
  },
  {
   "cell_type": "code",
   "execution_count": 37,
   "metadata": {
    "executionInfo": {
     "elapsed": 1052,
     "status": "ok",
     "timestamp": 1666631727729,
     "user": {
      "displayName": "Kirill Pribludenko",
      "userId": "11323114555404963403"
     },
     "user_tz": -180
    },
    "id": "A3wn_ki0qC8b"
   },
   "outputs": [],
   "source": [
    "features_valid_2 = df_valid_2.drop(['is_duplicate'], axis=1)\n",
    "corpus_2 = df_valid_2['full_name'].values.astype('U')\n",
    "features_valid_2 = cv.transform(corpus_2)\n",
    "target_valid_2 = df_valid_2['is_duplicate']"
   ]
  },
  {
   "cell_type": "markdown",
   "metadata": {
    "id": "0YiI5DvEqC8c"
   },
   "source": [
    "Данные для тестирования"
   ]
  },
  {
   "cell_type": "code",
   "execution_count": 38,
   "metadata": {
    "executionInfo": {
     "elapsed": 914,
     "status": "ok",
     "timestamp": 1666631728638,
     "user": {
      "displayName": "Kirill Pribludenko",
      "userId": "11323114555404963403"
     },
     "user_tz": -180
    },
    "id": "K_7lrWrBqC8c"
   },
   "outputs": [],
   "source": [
    "features_test_2 = df_test_2.drop(['is_duplicate'], axis=1)\n",
    "corpus_2 = df_test_2['full_name'].values.astype('U')\n",
    "features_test_2 = cv.transform(corpus_2)\n",
    "target_test_2 = df_test_2['is_duplicate']"
   ]
  },
  {
   "cell_type": "code",
   "execution_count": 39,
   "metadata": {
    "executionInfo": {
     "elapsed": 7,
     "status": "ok",
     "timestamp": 1666631728639,
     "user": {
      "displayName": "Kirill Pribludenko",
      "userId": "11323114555404963403"
     },
     "user_tz": -180
    },
    "id": "ehybmcDDq1LI"
   },
   "outputs": [],
   "source": [
    "def objective(trial):\n",
    "\n",
    "  param = {\n",
    "        \"objective\": trial.suggest_categorical(\"objective\", [\"Logloss\", \"CrossEntropy\"]),\n",
    "        \"colsample_bylevel\": trial.suggest_float(\"colsample_bylevel\", 0.01, 0.1),\n",
    "        \"depth\": trial.suggest_int(\"depth\", 4, 12),\n",
    "        \"boosting_type\": trial.suggest_categorical(\"boosting_type\", [\"Ordered\", \"Plain\"]),\n",
    "        \"bootstrap_type\": trial.suggest_categorical(\"bootstrap_type\", [\"Bayesian\", \"Bernoulli\"]),\n",
    "        \"used_ram_limit\": \"32gb\",\n",
    "        \"eval_metric\": \"AUC\",\n",
    "        \"random_state\": 101,\n",
    "        \"logging_level\": \"Silent\"\n",
    "    }\n",
    "\n",
    "  if param[\"bootstrap_type\"] == \"Bayesian\":\n",
    "    param[\"bagging_temperature\"] = trial.suggest_float(\"bagging_temperature\", 0, 10)\n",
    "  elif param[\"bootstrap_type\"] == \"Bernoulli\":\n",
    "    param[\"subsample\"] = trial.suggest_float(\"subsample\", 0.1, 1, log=True)\n",
    "    \n",
    "  best_cat = CatBoostClassifier(**param)\n",
    "\n",
    "  best_cat.fit(features_train_2, target_train_2, \n",
    "               eval_set=(features_valid_2, target_valid_2), \n",
    "               early_stopping_rounds=20)\n",
    "  target_pred_2 = best_cat.predict_proba(features_valid_2)[:, 1]\n",
    "  score_val = roc_auc_score(target_valid_2, target_pred_2)\n",
    "\n",
    "  return score_val"
   ]
  },
  {
   "cell_type": "markdown",
   "metadata": {},
   "source": [
    "Поиск гиперпараметров занимает огромное количество времени больше 4 часов. Поэтому не будем его запускать, а воспользуемся уже найдеными параметрами."
   ]
  },
  {
   "cell_type": "code",
   "execution_count": 40,
   "metadata": {
    "colab": {
     "base_uri": "https://localhost:8080/",
     "height": 580
    },
    "executionInfo": {
     "elapsed": 1002224,
     "status": "ok",
     "timestamp": 1666632730857,
     "user": {
      "displayName": "Kirill Pribludenko",
      "userId": "11323114555404963403"
     },
     "user_tz": -180
    },
    "id": "kcMrHa3wq18X",
    "outputId": "2ba73fed-5d26-40f7-b63c-d8022a3155d7",
    "scrolled": true
   },
   "outputs": [],
   "source": [
    "# %%time\n",
    "# study = optuna.create_study(study_name=f'catboost-seed{101}', direction=\"maximize\")\n",
    "# study.optimize(objective, n_trials=100, n_jobs=-1)"
   ]
  },
  {
   "cell_type": "markdown",
   "metadata": {
    "id": "oP2Lx9hcMAW3"
   },
   "source": [
    "Лучший скор:"
   ]
  },
  {
   "cell_type": "code",
   "execution_count": 41,
   "metadata": {
    "colab": {
     "base_uri": "https://localhost:8080/"
    },
    "executionInfo": {
     "elapsed": 4,
     "status": "ok",
     "timestamp": 1666632739901,
     "user": {
      "displayName": "Kirill Pribludenko",
      "userId": "11323114555404963403"
     },
     "user_tz": -180
    },
    "id": "lO9fcoBn4hK3",
    "outputId": "be623a6e-2f81-4c48-c697-82b6492b6425"
   },
   "outputs": [],
   "source": [
    "# study.best_value"
   ]
  },
  {
   "cell_type": "markdown",
   "metadata": {
    "id": "e1GiUWO8MSbn"
   },
   "source": [
    "Лучшие параметры:"
   ]
  },
  {
   "cell_type": "code",
   "execution_count": 42,
   "metadata": {
    "colab": {
     "base_uri": "https://localhost:8080/"
    },
    "executionInfo": {
     "elapsed": 1541,
     "status": "ok",
     "timestamp": 1666632744061,
     "user": {
      "displayName": "Kirill Pribludenko",
      "userId": "11323114555404963403"
     },
     "user_tz": -180
    },
    "id": "8djFsP8I4hHg",
    "outputId": "61666878-66d1-49a7-f432-19d4c52cb3f8",
    "scrolled": true
   },
   "outputs": [],
   "source": [
    "# study.best_params"
   ]
  },
  {
   "cell_type": "code",
   "execution_count": 43,
   "metadata": {
    "id": "CY8jPkqeertx"
   },
   "outputs": [],
   "source": [
    "# Запомним полученные параметры Best is trial 31 with value: 0.9719550556418812.\n",
    "# {'objective': 'Logloss', \n",
    "#  'colsample_bylevel': 0.054188649478630675, \n",
    "#  'depth': 10, \n",
    "#  'boosting_type': 'Ordered', \n",
    "#  'bootstrap_type': 'Bernoulli', \n",
    "#  'subsample': 0.2330707011865564}"
   ]
  },
  {
   "cell_type": "markdown",
   "metadata": {
    "id": "mgHzJwGXMXwi"
   },
   "source": [
    "Создадим заново параметры и обучим модель, чтобы сделать предсказания для теста. Использовать сразу лучшую модель из **optuna** для предсказаний (типа как в GridSearch), можно, но очень заморочено. Проще заново обучить модель с найдеными параметрами и сделать предсказания."
   ]
  },
  {
   "cell_type": "code",
   "execution_count": 44,
   "metadata": {
    "executionInfo": {
     "elapsed": 430,
     "status": "ok",
     "timestamp": 1666632766750,
     "user": {
      "displayName": "Kirill Pribludenko",
      "userId": "11323114555404963403"
     },
     "user_tz": -180
    },
    "id": "EV1GQ4c8EnH8"
   },
   "outputs": [],
   "source": [
    "# Задаем параметры, добавляя неоходимые параметры\n",
    "params = {'objective': 'Logloss',\n",
    "          'colsample_bylevel': 0.054188649478630675,\n",
    "          'depth': 10, \n",
    "          'boosting_type': 'Ordered', \n",
    "          'bootstrap_type': 'Bernoulli', \n",
    "          'subsample': 0.2330707011865564}\n",
    "\n",
    "params['eval_metric'] = 'AUC'\n",
    "params['random_state'] = 101\n",
    "params['logging_level'] = 'Silent'"
   ]
  },
  {
   "cell_type": "code",
   "execution_count": 48,
   "metadata": {
    "colab": {
     "base_uri": "https://localhost:8080/"
    },
    "executionInfo": {
     "elapsed": 148895,
     "status": "ok",
     "timestamp": 1666633261456,
     "user": {
      "displayName": "Kirill Pribludenko",
      "userId": "11323114555404963403"
     },
     "user_tz": -180
    },
    "id": "K9A1nMpxEnEH",
    "outputId": "0d0fa9f9-0e13-455f-8ae5-8b0756cea0d4"
   },
   "outputs": [
    {
     "name": "stdout",
     "output_type": "stream",
     "text": [
      "0.9719550556418812\n",
      "Detailed classification report:\n",
      "              precision    recall  f1-score   support\n",
      "\n",
      "           0       1.00      1.00      1.00     49427\n",
      "           1       0.98      0.82      0.89       355\n",
      "\n",
      "    accuracy                           1.00     49782\n",
      "   macro avg       0.99      0.91      0.95     49782\n",
      "weighted avg       1.00      1.00      1.00     49782\n",
      "\n"
     ]
    }
   ],
   "source": [
    "# Обучаем модель с лучшими параметрами\n",
    "best_cat = CatBoostClassifier(**params).fit(features_train_2, target_train_2, \n",
    "                                            eval_set=(features_valid_2, target_valid_2), \n",
    "                                            early_stopping_rounds=20)\n",
    "target_pred_2 = best_cat.predict_proba(features_valid_2)[:, 1]\n",
    "score_val_2 = roc_auc_score(target_valid_2, target_pred_2)\n",
    "print(score_val_2)\n",
    "\n",
    "print(\"Detailed classification report:\") # Дополнительно вывыдем данный отчет\n",
    "target_pred_2 = best_cat.predict(features_valid_2)\n",
    "print(classification_report(target_valid_2, target_pred_2))"
   ]
  },
  {
   "cell_type": "markdown",
   "metadata": {
    "id": "ofzPgI4KOpZe"
   },
   "source": [
    "Заносим очередной результат"
   ]
  },
  {
   "cell_type": "code",
   "execution_count": 49,
   "metadata": {
    "executionInfo": {
     "elapsed": 584,
     "status": "ok",
     "timestamp": 1666633262022,
     "user": {
      "displayName": "Kirill Pribludenko",
      "userId": "11323114555404963403"
     },
     "user_tz": -180
    },
    "id": "kzNbOhBTtyhu"
   },
   "outputs": [],
   "source": [
    "target_pred_2_1 = best_cat.predict_proba(features_test_2)[:, 1]\n",
    "score_test_2 = roc_auc_score(target_test_2, target_pred_2_1)"
   ]
  },
  {
   "cell_type": "code",
   "execution_count": 50,
   "metadata": {
    "colab": {
     "base_uri": "https://localhost:8080/",
     "height": 81
    },
    "executionInfo": {
     "elapsed": 7,
     "status": "ok",
     "timestamp": 1666633262023,
     "user": {
      "displayName": "Kirill Pribludenko",
      "userId": "11323114555404963403"
     },
     "user_tz": -180
    },
    "id": "Ckgt_xYatyhv",
    "outputId": "af848bd3-b750-4155-8b1e-54d4b80e45fa",
    "scrolled": false
   },
   "outputs": [
    {
     "data": {
      "text/html": [
       "<div>\n",
       "<style scoped>\n",
       "    .dataframe tbody tr th:only-of-type {\n",
       "        vertical-align: middle;\n",
       "    }\n",
       "\n",
       "    .dataframe tbody tr th {\n",
       "        vertical-align: top;\n",
       "    }\n",
       "\n",
       "    .dataframe thead th {\n",
       "        text-align: right;\n",
       "    }\n",
       "</style>\n",
       "<table border=\"1\" class=\"dataframe\">\n",
       "  <thead>\n",
       "    <tr style=\"text-align: right;\">\n",
       "      <th></th>\n",
       "      <th>ML_name</th>\n",
       "      <th>ROC_AUC valid</th>\n",
       "      <th>ROC_AUC test</th>\n",
       "    </tr>\n",
       "  </thead>\n",
       "  <tbody>\n",
       "    <tr>\n",
       "      <th>0</th>\n",
       "      <td>TF-IDF + LogReg</td>\n",
       "      <td>0.987668</td>\n",
       "      <td>0.988127</td>\n",
       "    </tr>\n",
       "    <tr>\n",
       "      <th>2</th>\n",
       "      <td>CountVectorizer + Catboost</td>\n",
       "      <td>0.971955</td>\n",
       "      <td>0.969178</td>\n",
       "    </tr>\n",
       "  </tbody>\n",
       "</table>\n",
       "</div>"
      ],
      "text/plain": [
       "                       ML_name  ROC_AUC valid  ROC_AUC test\n",
       "0              TF-IDF + LogReg       0.987668      0.988127\n",
       "2   CountVectorizer + Catboost       0.971955      0.969178"
      ]
     },
     "execution_count": 50,
     "metadata": {},
     "output_type": "execute_result"
    }
   ],
   "source": [
    "result_df.loc[2]=[' CountVectorizer + Catboost', round(score_val_2, 6), round(score_test_2, 6)]\n",
    "result_df.head()"
   ]
  },
  {
   "cell_type": "markdown",
   "metadata": {
    "id": "iIk2BWcpJaL0"
   },
   "source": [
    "## 3.3 Максим"
   ]
  },
  {
   "cell_type": "markdown",
   "metadata": {},
   "source": [
    "Скопируем данные для обучения, валидации и теста в отдельные переменные для вариант fasttext + logreg"
   ]
  },
  {
   "cell_type": "code",
   "execution_count": 53,
   "metadata": {},
   "outputs": [],
   "source": [
    "final_df_ft = final_df.copy()\n",
    "df_train_ft = df_train.copy()\n",
    "df_temp_ft = df_temp.copy()\n",
    "df_valid_ft = df_valid.copy()\n",
    "df_test_ft = df_test.copy()"
   ]
  },
  {
   "cell_type": "code",
   "execution_count": 54,
   "metadata": {},
   "outputs": [
    {
     "name": "stdout",
     "output_type": "stream",
     "text": [
      "Collecting gensim==4.2.0\n",
      "  Downloading gensim-4.2.0-cp39-cp39-win_amd64.whl (23.9 MB)\n",
      "Requirement already satisfied: smart-open>=1.8.1 in c:\\programdata\\anaconda3\\lib\\site-packages (from gensim==4.2.0) (5.1.0)\n",
      "Requirement already satisfied: Cython==0.29.28 in c:\\programdata\\anaconda3\\lib\\site-packages (from gensim==4.2.0) (0.29.28)\n",
      "Requirement already satisfied: numpy>=1.17.0 in c:\\programdata\\anaconda3\\lib\\site-packages (from gensim==4.2.0) (1.21.5)\n",
      "Requirement already satisfied: scipy>=0.18.1 in c:\\programdata\\anaconda3\\lib\\site-packages (from gensim==4.2.0) (1.7.3)\n",
      "Installing collected packages: gensim\n",
      "  Attempting uninstall: gensim\n",
      "    Found existing installation: gensim 4.1.2\n",
      "    Uninstalling gensim-4.1.2:\n",
      "      Successfully uninstalled gensim-4.1.2\n",
      "Successfully installed gensim-4.2.0\n"
     ]
    }
   ],
   "source": [
    "!pip install gensim==4.2.0"
   ]
  },
  {
   "cell_type": "code",
   "execution_count": 55,
   "metadata": {},
   "outputs": [],
   "source": [
    "import nltk\n",
    "from nltk.tokenize import word_tokenize\n",
    "import gensim\n",
    "from gensim.models import FastText"
   ]
  },
  {
   "cell_type": "code",
   "execution_count": 56,
   "metadata": {},
   "outputs": [
    {
     "name": "stderr",
     "output_type": "stream",
     "text": [
      "[nltk_data] Downloading package punkt to\n",
      "[nltk_data]     C:\\Users\\Дима\\AppData\\Roaming\\nltk_data...\n",
      "[nltk_data]   Unzipping tokenizers\\punkt.zip.\n"
     ]
    },
    {
     "data": {
      "text/plain": [
       "True"
      ]
     },
     "execution_count": 56,
     "metadata": {},
     "output_type": "execute_result"
    }
   ],
   "source": [
    "nltk.download('punkt')"
   ]
  },
  {
   "cell_type": "markdown",
   "metadata": {},
   "source": [
    "Функция для разбивки предложения на отдельные слова"
   ]
  },
  {
   "cell_type": "code",
   "execution_count": 57,
   "metadata": {},
   "outputs": [],
   "source": [
    "def tokenized_sentence(sentence):\n",
    "    words = []\n",
    "    if not sentence: \n",
    "      words.append(' ')\n",
    "    else:\n",
    "      for word in word_tokenize(sentence):\n",
    "        words.append(word) \n",
    "    return words"
   ]
  },
  {
   "cell_type": "markdown",
   "metadata": {},
   "source": [
    "Обучаем fasttext"
   ]
  },
  {
   "cell_type": "code",
   "execution_count": 58,
   "metadata": {},
   "outputs": [],
   "source": [
    "corpus = df_train_ft['full_name'].apply(lambda x: tokenized_sentence(x))\n",
    "fast_text_model = gensim.models.FastText(corpus, min_count = 1, window = 5)"
   ]
  },
  {
   "cell_type": "markdown",
   "metadata": {},
   "source": [
    "Векторное представление данных"
   ]
  },
  {
   "cell_type": "code",
   "execution_count": 59,
   "metadata": {},
   "outputs": [],
   "source": [
    "def sent_vector(word):\n",
    "    if not word: word = [' ']\n",
    "    return np.mean(fast_text_model.wv[word], axis=0)"
   ]
  },
  {
   "cell_type": "markdown",
   "metadata": {},
   "source": [
    "Данные для обучения"
   ]
  },
  {
   "cell_type": "code",
   "execution_count": 60,
   "metadata": {},
   "outputs": [],
   "source": [
    "features_train = [sent_vector(word) for word in corpus]\n",
    "target_train = df_train_ft['is_duplicate']"
   ]
  },
  {
   "cell_type": "markdown",
   "metadata": {},
   "source": [
    "Данные для валидации"
   ]
  },
  {
   "cell_type": "code",
   "execution_count": 61,
   "metadata": {},
   "outputs": [],
   "source": [
    "corpus = df_valid_ft['full_name'].apply(lambda x: tokenized_sentence(x))\n",
    "features_valid = [sent_vector(word) for word in corpus]\n",
    "target_valid = df_valid_ft['is_duplicate']"
   ]
  },
  {
   "cell_type": "markdown",
   "metadata": {},
   "source": [
    "Данные для теста"
   ]
  },
  {
   "cell_type": "code",
   "execution_count": 62,
   "metadata": {},
   "outputs": [],
   "source": [
    "corpus = df_test_ft['full_name'].apply(lambda x: tokenized_sentence(x))\n",
    "features_test = [sent_vector(word) for word in corpus]\n",
    "target_test = df_test_ft['is_duplicate']"
   ]
  },
  {
   "cell_type": "markdown",
   "metadata": {},
   "source": [
    "Логистическая регрессия"
   ]
  },
  {
   "cell_type": "code",
   "execution_count": 65,
   "metadata": {},
   "outputs": [],
   "source": [
    "logreg_ft = LogisticRegression(solver='sag', max_iter=1000, random_state=101)\n",
    "\n",
    "tuned_parameters = {\"C\": np.logspace(-2, 2, 10)}\n",
    "\n",
    "best_logreg = GridSearchCV(logreg_ft, param_grid=tuned_parameters, scoring='roc_auc',\n",
    "                           cv=5, n_jobs=-1).fit(features_train, target_train)\n",
    "\n",
    "target_pred_valid = best_logreg.predict_proba(features_valid)[:, 1]\n",
    "score_val_ft = roc_auc_score(target_valid, target_pred_valid)\n",
    "\n",
    "target_pred_test = best_logreg.predict_proba(features_test)[:, 1]\n",
    "score_test_ft = roc_auc_score(target_test, target_pred_test)"
   ]
  },
  {
   "cell_type": "markdown",
   "metadata": {},
   "source": [
    "Добавляем результат в таблицу"
   ]
  },
  {
   "cell_type": "code",
   "execution_count": 66,
   "metadata": {},
   "outputs": [
    {
     "data": {
      "text/html": [
       "<div>\n",
       "<style scoped>\n",
       "    .dataframe tbody tr th:only-of-type {\n",
       "        vertical-align: middle;\n",
       "    }\n",
       "\n",
       "    .dataframe tbody tr th {\n",
       "        vertical-align: top;\n",
       "    }\n",
       "\n",
       "    .dataframe thead th {\n",
       "        text-align: right;\n",
       "    }\n",
       "</style>\n",
       "<table border=\"1\" class=\"dataframe\">\n",
       "  <thead>\n",
       "    <tr style=\"text-align: right;\">\n",
       "      <th></th>\n",
       "      <th>ML_name</th>\n",
       "      <th>ROC_AUC valid</th>\n",
       "      <th>ROC_AUC test</th>\n",
       "    </tr>\n",
       "  </thead>\n",
       "  <tbody>\n",
       "    <tr>\n",
       "      <th>0</th>\n",
       "      <td>TF-IDF + LogReg</td>\n",
       "      <td>0.987668</td>\n",
       "      <td>0.988127</td>\n",
       "    </tr>\n",
       "    <tr>\n",
       "      <th>2</th>\n",
       "      <td>CountVectorizer + Catboost</td>\n",
       "      <td>0.971955</td>\n",
       "      <td>0.969178</td>\n",
       "    </tr>\n",
       "    <tr>\n",
       "      <th>3</th>\n",
       "      <td>FastText + LogReg</td>\n",
       "      <td>0.949958</td>\n",
       "      <td>0.937622</td>\n",
       "    </tr>\n",
       "  </tbody>\n",
       "</table>\n",
       "</div>"
      ],
      "text/plain": [
       "                       ML_name  ROC_AUC valid  ROC_AUC test\n",
       "0              TF-IDF + LogReg       0.987668      0.988127\n",
       "2   CountVectorizer + Catboost       0.971955      0.969178\n",
       "3            FastText + LogReg       0.949958      0.937622"
      ]
     },
     "execution_count": 66,
     "metadata": {},
     "output_type": "execute_result"
    }
   ],
   "source": [
    "result_df.loc[3]=['FastText + LogReg', round(score_val_ft, 6), round(score_test_ft, 6)]\n",
    "result_df.head()"
   ]
  },
  {
   "cell_type": "markdown",
   "metadata": {},
   "source": [
    "# 4 Поиск соседнего вектора"
   ]
  },
  {
   "cell_type": "markdown",
   "metadata": {},
   "source": [
    "Поиск дубликата будем искать через евклидово расстояние между Вводимым значением и колонкой `name_1`"
   ]
  },
  {
   "cell_type": "code",
   "execution_count": 106,
   "metadata": {},
   "outputs": [
    {
     "data": {
      "text/html": [
       "<div>\n",
       "<style scoped>\n",
       "    .dataframe tbody tr th:only-of-type {\n",
       "        vertical-align: middle;\n",
       "    }\n",
       "\n",
       "    .dataframe tbody tr th {\n",
       "        vertical-align: top;\n",
       "    }\n",
       "\n",
       "    .dataframe thead th {\n",
       "        text-align: right;\n",
       "    }\n",
       "</style>\n",
       "<table border=\"1\" class=\"dataframe\">\n",
       "  <thead>\n",
       "    <tr style=\"text-align: right;\">\n",
       "      <th></th>\n",
       "      <th>name_1</th>\n",
       "      <th>name_2</th>\n",
       "      <th>is_duplicate</th>\n",
       "      <th>full_name</th>\n",
       "    </tr>\n",
       "  </thead>\n",
       "  <tbody>\n",
       "    <tr>\n",
       "      <th>202074</th>\n",
       "      <td>khawaja establishment</td>\n",
       "      <td>seabiz international</td>\n",
       "      <td>0</td>\n",
       "      <td>khawaja establishment seabiz international</td>\n",
       "    </tr>\n",
       "    <tr>\n",
       "      <th>235920</th>\n",
       "      <td>ld global logistics</td>\n",
       "      <td>allsop</td>\n",
       "      <td>0</td>\n",
       "      <td>ld global logistics allsop</td>\n",
       "    </tr>\n",
       "    <tr>\n",
       "      <th>70450</th>\n",
       "      <td>super tex indtries</td>\n",
       "      <td>eaton indtries</td>\n",
       "      <td>0</td>\n",
       "      <td>super tex indtries eaton indtries</td>\n",
       "    </tr>\n",
       "    <tr>\n",
       "      <th>320861</th>\n",
       "      <td>eurovia czechy</td>\n",
       "      <td>repsol</td>\n",
       "      <td>0</td>\n",
       "      <td>eurovia czechy repsol</td>\n",
       "    </tr>\n",
       "    <tr>\n",
       "      <th>466716</th>\n",
       "      <td>stecore agement services</td>\n",
       "      <td>gee sales</td>\n",
       "      <td>0</td>\n",
       "      <td>stecore agement services gee sales</td>\n",
       "    </tr>\n",
       "  </tbody>\n",
       "</table>\n",
       "</div>"
      ],
      "text/plain": [
       "                          name_1                name_2 is_duplicate  \\\n",
       "202074     khawaja establishment  seabiz international            0   \n",
       "235920       ld global logistics                allsop            0   \n",
       "70450         super tex indtries        eaton indtries            0   \n",
       "320861            eurovia czechy                repsol            0   \n",
       "466716  stecore agement services             gee sales            0   \n",
       "\n",
       "                                         full_name  \n",
       "202074  khawaja establishment seabiz international  \n",
       "235920                  ld global logistics allsop  \n",
       "70450            super tex indtries eaton indtries  \n",
       "320861                       eurovia czechy repsol  \n",
       "466716          stecore agement services gee sales  "
      ]
     },
     "execution_count": 106,
     "metadata": {},
     "output_type": "execute_result"
    }
   ],
   "source": [
    "temp_df = final_df.sample(30)\n",
    "temp_df.head()"
   ]
  },
  {
   "cell_type": "code",
   "execution_count": 107,
   "metadata": {},
   "outputs": [],
   "source": [
    "search_name = 'overseas transporte y'"
   ]
  },
  {
   "cell_type": "code",
   "execution_count": 108,
   "metadata": {},
   "outputs": [],
   "source": [
    "search_tab = temp_df['name_1']"
   ]
  },
  {
   "cell_type": "code",
   "execution_count": 109,
   "metadata": {},
   "outputs": [],
   "source": [
    "corpus = search_tab.values.astype('U')\n",
    "search_tab_v = count_tf_idf.transform(corpus)\n",
    "search_name_v = count_tf_idf.transform(np.array(list(search_name)))"
   ]
  },
  {
   "cell_type": "code",
   "execution_count": 110,
   "metadata": {},
   "outputs": [],
   "source": [
    "from sklearn.metrics import pairwise_distances"
   ]
  },
  {
   "cell_type": "code",
   "execution_count": 111,
   "metadata": {},
   "outputs": [
    {
     "name": "stdout",
     "output_type": "stream",
     "text": [
      "Индекс наиболее совпадающей компании: [[ 8 19  4  7 13  6 11 17  9  0 15 18  2  5 16 10  3 14 12 20  1]]\n"
     ]
    }
   ],
   "source": [
    "distances = [pairwise_distances(search_tab_v[x], search_name_v) for x in range(search_tab_v.shape[0])]\n",
    "\n",
    "best_index = np.array(distances).argsort()[1]\n",
    "\n",
    "print(\"Индекс наиболее совпадающей компании:\", best_index)"
   ]
  },
  {
   "cell_type": "markdown",
   "metadata": {
    "id": "9dq9DpGJJfId"
   },
   "source": [
    "# Итоговые результаты и вывод"
   ]
  },
  {
   "cell_type": "markdown",
   "metadata": {
    "id": "hOEPwawFNl9n"
   },
   "source": [
    "Показать табличку и написать словами, какой результат лучший"
   ]
  },
  {
   "cell_type": "code",
   "execution_count": null,
   "metadata": {
    "id": "7ADjb6hNJiqD"
   },
   "outputs": [],
   "source": []
  }
 ],
 "metadata": {
  "accelerator": "GPU",
  "colab": {
   "collapsed_sections": [
    "Iprxrqq8GTjP",
    "_HvSsYgOrcxN"
   ],
   "provenance": []
  },
  "kernelspec": {
   "display_name": "Python 3 (ipykernel)",
   "language": "python",
   "name": "python3"
  },
  "language_info": {
   "codemirror_mode": {
    "name": "ipython",
    "version": 3
   },
   "file_extension": ".py",
   "mimetype": "text/x-python",
   "name": "python",
   "nbconvert_exporter": "python",
   "pygments_lexer": "ipython3",
   "version": "3.9.12"
  }
 },
 "nbformat": 4,
 "nbformat_minor": 1
}
